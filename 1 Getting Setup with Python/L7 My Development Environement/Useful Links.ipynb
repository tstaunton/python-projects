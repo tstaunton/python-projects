{
 "cells": [
  {
   "cell_type": "markdown",
   "id": "462d7e96",
   "metadata": {},
   "source": [
    "- [macOS Terminal Cheat Sheet](https://cheatography.com/davechild/cheat-sheets/linux-command-line/)"
   ]
  },
  {
   "cell_type": "markdown",
   "id": "6993ac78",
   "metadata": {},
   "source": [
    "- [Windows Command Line Cheat Sheet](https://serverspace.io/support/help/windows-cmd-commands-cheat-sheet/)"
   ]
  },
  {
   "cell_type": "markdown",
   "id": "e8a1631c",
   "metadata": {},
   "source": [
    "- [Python Cheat Sheet](https://cheatography.com/davechild/cheat-sheets/python/)"
   ]
  },
  {
   "cell_type": "markdown",
   "id": "644b8b91",
   "metadata": {},
   "source": [
    "- [Git Cheat Sheet](https://cheatography.com/samcollett/cheat-sheets/git/)"
   ]
  },
  {
   "cell_type": "markdown",
   "id": "bfddf448",
   "metadata": {},
   "source": [
    "- [Python Virtual Environment Cheat Sheet](https://cheatography.com/ilyes64/cheat-sheets/python-virtual-environments/)"
   ]
  },
  {
   "cell_type": "markdown",
   "id": "2b1d654e",
   "metadata": {},
   "source": [
    "- [Python Development Best Practices Cheat Sheet](https://cheatography.com/ilyes64/cheat-sheets/python-software-engineering-best-practices/)"
   ]
  },
  {
   "cell_type": "markdown",
   "id": "adae6681",
   "metadata": {},
   "source": [
    "- [Markdown Cheat Sheet](https://cheatography.com/lucbpz/cheat-sheets/the-ultimate-markdown/)"
   ]
  },
  {
   "cell_type": "markdown",
   "id": "cd377a0e",
   "metadata": {},
   "source": [
    "- [Getting Help: Stack Overflow](https://stackoverflow.com)"
   ]
  },
  {
   "cell_type": "markdown",
   "id": "87270a6b",
   "metadata": {},
   "source": [
    "- [Version Control With Git](https://git-scm.com)"
   ]
  },
  {
   "cell_type": "markdown",
   "id": "ef5a5efa",
   "metadata": {},
   "source": [
    "- [My GitHub Page](https://github.com/tstaunton)"
   ]
  },
  {
   "cell_type": "markdown",
   "id": "bc24833b",
   "metadata": {},
   "source": [
    "- [Sublime Text Editor](https://www.sublimetext.com)"
   ]
  },
  {
   "cell_type": "markdown",
   "id": "76c077bc",
   "metadata": {},
   "source": [
    "- [Python Enhancement Proposals](https://peps.python.org)"
   ]
  },
  {
   "cell_type": "code",
   "execution_count": null,
   "id": "41e3a5bb",
   "metadata": {},
   "outputs": [],
   "source": []
  }
 ],
 "metadata": {
  "kernelspec": {
   "display_name": "Python 3 (ipykernel)",
   "language": "python",
   "name": "python3"
  },
  "language_info": {
   "codemirror_mode": {
    "name": "ipython",
    "version": 3
   },
   "file_extension": ".py",
   "mimetype": "text/x-python",
   "name": "python",
   "nbconvert_exporter": "python",
   "pygments_lexer": "ipython3",
   "version": "3.9.12"
  }
 },
 "nbformat": 4,
 "nbformat_minor": 5
}
