{
 "cells": [
  {
   "cell_type": "markdown",
   "id": "ca9f1053",
   "metadata": {},
   "source": [
    "# Virtual Environments\n",
    "\n",
    "To create a virtaual environment, first navigate to the project folder. Enter the command:\n",
    "\n",
    "__macOS:__ *python3 -m venv virtual_environment_name*\n",
    "\n",
    "__Windows:__ *python -m venv virtual_enviroment_name*\n",
    "\n",
    "To activate a virtual environment, enter the command:\n",
    "\n",
    "__macOS:__ *source virtual_environment_name/bin/activate*\n",
    "\n",
    "__Windows:__ *virtual_environment_name\\Scripts\\activate*\n",
    "\n",
    "Once a virtual environment has been activated you can check the list of installed packages using:\n",
    "\n",
    "*pip list*\n",
    "\n",
    "To add a new package, use the command:\n",
    "\n",
    "__macOS:__ *pip install package_name*\n",
    "\n",
    "__Windows:__ *pip install package_name*\n",
    "\n",
    "To deactivate a virtual environment, use the following command:\n",
    "\n",
    "__macOS:__ *deactivate*\n",
    "\n",
    "__Windows:__ *deactivate*\n",
    "\n",
    "To list virtual environments in Conda, use the following command:\n",
    "\n",
    "*conda info --envs*\n",
    "\n",
    "***"
   ]
  },
  {
   "cell_type": "markdown",
   "id": "ce3f471c",
   "metadata": {},
   "source": [
    "## Stop conda base environment running by default\n",
    "\n",
    "Run the following command in the terminal or command line\"\n",
    "\n",
    "*conda config --set auto_activate_base False*"
   ]
  },
  {
   "cell_type": "markdown",
   "id": "b0c533e5",
   "metadata": {},
   "source": [
    "## Helpful links\n",
    "\n",
    "- https://docs.python.org/3/tutorial/venv.html\n",
    "\n",
    "- https://code.visualstudio.com/docs/python/environments"
   ]
  },
  {
   "cell_type": "code",
   "execution_count": null,
   "id": "a0665e49",
   "metadata": {},
   "outputs": [],
   "source": []
  }
 ],
 "metadata": {
  "kernelspec": {
   "display_name": "Python 3 (ipykernel)",
   "language": "python",
   "name": "python3"
  },
  "language_info": {
   "codemirror_mode": {
    "name": "ipython",
    "version": 3
   },
   "file_extension": ".py",
   "mimetype": "text/x-python",
   "name": "python",
   "nbconvert_exporter": "python",
   "pygments_lexer": "ipython3",
   "version": "3.9.12"
  }
 },
 "nbformat": 4,
 "nbformat_minor": 5
}
