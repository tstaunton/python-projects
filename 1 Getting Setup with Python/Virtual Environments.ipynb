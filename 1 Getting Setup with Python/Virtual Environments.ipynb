{
 "cells": [
  {
   "cell_type": "markdown",
   "id": "dc497750",
   "metadata": {},
   "source": [
    "# Virtual Environments\n",
    "\n",
    "To create a virtaual environment, first navigate to the project folder. Enter the command:\n",
    "\n",
    "*python3 -m venv virtual_environment_name*\n",
    "\n",
    "To activate a virtual environment, enter the command:\n",
    "\n",
    "*source virtual_environment_name/bin/activate*\n",
    "\n",
    "Once a virtual environment has been activated you can check the list of installed packages using:\n",
    "\n",
    "*pip list*\n",
    "\n",
    "To add a new package, use the command:\n",
    "\n",
    "*pip install package_name*\n",
    "\n",
    "To deactivate a virtual environment, use the following command:\n",
    "\n",
    "*deactivate*\n",
    "\n",
    "To list virtual environments in Conda, use the following command:\n",
    "\n",
    "*conda info --envs*\n",
    "\n",
    "***"
   ]
  },
  {
   "cell_type": "markdown",
   "id": "f947fd16",
   "metadata": {},
   "source": [
    "## Stop conda base environment running by default\n",
    "\n",
    "Run the following command in the terminal or command line\"\n",
    "\n",
    "*conda config --set auto_activate_base False*"
   ]
  }
 ],
 "metadata": {
  "kernelspec": {
   "display_name": "Python 3 (ipykernel)",
   "language": "python",
   "name": "python3"
  },
  "language_info": {
   "codemirror_mode": {
    "name": "ipython",
    "version": 3
   },
   "file_extension": ".py",
   "mimetype": "text/x-python",
   "name": "python",
   "nbconvert_exporter": "python",
   "pygments_lexer": "ipython3",
   "version": "3.9.12"
  }
 },
 "nbformat": 4,
 "nbformat_minor": 5
}
