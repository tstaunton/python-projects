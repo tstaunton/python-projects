{
 "cells": [
  {
   "cell_type": "markdown",
   "metadata": {},
   "source": [
    "# Introduction\n",
    "\n",
    "In this video we're going to learn about Python Lists and how to work with items within the lists we create. Lists do exactly what they say, they store information in one place. A list can be two pieces of information or millions of pieces. You'll come to see and value how powerful lists are as you start to use them. As your Python experience grows you are going to be using lists a lot, and you'll learn how they are used across the Python programming world in areas such as data science and analysis and web development. Let's get started.\n",
    "\n",
    "## What makes a list?\n",
    "\n",
    "Think of a shopping list, it's made up of items, usually one line at a time. The items on your shopping list are created using letters, numbers, names of products to buy, and maybe the odd exclamation mark. Basically, you can put anything you want on your shopping list and they can be completley unrelated. You could have a shopping list for different shops with different items to buy in each shop on your list. The items on your list don't need to be in any particular order either.\n",
    "\n",
    "Because lists usually contain more than one item in them it's good practice to name your lists in the plural:\n",
    "\n",
    "- planes\n",
    "- trains\n",
    "- automobiles\n",
    "- names\n",
    "- staff\n",
    "- groceries\n",
    "\n",
    "## Creating lists in Pyton\n",
    "\n",
    "In Pyton, lists are created using square brackets ([  ]). Items or what we are now going to call elements within a list are seperated by a comma (,). Let's take a look:"
   ]
  },
  {
   "cell_type": "code",
   "execution_count": 29,
   "metadata": {},
   "outputs": [
    {
     "name": "stdout",
     "output_type": "stream",
     "text": [
      "['ford', 'tesla', 'toyota']\n"
     ]
    }
   ],
   "source": [
    "# Python list example with theree elements\n",
    "cars = ['ford', 'tesla', 'toyota']\n",
    "print(cars)"
   ]
  },
  {
   "cell_type": "markdown",
   "metadata": {},
   "source": [
    "If you are an end user, square brackets and quoatation marks, is not the output that you want to see on screen.\n",
    "\n",
    "## How to access individual elements of a list\n",
    "\n",
    "Every item or element in a list has a position, this position is called the index. You can access each element in a list by telling Python the index that you wish to access. Let's take a look at how this is done:"
   ]
  },
  {
   "cell_type": "code",
   "execution_count": 30,
   "metadata": {},
   "outputs": [
    {
     "name": "stdout",
     "output_type": "stream",
     "text": [
      "ford\n"
     ]
    }
   ],
   "source": [
    "# How to access individual elements of a list\n",
    "cars = ['ford', 'tesla', 'toyota']\n",
    "print(cars[0])"
   ]
  },
  {
   "cell_type": "markdown",
   "metadata": {},
   "source": [
    "As you can see, to access an element of a list, you write the name of the list, followed by the index of the element to access in square brackets. To output the index to screen I have used a print statement. Also note, the element was returned without quotation marks or square brackets.\n",
    "\n",
    "In a previous video we looked at string methods. You'll be glad to hear that they can be used with lists."
   ]
  },
  {
   "cell_type": "code",
   "execution_count": 31,
   "metadata": {},
   "outputs": [
    {
     "name": "stdout",
     "output_type": "stream",
     "text": [
      "Tesla\n"
     ]
    }
   ],
   "source": [
    "# Python lists with string methods\n",
    "cars = ['ford', 'tesla', 'toyota']\n",
    "print(cars[1].title())"
   ]
  },
  {
   "cell_type": "markdown",
   "metadata": {},
   "source": [
    "## List index\n",
    "\n",
    "When using and accessing lists in Python, the first item in a list is at position 0, not position 1. In the list of cars above, this means:\n",
    "\n",
    "|Item in list| Position in list|\n",
    "|-----|-----|\n",
    "|ford|0|\n",
    "|tesla|1|\n",
    "|toyota|2|\n",
    "\n",
    "You'll find that this ordering of lists is the same in most programming languages. \n",
    "\n",
    "To access items in our cars list at positions 0 and 2 we write:"
   ]
  },
  {
   "cell_type": "code",
   "execution_count": 32,
   "metadata": {},
   "outputs": [
    {
     "name": "stdout",
     "output_type": "stream",
     "text": [
      "ford\n",
      "toyota\n"
     ]
    }
   ],
   "source": [
    "# Accessing more then one element in a Pyton list\n",
    "cars = ['ford', 'tesla', 'toyota']\n",
    "print(cars[0])\n",
    "print(cars[2])"
   ]
  },
  {
   "cell_type": "markdown",
   "metadata": {},
   "source": [
    "Imagine you have a list that contains hundreds or thousands of items and you want to access the last item on the list. Without counting every item and determing the last position in the list how would you do that? Python has a specific syntax for this task. Let's take a look:"
   ]
  },
  {
   "cell_type": "code",
   "execution_count": 33,
   "metadata": {},
   "outputs": [
    {
     "name": "stdout",
     "output_type": "stream",
     "text": [
      "jeep\n"
     ]
    }
   ],
   "source": [
    "# Accessing the last element in a Pyton list\n",
    "cars = ['ford', 'tesla', 'toyota', 'dodge', 'bmw', 'honda', 'jeep']\n",
    "print(cars[-1])"
   ]
  },
  {
   "cell_type": "markdown",
   "metadata": {},
   "source": [
    "Now we can access the last item on the list without knowing how long the list is. As you move into the areas of data science and data analysis you will find this syntax very helpful as you are sometimes given lists that contain millions of items.\n",
    "\n",
    "We can also use the same negative index syntax to find other items at the end of a list:"
   ]
  },
  {
   "cell_type": "code",
   "execution_count": 34,
   "metadata": {},
   "outputs": [
    {
     "name": "stdout",
     "output_type": "stream",
     "text": [
      "honda\n",
      "bmw\n"
     ]
    }
   ],
   "source": [
    "# Using negative syntax to access elements in a Pyton list\n",
    "cars = ['ford', 'tesla', 'toyota', 'dodge', 'bmw', 'honda', 'jeep']\n",
    "print(cars[-2])\n",
    "print(cars[-3])"
   ]
  },
  {
   "cell_type": "markdown",
   "metadata": {},
   "source": [
    "Something important to point out here is that when accessing the last item on a list it is not at position -0. The last item on a list is only accessed with -1."
   ]
  },
  {
   "cell_type": "markdown",
   "metadata": {},
   "source": [
    "## Using items from a list\n",
    "\n",
    "Now that you know how to access the indivial items in a list it's time to start learning how to make use of them. Individual items from a list can be used just as would use other variables. We can use f-strings to create a sentence based on items in our list. Let's see how:"
   ]
  },
  {
   "cell_type": "code",
   "execution_count": 35,
   "metadata": {},
   "outputs": [
    {
     "name": "stdout",
     "output_type": "stream",
     "text": [
      "Welcome to the car showroom, here we sell, Tesla, and Dodge.\n"
     ]
    }
   ],
   "source": [
    "# Using elements from a list\n",
    "cars = ['ford', 'tesla', 'toyota', 'dodge', 'bmw', 'honda', 'jeep']\n",
    "message = f\"Welcome to the car showroom, here we sell, {cars[1].title()}, and {cars[3].title()}.\"\n",
    "print(message)"
   ]
  },
  {
   "cell_type": "markdown",
   "metadata": {},
   "source": [
    "In this example we have created a simple welcome message in which we pulled items from positions 1 and 3 of our car lists, assigned this message to a variable and printed it out."
   ]
  },
  {
   "cell_type": "markdown",
   "metadata": {},
   "source": [
    "## Exercises\n",
    "\n",
    "1. Create your own list of days of the week and print out each day of the week by individually accessing each item in the list.\n",
    "2. From your list of days of the week, print out the weekdays and weekend days.\n",
    "3. From your list of days of the week print a message containing something relevant to you, for example, \"On Monday I am going on my holidays."
   ]
  },
  {
   "cell_type": "markdown",
   "metadata": {},
   "source": [
    "## Changing, adding and removing elements from a list\n",
    "\n",
    "As you become a more proficient Python programmer the majority of lists that you work with will not be simple static lists as above. You will need to know how to dynamically work with lists. For example, imagine you own a company and have two lists, a product list and a staff list. Both of these lists will change regularly as you add new products and staff members. \n",
    "\n",
    "## Modifying items in a list\n",
    "\n",
    "To modify elements in a list we will be using similar code to that of accessing items in a list. Let's take look:"
   ]
  },
  {
   "cell_type": "code",
   "execution_count": 36,
   "metadata": {},
   "outputs": [
    {
     "name": "stdout",
     "output_type": "stream",
     "text": [
      "['aple', 'orange', 'lemon', 'lime', 'banana']\n"
     ]
    }
   ],
   "source": [
    "# Modifying an item in a list\n",
    "fruit_products = ['aple', 'orange', 'lemon', 'lime', 'banana']\n",
    "print(fruit_products)"
   ]
  },
  {
   "cell_type": "markdown",
   "metadata": {},
   "source": [
    "As you can see in the code above, we have a spelling mistake at index 0. Apple is incorrectly spelt as 'aple'. Let's fix that:"
   ]
  },
  {
   "cell_type": "code",
   "execution_count": 37,
   "metadata": {},
   "outputs": [
    {
     "name": "stdout",
     "output_type": "stream",
     "text": [
      "['aple', 'orange', 'lemon', 'lime', 'banana']\n",
      "['apple', 'orange', 'lemon', 'lime', 'banana']\n"
     ]
    }
   ],
   "source": [
    "# Modifying an item in a list\n",
    "fruit_products = ['aple', 'orange', 'lemon', 'lime', 'banana']\n",
    "print(fruit_products)\n",
    "\n",
    "fruit_products[0] = 'apple'\n",
    "print(fruit_products)"
   ]
  },
  {
   "cell_type": "markdown",
   "metadata": {},
   "source": [
    "In the code above, to change an element we use the name of the list followed by the index of the item we want to change, we then assign to it the new value, in this example 'apple'. You can change any element of a list with this approach, not just the first one."
   ]
  },
  {
   "cell_type": "code",
   "execution_count": 38,
   "metadata": {},
   "outputs": [
    {
     "name": "stdout",
     "output_type": "stream",
     "text": [
      "['aple', 'orange', 'lemon', 'lime', 'banana']\n",
      "['tomatoe', 'orange', 'lemon', 'lime', 'banana']\n"
     ]
    }
   ],
   "source": [
    "# Modifying an item in a list\n",
    "fruit_products = ['aple', 'orange', 'lemon', 'lime', 'banana']\n",
    "print(fruit_products)\n",
    "\n",
    "fruit_products[0] = 'tomatoe'\n",
    "print(fruit_products)"
   ]
  },
  {
   "cell_type": "markdown",
   "metadata": {},
   "source": [
    "## Adding items to a list\n",
    "\n",
    "Rather than correct or replace an item in a list as we did in the previous code examples you may want to add a new item to a list. Perhaps a new staff member has joined your company. In Python there are several ways to achieve this, let's take a look.\n",
    "\n",
    "### Appending elements to a list\n",
    "\n",
    "Using the append() method is one of the easiest ways to add to a list in Python. When you append to a list, the item that you append gets added to the end of the list."
   ]
  },
  {
   "cell_type": "code",
   "execution_count": 39,
   "metadata": {},
   "outputs": [
    {
     "name": "stdout",
     "output_type": "stream",
     "text": [
      "['jane', 'tony', 'mark']\n",
      "['jane', 'tony', 'mark', 'mary']\n"
     ]
    }
   ],
   "source": [
    "# Appending an element to a list\n",
    "team_members = ['jane', 'tony', 'mark']\n",
    "print(team_members)\n",
    "\n",
    "team_members.append('mary')\n",
    "print(team_members)"
   ]
  },
  {
   "cell_type": "markdown",
   "metadata": {},
   "source": [
    "As you can see, we've added the name 'mary' to the list __team_members__ without impacting any other items in the list.\n",
    "\n",
    "Imagine that you have an email list, and it's empty. You ask people to subscribe to your newsletter with their email address. Where do these email addresses go?"
   ]
  },
  {
   "cell_type": "code",
   "execution_count": 40,
   "metadata": {},
   "outputs": [
    {
     "name": "stdout",
     "output_type": "stream",
     "text": [
      "['tony@example.com', 'jane@test.com', 'mary@sample.com']\n"
     ]
    }
   ],
   "source": [
    "# Using the append() method on an empty list\n",
    "\n",
    "#Initialize an empty list\n",
    "emails = []\n",
    "\n",
    "# Append email addresses to emails list\n",
    "emails.append('tony@example.com')\n",
    "emails.append('jane@test.com')\n",
    "emails.append('mary@sample.com')\n",
    "\n",
    "# Print emails list\n",
    "print(emails)"
   ]
  },
  {
   "cell_type": "markdown",
   "metadata": {},
   "source": [
    "### Inserting items into a list\n",
    "\n",
    "We can add new items to a list at any position by using the __insert()__ method. Let's take a look:"
   ]
  },
  {
   "cell_type": "code",
   "execution_count": 41,
   "metadata": {},
   "outputs": [
    {
     "name": "stdout",
     "output_type": "stream",
     "text": [
      "['jane', 'tony', 'mark']\n",
      "['alice', 'jane', 'tony', 'mark']\n"
     ]
    }
   ],
   "source": [
    "# Insert an element into a list\n",
    "team_members = ['jane', 'tony', 'mark']\n",
    "print(team_members)\n",
    "\n",
    "# Insert a new team member\n",
    "team_members.insert(0, 'alice')\n",
    "print(team_members)"
   ]
  },
  {
   "cell_type": "markdown",
   "metadata": {},
   "source": [
    "As mentioned in a previous video, methods act on the code that they are called upon. In this example the __insert()__ method has acted on the __team_members__ list by moving all items in the list one position to the right and inserting the value passed to the method, 'alice'.\n",
    "\n",
    "### Removing items from a list\n",
    "\n",
    "How do we remove an item from a list? Let's say a member of our team, 'jane' has left the company. We now need to remove her from our list of team members.\n",
    "\n",
    "#### del statement\n",
    "\n",
    "If you know the position of the item within the list that you would like to remove, you can use the __del__ statement."
   ]
  },
  {
   "cell_type": "code",
   "execution_count": 42,
   "metadata": {},
   "outputs": [
    {
     "name": "stdout",
     "output_type": "stream",
     "text": [
      "['jane', 'tony', 'mark']\n",
      "['tony', 'mark']\n"
     ]
    }
   ],
   "source": [
    "# Removing an item from a list\n",
    "team_members = ['jane', 'tony', 'mark']\n",
    "print(team_members)\n",
    "\n",
    "del team_members[0]\n",
    "print(team_members)"
   ]
  },
  {
   "cell_type": "markdown",
   "metadata": {},
   "source": [
    "With the __del__ statement you can remove an item from any position in a list, so long as you know its postion or index."
   ]
  },
  {
   "cell_type": "code",
   "execution_count": 43,
   "metadata": {},
   "outputs": [
    {
     "name": "stdout",
     "output_type": "stream",
     "text": [
      "['jane', 'tony', 'mark']\n",
      "['jane', 'tony']\n"
     ]
    }
   ],
   "source": [
    "# Removing an item from a list\n",
    "team_members = ['jane', 'tony', 'mark']\n",
    "print(team_members)\n",
    "\n",
    "del team_members[2]\n",
    "print(team_members)"
   ]
  },
  {
   "cell_type": "markdown",
   "metadata": {},
   "source": [
    "Once you have used the __del__ statement in a list you will no longer have access to that element.\n",
    "\n",
    "### Removing an item using the pop() method\n",
    "\n",
    "In the last code example above, we removed 'mark' from our team members list and by using the __del__ statement we no longer have access to that element. But what if we need access to the element? We have removed 'mark' but we may still need to do something with his name such as passing it our HR system or to payroll with a notice of his employment coming to an end.\n",
    "\n",
    "For when we need access to an element removed from a list we can use the __pop()__ method. This method removes the __last__ item from a list but allows you to keep working with it. Why is it called pop? Think if a list in Python as a stack, with the pop() method you are popping one item from the end of the stack."
   ]
  },
  {
   "cell_type": "code",
   "execution_count": 44,
   "metadata": {},
   "outputs": [
    {
     "name": "stdout",
     "output_type": "stream",
     "text": [
      "['jane', 'tony', 'mark']\n",
      "['jane', 'tony']\n",
      "mark\n"
     ]
    }
   ],
   "source": [
    "# Using Python's pop() method\n",
    "team_members = ['jane', 'tony', 'mark']\n",
    "print(team_members)\n",
    "\n",
    "# Create a new variable\n",
    "popped_team_members = team_members.pop()\n",
    "\n",
    "# Print list with last item removed\n",
    "print(team_members)\n",
    "\n",
    "# Print variable containing popped item\n",
    "print(popped_team_members)"
   ]
  },
  {
   "cell_type": "markdown",
   "metadata": {},
   "source": [
    "Now that we have access to the popped item, how might we use it. As discussed above, if 'mark' is leaving our company then there could be a number of things that need to be done, such as removing him from payroll.|"
   ]
  },
  {
   "cell_type": "code",
   "execution_count": 45,
   "metadata": {},
   "outputs": [
    {
     "name": "stdout",
     "output_type": "stream",
     "text": [
      "Mark has left the company, please remove him from payroll.\n"
     ]
    }
   ],
   "source": [
    "# Create a new list\n",
    "team_members = ['jane', 'tony', 'mark']\n",
    "\n",
    "team_leaver = team_members.pop()\n",
    "print(f\"{team_leaver.title()} has left the company, please remove him from payroll.\")"
   ]
  },
  {
   "cell_type": "markdown",
   "metadata": {},
   "source": [
    "### Popping items from other positions on a list\n",
    "\n",
    "So the pop() method is great, if we want to remove the last item from a list. But what about when we want to remove an item that is not the last one in a list, such as the third of forthy first?\n",
    "\n",
    "As we've already seen, each method in Python ends with parentheses so that we can pass a value to the method before it acts on the code it is called upon. We can include the index of the item that we want to remove in the parentheses of the pop() method."
   ]
  },
  {
   "cell_type": "code",
   "execution_count": 46,
   "metadata": {},
   "outputs": [
    {
     "name": "stdout",
     "output_type": "stream",
     "text": [
      "Tony has left the company, please remove him from payroll.\n"
     ]
    }
   ],
   "source": [
    "# Create a new list\n",
    "team_members = ['jane', 'tony', 'mark']\n",
    "\n",
    "team_leaver = team_members.pop(1)\n",
    "print(f\"{team_leaver.title()} has left the company, please remove him from payroll.\")"
   ]
  },
  {
   "cell_type": "markdown",
   "metadata": {},
   "source": [
    "When considering to use the __del__ statement or the __pop()__ method to remove an item from a list, ask yourself this question, 'will I need access to this element again in the future?' If the answer is no then use the del statement, if the answer is yes then user the pop() method.\n",
    "\n",
    "### Removing items from a list by value\n",
    "\n",
    "There will be times when you are working with lists so big you won't know what position items are in but you will know the names of the items. Think again of a list of employees which contains 5,000 items. You won't know what position the employees are in but you will know their names, becasue someone will email you to tell you they are leaving."
   ]
  },
  {
   "cell_type": "code",
   "execution_count": 47,
   "metadata": {},
   "outputs": [
    {
     "name": "stdout",
     "output_type": "stream",
     "text": [
      "['jane', 'tony', 'mark']\n",
      "['tony', 'mark']\n"
     ]
    }
   ],
   "source": [
    "# Create a new list\n",
    "team_members = ['jane', 'tony', 'mark']\n",
    "print(team_members)\n",
    "\n",
    "team_members.remove('jane')\n",
    "print(team_members)"
   ]
  },
  {
   "cell_type": "markdown",
   "metadata": {},
   "source": [
    "When using the remove() method you can continue to work with the value that has been removed."
   ]
  },
  {
   "cell_type": "code",
   "execution_count": 48,
   "metadata": {},
   "outputs": [
    {
     "name": "stdout",
     "output_type": "stream",
     "text": [
      "['jane', 'tony', 'mark']\n",
      "['tony', 'mark']\n",
      "Jane has decided to resign, please remove her from payroll.\n"
     ]
    }
   ],
   "source": [
    "# Create a new list\n",
    "team_members = ['jane', 'tony', 'mark']\n",
    "print(team_members)\n",
    "\n",
    "resigning = 'jane'\n",
    "team_members.remove(resigning)\n",
    "print(team_members)\n",
    "print(f\"{resigning.title()} has decided to resign, please remove her from payroll.\")\n",
    "\n"
   ]
  },
  {
   "cell_type": "markdown",
   "metadata": {},
   "source": [
    "This code example has a little more going on than previous examples, so let's take a moment to step through it.\n",
    "\n",
    "- At lines two and three we are simply defining a list of team members and printing that list out\n",
    "- At line five we have created a new variable called 'resigning' and assigned to it an element from the team_members list\n",
    "- At line six we have passed the variable __resigning__ to the __remove()__ method and then used this method on the team_members list\n",
    "- At line seven we print out the updated team_members list with 'jane' removed\n",
    "- Finally at line eight we demonstrate that even though the element 'jane' has been removed we can still work with it\n",
    "\n",
    "The remove() method only removes the first instance of the value passed to it. If our team_members list contained more than one 'jane' then we would have to take a different coding approach to removing all 'jane' elements. We'll look at how to do this later."
   ]
  },
  {
   "cell_type": "markdown",
   "metadata": {},
   "source": [
    "## Exercises\n",
    "\n",
    "1. Create a list of friends or family. Print out each person from your list.\n",
    "2. You've just made a new friend, insert this person at the start of your list using the insert() method.\n",
    "3. Use the append() method to add another friend to your list.\n",
    "4. You've misspelled a name on your list, update your list with the correct spelling.\n",
    "5. Use the del statement to remove a friend from your list\n",
    "6. Use the pop() method to remove friends from your list at different positions.\n"
   ]
  },
  {
   "cell_type": "markdown",
   "metadata": {},
   "source": [
    "## How to organize a list in Python\n",
    "\n",
    "In the real world when working with lists in Python they won't be your lists. Someone is going to send you a list of data that you have to perform some action on. More often than not, after you receive a list, you are going to want to reorder it. In Python there are several ways to order lists, let's take a look."
   ]
  },
  {
   "cell_type": "code",
   "execution_count": 49,
   "metadata": {},
   "outputs": [
    {
     "name": "stdout",
     "output_type": "stream",
     "text": [
      "['jane', 'lisa', 'mary', 'mike', 'phil', 'steve', 'tony']\n"
     ]
    }
   ],
   "source": [
    "# Using Python's sort() method (permanent)\n",
    "current_staff = ['tony', 'jane', 'mike', 'phil', 'lisa', 'steve', 'mary']\n",
    "current_staff.sort()\n",
    "print(current_staff)"
   ]
  },
  {
   "cell_type": "markdown",
   "metadata": {},
   "source": [
    "In the code above, we have used Python's __sort()__ method to sort our list, current_staff, in aplabetical order. This is one of the easiest ways to sort a list in Python. The same original list can also be sorted in reverse alphabetical oder:"
   ]
  },
  {
   "cell_type": "code",
   "execution_count": 50,
   "metadata": {},
   "outputs": [
    {
     "name": "stdout",
     "output_type": "stream",
     "text": [
      "['tony', 'steve', 'phil', 'mike', 'mary', 'lisa', 'jane']\n"
     ]
    }
   ],
   "source": [
    "# Using Python's sort method in reverse\n",
    "current_staff = ['tony', 'jane', 'mike', 'phil', 'lisa', 'steve', 'mary']\n",
    "current_staff.sort(reverse=True)\n",
    "print(current_staff)"
   ]
  },
  {
   "cell_type": "markdown",
   "metadata": {},
   "source": [
    "## Using Python's sorted() function\n",
    "\n",
    "There will be times when working with lists that you want to keep the original order but present it to the user in a new sorted order. To achieve this action you can used Python's __sorted()__ function. This function allows you to display your list to the user in a particular order, but the order of the list doesnt change. You are only presenting it to the user in a different order. As always, this is easier to understand with an example:"
   ]
  },
  {
   "cell_type": "code",
   "execution_count": 51,
   "metadata": {},
   "outputs": [
    {
     "name": "stdout",
     "output_type": "stream",
     "text": [
      "This is a list of current staff in our company:\n",
      "['tony', 'jane', 'mike', 'phil', 'lisa', 'steve', 'mary']\n",
      "\n",
      "Here is a list of current staff in alphabetical order:\n",
      "['jane', 'lisa', 'mary', 'mike', 'phil', 'steve', 'tony']\n",
      "\n",
      "Here is the original staff list:\n",
      "['tony', 'jane', 'mike', 'phil', 'lisa', 'steve', 'mary']\n"
     ]
    }
   ],
   "source": [
    "# Using Python's sorted() function (temporary)\n",
    "current_staff = ['tony', 'jane', 'mike', 'phil', 'lisa', 'steve', 'mary']\n",
    "\n",
    "print(\"This is a list of current staff in our company:\")\n",
    "print(current_staff)\n",
    "\n",
    "print(\"\\nHere is a list of current staff in alphabetical order:\")\n",
    "print(sorted(current_staff))\n",
    "\n",
    "print(\"\\nHere is the original staff list:\")\n",
    "print(current_staff)"
   ]
  },
  {
   "cell_type": "code",
   "execution_count": 52,
   "metadata": {},
   "outputs": [
    {
     "name": "stdout",
     "output_type": "stream",
     "text": [
      "['tony', 'steve', 'phil', 'mike', 'mary', 'lisa', 'jane']\n"
     ]
    }
   ],
   "source": [
    "# Sorting a list in reverse alphabetical order\n",
    "current_staff = ['tony', 'jane', 'mike', 'phil', 'lisa', 'steve', 'mary']\n",
    "print(sorted(current_staff, reverse=True))"
   ]
  },
  {
   "cell_type": "markdown",
   "metadata": {},
   "source": [
    "So far our lists have all contained elements in lowercase, it gets a bit more complicated when the elements are uppercase or a mix of both. We'll be taking a look at this in a later lesson."
   ]
  },
  {
   "cell_type": "markdown",
   "metadata": {},
   "source": [
    "## Reversing a list\n",
    "\n",
    "To reverse the original order of a list we can use Python's __reverse()__ method. Let's take a quick look:"
   ]
  },
  {
   "cell_type": "code",
   "execution_count": 53,
   "metadata": {},
   "outputs": [
    {
     "name": "stdout",
     "output_type": "stream",
     "text": [
      "['tony', 'jane', 'mike', 'phil', 'lisa', 'steve', 'mary']\n",
      "['mary', 'steve', 'lisa', 'phil', 'mike', 'jane', 'tony']\n"
     ]
    }
   ],
   "source": [
    "# Python's reverse method()\n",
    "current_staff = ['tony', 'jane', 'mike', 'phil', 'lisa', 'steve', 'mary']\n",
    "print(current_staff)\n",
    "\n",
    "current_staff.reverse()\n",
    "print(current_staff)"
   ]
  },
  {
   "cell_type": "markdown",
   "metadata": {},
   "source": [
    "The __reverse()__ method doesnt sort backwards alphabetically as in previous examples. It just reverses the order of the list as it is. When you use the reverse() method it alters the list that it is called on permanently. Can you think of how to undo this?"
   ]
  },
  {
   "cell_type": "code",
   "execution_count": 54,
   "metadata": {},
   "outputs": [
    {
     "name": "stdout",
     "output_type": "stream",
     "text": [
      "['tony', 'jane', 'mike', 'phil', 'lisa', 'steve', 'mary']\n",
      "['mary', 'steve', 'lisa', 'phil', 'mike', 'jane', 'tony']\n",
      "['tony', 'jane', 'mike', 'phil', 'lisa', 'steve', 'mary']\n"
     ]
    }
   ],
   "source": [
    "# Python's reverse method()\n",
    "current_staff = ['tony', 'jane', 'mike', 'phil', 'lisa', 'steve', 'mary']\n",
    "print(current_staff)\n",
    "\n",
    "current_staff.reverse()\n",
    "print(current_staff)\n",
    "\n",
    "current_staff.reverse()\n",
    "print(current_staff)"
   ]
  },
  {
   "cell_type": "markdown",
   "metadata": {},
   "source": [
    "## Finding the length of a list\n",
    "As I've mentioned previoulsy, you won't always be the author of the lists that you work with. Most of the time the lists will be given to you. When this happens, and the list massive how can you quickly find its length? "
   ]
  },
  {
   "cell_type": "code",
   "execution_count": 55,
   "metadata": {},
   "outputs": [
    {
     "name": "stdout",
     "output_type": "stream",
     "text": [
      "7\n"
     ]
    }
   ],
   "source": [
    "# Finding the length of a list\n",
    "days_of_week = ['monday', 'tuesday', 'wednesday', 'thursday', 'friday', 'saturday', 'sunday']\n",
    "print(len(days_of_week))"
   ]
  },
  {
   "cell_type": "markdown",
   "metadata": {},
   "source": [
    "## Exercises\n",
    "\n",
    "1. Create a new list of anything you want, food, furniture, programming languages, just don't put it in alphabetical order\n",
    "2. Print your new list out\n",
    "3. Use Python's __sorted()__ function to print your list in alphabetical order\n",
    "4. Show that your original list list maintains its order compared to your __sorted()__ list. Do this by print both lists together.\n",
    "5. Use Python's __reverse()__ method to print your list in reverse. Print out the results\n",
    "6. Print out the length of your list"
   ]
  },
  {
   "cell_type": "markdown",
   "metadata": {},
   "source": [
    "## Errors\n",
    "\n",
    "No matter how much you want to avoid them, as you begin to learn more Python and progam more, errors will start to creep into your code. When working with Python a comman error is called the __Index Error__. Below is a list of days of the week:"
   ]
  },
  {
   "cell_type": "code",
   "execution_count": 56,
   "metadata": {},
   "outputs": [
    {
     "ename": "IndexError",
     "evalue": "list index out of range",
     "output_type": "error",
     "traceback": [
      "\u001b[0;31m---------------------------------------------------------------------------\u001b[0m",
      "\u001b[0;31mIndexError\u001b[0m                                Traceback (most recent call last)",
      "Input \u001b[0;32mIn [56]\u001b[0m, in \u001b[0;36m<cell line: 3>\u001b[0;34m()\u001b[0m\n\u001b[1;32m      1\u001b[0m \u001b[38;5;66;03m# Demonstrating Index Errors\u001b[39;00m\n\u001b[1;32m      2\u001b[0m days_of_week \u001b[38;5;241m=\u001b[39m [\u001b[38;5;124m'\u001b[39m\u001b[38;5;124mmonday\u001b[39m\u001b[38;5;124m'\u001b[39m, \u001b[38;5;124m'\u001b[39m\u001b[38;5;124mtuesday\u001b[39m\u001b[38;5;124m'\u001b[39m, \u001b[38;5;124m'\u001b[39m\u001b[38;5;124mwednesday\u001b[39m\u001b[38;5;124m'\u001b[39m, \u001b[38;5;124m'\u001b[39m\u001b[38;5;124mthursday\u001b[39m\u001b[38;5;124m'\u001b[39m, \u001b[38;5;124m'\u001b[39m\u001b[38;5;124mfriday\u001b[39m\u001b[38;5;124m'\u001b[39m, \u001b[38;5;124m'\u001b[39m\u001b[38;5;124msaturday\u001b[39m\u001b[38;5;124m'\u001b[39m, \u001b[38;5;124m'\u001b[39m\u001b[38;5;124msunday\u001b[39m\u001b[38;5;124m'\u001b[39m]\n\u001b[0;32m----> 3\u001b[0m \u001b[38;5;28mprint\u001b[39m(\u001b[43mdays_of_week\u001b[49m\u001b[43m[\u001b[49m\u001b[38;5;241;43m7\u001b[39;49m\u001b[43m]\u001b[49m)\n",
      "\u001b[0;31mIndexError\u001b[0m: list index out of range"
     ]
    }
   ],
   "source": [
    "# Demonstrating Index Errors\n",
    "days_of_week = ['monday', 'tuesday', 'wednesday', 'thursday', 'friday', 'saturday', 'sunday']\n",
    "print(days_of_week[7])"
   ]
  },
  {
   "cell_type": "markdown",
   "metadata": {},
   "source": [
    "We've just asked Python to give use the item at index 7, but there is nothing there. The index error means that Python can't find an item at the index location you asked for.\n",
    "\n",
    "- Remember that lists in Python start at position or index 0\n",
    "- Don't forget to retrieve the last element from a list you can use \\[-1] "
   ]
  },
  {
   "cell_type": "code",
   "execution_count": null,
   "metadata": {},
   "outputs": [],
   "source": []
  }
 ],
 "metadata": {
  "kernelspec": {
   "display_name": "Python 3 (ipykernel)",
   "language": "python",
   "name": "python3"
  },
  "language_info": {
   "codemirror_mode": {
    "name": "ipython",
    "version": 3
   },
   "file_extension": ".py",
   "mimetype": "text/x-python",
   "name": "python",
   "nbconvert_exporter": "python",
   "pygments_lexer": "ipython3",
   "version": "3.9.12"
  },
  "varInspector": {
   "cols": {
    "lenName": 16,
    "lenType": 16,
    "lenVar": 40
   },
   "kernels_config": {
    "python": {
     "delete_cmd_postfix": "",
     "delete_cmd_prefix": "del ",
     "library": "var_list.py",
     "varRefreshCmd": "print(var_dic_list())"
    },
    "r": {
     "delete_cmd_postfix": ") ",
     "delete_cmd_prefix": "rm(",
     "library": "var_list.r",
     "varRefreshCmd": "cat(var_dic_list()) "
    }
   },
   "types_to_exclude": [
    "module",
    "function",
    "builtin_function_or_method",
    "instance",
    "_Feature"
   ],
   "window_display": false
  }
 },
 "nbformat": 4,
 "nbformat_minor": 4
}
