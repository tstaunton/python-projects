{
 "cells": [
  {
   "cell_type": "markdown",
   "metadata": {},
   "source": [
    "# Introduction\n",
    "\n",
    "It's time we started how to learn about functions. What are functions? They are blocks of code that are created to do one specific job. When you create or define a function you will write it in such a way that it performs a particular task. When you want to use the function you _call_ it. If you have a reason to perform that same task over and over again you just need to call the function created to handle the task, this call tells Python to run the code inside the function. Functions are going to make our coding lives much easier and more productive.\n",
    "\n",
    "## How to define a function"
   ]
  },
  {
   "cell_type": "code",
   "execution_count": null,
   "metadata": {},
   "outputs": [],
   "source": [
    "def welcome_message():\n",
    "    \"\"\"Display a welcome message to the user.\"\"\"\n",
    "    print(\"Good morning!\")\n",
    "    \n",
    "# Function call\n",
    "welcome_message()"
   ]
  },
  {
   "cell_type": "markdown",
   "metadata": {},
   "source": [
    "This is the simplest form that a function can take. At line 1 we use the keyword _def_ which tells Python that we are defining a function. This is the function definition, it tells Python what the name of the function is, and if necessary what kind of information the function needs to perform its task. This information if required will go inside the parentheses. In this example the name of the function is _welcome_message()_, and there is no additional information required, so the parentheses are empty. The definition ends with a colon (:).\n",
    "\n",
    "After line 1 we have two indented lines, these two lines of code make up the body of the function. At line 2 we have what is called a _docstring_, which describes what the function does. Docstrings open and close with triple quotes. When Python generates documentation for your programs it looks for these docstrings.\n",
    "\n",
    "The code at line 3 is the only actual code in the body of this function. As such this function has one job, print the message \"Good morning!\".\n",
    "\n",
    "To use this function we call it. When you call a function you are telling Python to execute the code in the function. To call a function you write the name of the function. If needed add additional information in the parentheses. We call the function _welcome_message_ at line 5.\n",
    "\n",
    "### Passing information to a function\n",
    "\n",
    "Let's update the previous code example to print out a welcome message and a name. To accomplish this we will need to enter a name in the parentheses of the function's definition at _def welcome_message()_. By adding _name_ here we allow the function to accept any value for name that we specify. The function will now expect a value for _name_ each time it is called. Let's take a look:"
   ]
  },
  {
   "cell_type": "code",
   "execution_count": null,
   "metadata": {},
   "outputs": [],
   "source": [
    "def welcome_message(name):\n",
    "    \"\"\"Display a welcome message to the user.\"\"\"\n",
    "    print(f\"Good morning, {name.title()}\")\n",
    "    \n",
    "welcome_message('Mary')"
   ]
  },
  {
   "cell_type": "markdown",
   "metadata": {},
   "source": [
    "At line 5 we call the function _welcome_message_ but this time we pass it the name 'tony' inside the parentheses. If we don't pass a name to the function it will generate a TypeError when it is called. We can call this function as many times as we want and pass it any name we like."
   ]
  },
  {
   "cell_type": "code",
   "execution_count": null,
   "metadata": {},
   "outputs": [],
   "source": [
    "def welcome_message(name):\n",
    "    \"\"\"Display a welcome message to the user.\"\"\"\n",
    "    print(f\"Good morning, {name.title()}\")\n",
    "    \n",
    "welcome_message('frank')"
   ]
  },
  {
   "cell_type": "code",
   "execution_count": null,
   "metadata": {},
   "outputs": [],
   "source": [
    "def welcome_message(name):\n",
    "    \"\"\"Display a welcome message to the user.\"\"\"\n",
    "    print(f\"Good morning, {name.title()}\")\n",
    "    \n",
    "welcome_message('jane')"
   ]
  },
  {
   "cell_type": "markdown",
   "metadata": {},
   "source": [
    "### Arguments and Parameters\n",
    "\n",
    "In previous code examples we defined the function _welcome_message()_ which required a value for the variable _name_. When we called the function and gave it a name it executed correctly.\n",
    "\n",
    "The variable _name_ in the definition of _welcome_message_ is called a _parameter_. A parameter is a piece of information that a function needs to do it job. When we entered a name at the function call such as 'tony' or 'jane' this is called an _argument_. An argument is a piece of information that is passed from a function call to a function.\n",
    "\n",
    "## Exercises \n",
    "\n",
    "- Write a function that welcomes you home a by name. Call the function with your name and the name of someone else.\n",
    "- Write a function called _favorite_color_ that accepts one parameter, _color_. \n",
    "\n",
    "## Passing arguments\n",
    "\n",
    "In the previous code example we passed a single parameter to the function definition. In Python a function definition can have multiple parameters. To facilitate this, a function call may need multiple arguments. There are several ways to pass arguments to a function. We can use _positional arguments_, which need to be in the same order the parameters are written. We could use _keyword_arguments_, where each argument consists of a variable name and a value, and lists and dictionaries of values. Let's take a look at _positional arguments_ first.\n",
    "\n",
    "### Positional arguments\n",
    "\n",
    "When a function is called Python has to match each argument in the function call with a parameter in the function definition. The simplest way to do this is based on the order of the arguments provided. Values that match up in this way are called _positional arguments_. Let's take a look at an example where we have a function that describes a car:"
   ]
  },
  {
   "cell_type": "code",
   "execution_count": null,
   "metadata": {},
   "outputs": [],
   "source": [
    "def car_description(car_make, car_model):\n",
    "    \"\"\"Dislplay information about a car.\"\"\"\n",
    "    print(f\"\\nI drive a {car_make.title()}.\")\n",
    "    print(f\"It's a {car_make.title()} {car_model.title()}.\")\n",
    "    \n",
    "car_description('ford', 'focus')"
   ]
  },
  {
   "cell_type": "markdown",
   "metadata": {},
   "source": [
    "In this example we have a function definition at line 1 with two parameters, _car_make_, and _car_model_. When we call the function, _car_description_, we need to provide two arguments, _car_make_, and _car_model_, in that order. We do just that at line 6, where we call the function and pass it two arguments. The first argument _'ford'_ is assigned to the parameter _car_make_, and the second argument, _'focus'_ is assigned to the parameter _car_model_. In the function body, we use the two parameters to display information to the user.\n",
    "\n",
    "### Multiple function calls\n",
    "\n",
    "Functions can be called as many times as needed. Take a look:"
   ]
  },
  {
   "cell_type": "code",
   "execution_count": null,
   "metadata": {},
   "outputs": [],
   "source": [
    "def car_description(car_make, car_model):\n",
    "    \"\"\"Dislplay information about a car.\"\"\"\n",
    "    print(f\"\\nI drive a {car_make.title()}.\")\n",
    "    print(f\"It's a {car_make.title()} {car_model.title()}.\")\n",
    "\n",
    "# Function call    \n",
    "car_description('ford', 'focus')\n",
    "car_description('porsche', '911')"
   ]
  },
  {
   "cell_type": "markdown",
   "metadata": {},
   "source": [
    "In this example we have a second function call at line 8. As with the previous example, the two arguments passed to the function, _porsche_, and _'911'_ are matched to the parameters, _car_make_, and _car_model_ in the function definition.\n",
    "\n",
    "Writing functions and then calling them as we have just done is a very efficient way to work. We create a function once which displays information about our car when passed the correct arguments. Anytime we want to describe a new car we simply call the function again with the new car information. No matter how big the function _car_description_ may become we can still call it using just one line of code.\n",
    "\n",
    "When creating your own functions you can use as many positional arguments as you need. Don't forget that when using positional arguments you need to supply them to Python in the same order as the parameters in the function definition. If you start to get unexpected results from your functions double check your arguments and parameters and the order that you supply them in.\n",
    "\n",
    "### Keyword arguments\n",
    "\n",
    "In Python, a _keyword_argument_, is a name-value pair that you pass to a function. You associate the name and value within the argument, which means that when you pass the argument to the function there's no confusion. Using keyword arguments stops you from worrying about correctly ordering your arguments in the function call, and they also help clarify the role of each value in a function call. Take a look:"
   ]
  },
  {
   "cell_type": "code",
   "execution_count": null,
   "metadata": {},
   "outputs": [],
   "source": [
    "def car_description(car_make, car_model):\n",
    "    \"\"\"Dislplay information about a car.\"\"\"\n",
    "    print(f\"\\nI drive a {car_make.title()}.\")\n",
    "    print(f\"It's a {car_make.title()} {car_model.title()}.\")\n",
    "\n",
    "# Function call    \n",
    "car_description(car_make='ford', car_model='focus')\n",
    "car_description('porsche', '911')"
   ]
  },
  {
   "cell_type": "markdown",
   "metadata": {},
   "source": [
    "The function _car_description_ hasn't changed. But in this example when we call the function at line 7, we are explicitly  telling Python which parameter each argument should be matched with. Now, when Python processes the function call it knows to assign the argument _'ford'_ to the parameter _car_make_, and the argument _'focus'_ to the parameter _car_model_.\n",
    "\n",
    "When using keyword arguments in Python the order that you supply them in the function call does not matter. For example:"
   ]
  },
  {
   "cell_type": "code",
   "execution_count": null,
   "metadata": {},
   "outputs": [],
   "source": [
    "def car_description(car_make, car_model):\n",
    "    \"\"\"Dislplay information about a car.\"\"\"\n",
    "    print(f\"\\nI drive a {car_make.title()}.\")\n",
    "    print(f\"It's a {car_make.title()} {car_model.title()}.\")\n",
    "\n",
    "# Function call    \n",
    "car_description(car_model='focus', car_make='ford')\n",
    "car_description('porsche', '911')"
   ]
  },
  {
   "cell_type": "markdown",
   "metadata": {},
   "source": [
    "### Default values\n",
    "\n",
    "Each time you create a function you have the option of defining a _default value_ for each parameter. If you provide an argument for a parameter in the function call, Python uses the argument value. If not, Python will use the parameter's default value. All of this means that when you define a default value for a parameter, you do not need to include the corresponding argument that you would normally write in the function call. Let's take a look at our _car_description_ function again.\n",
    "\n",
    "There may be times when you know that all of the makes of cars will be Fords. If you know this, then you can set the default value of _car_make_ to 'ford'. Let's see it in action"
   ]
  },
  {
   "cell_type": "code",
   "execution_count": null,
   "metadata": {},
   "outputs": [],
   "source": [
    "def car_description(car_make='ford', car_model):\n",
    "    \"\"\"Display information about a car.\"\"\"\n",
    "    print(f\"\\nI drive a {car_make}.\")\n",
    "    print(f\"It's a {car_make.title()} {car_model.title()}.\")\n",
    "    \n",
    "# Function call\n",
    "car_description(car_model='focus')"
   ]
  },
  {
   "cell_type": "markdown",
   "metadata": {},
   "source": [
    "What's happening here? We're getting a syntax error which tells us that \"non-default argument follows default argument\". What we need to do is change the order of the parameters in the function definition. But why? As we have set a default value for _car_make_ it is unnecessary to specify an argument for this parameter. The only argument that we need to specify in the function call is _car_model_. Python still interprets this as a positional argument, so if the function is called with just the car model, this argument will be assigned to the first parameter in the function definition. To solve this problem we reorder the parameters in the function definition."
   ]
  },
  {
   "cell_type": "code",
   "execution_count": null,
   "metadata": {},
   "outputs": [],
   "source": [
    "def car_description(car_model, car_make='ford'):\n",
    "    \"\"\"Display information about a car.\"\"\"\n",
    "    print(f\"\\nI drive a {car_make}.\")\n",
    "    print(f\"It's a {car_make.title()} {car_model.title()}.\")\n",
    "    \n",
    "# Function call\n",
    "car_description(car_model='focus')"
   ]
  },
  {
   "cell_type": "markdown",
   "metadata": {},
   "source": [
    "New when the function _car_description_ is called with no car make argument included, it knows to use the value _'ford'_. \n",
    "\n",
    "What happens if we include an argument for _car_make_ in the function call?"
   ]
  },
  {
   "cell_type": "code",
   "execution_count": null,
   "metadata": {},
   "outputs": [],
   "source": [
    "def car_description(car_model, car_make='ford'):\n",
    "    \"\"\"Display information about a car.\"\"\"\n",
    "    print(f\"\\nI drive a {car_make}.\")\n",
    "    print(f\"It's a {car_make.title()} {car_model.title()}.\")\n",
    "    \n",
    "# Function call\n",
    "car_description(car_model='focus', car_make='bmw')"
   ]
  },
  {
   "cell_type": "markdown",
   "metadata": {},
   "source": [
    "When using default values, any parameter with a default value needs to be listed after all the parameters that don't have default values. This will allow Python to continue interpreting positional arguments correctly.\n",
    "\n",
    "### Equivalent function calls\n",
    "\n",
    "So far we've used positional arguments, keyword arguments and default values. You might have already started to experiment with what you have learned and realized that they can all be used together. This is means that there can at times be several equivalent ways to call a function. Let's take a look at just a function definition:\n",
    "\n",
    "> def car_description(car_model, car_make='ford'):\n",
    "\n",
    "If we create a function using this definition then an argument always needs to be provided for _car_model_, and this value can be provided using positional or keyword arguments. If the car being described is not a 'ford', then an argument for _car_make_ needs to be included in the function call. This argument can also be specified using positional or keyword arguments.\n",
    "\n",
    "All of the following calls would work with this function:\n",
    "\n",
    "- car_description('focus')\n",
    "- car_description(car_model='focus')\n",
    "- car_description('series 5', 'bmw')\n",
    "- car_description(car_model='series 5', car_make='bmw')\n",
    "- car_description(car_make='bmw', car_model='series 5')\n",
    "\n",
    "Whether you use positional arguments, keyword arguments or default values the choice is yours. So long as you are getting the expected results from your code and your functions are easy to understand it doesn't matter.\n",
    "\n",
    "### Typical argument errors\n",
    "\n",
    "Every programmer experiences errors in their functions no matter their level of expertise. If you start to get errors don't be too hard on yourself. The typical error when writing functions is an error about unmatched functions. This type of error occurs when you provide less or more arguments that a function requires to complete its task. Let's take a look:"
   ]
  },
  {
   "cell_type": "code",
   "execution_count": null,
   "metadata": {},
   "outputs": [],
   "source": [
    "def car_description(car_model, car_make='ford'):\n",
    "    \"\"\"Display information about a car.\"\"\"\n",
    "    print(f\"\\nI drive a {car_make}.\")\n",
    "    print(f\"It's a {car_make.title()} {car_model.title()}.\")\n",
    "    \n",
    "# Function call\n",
    "car_description()"
   ]
  },
  {
   "cell_type": "markdown",
   "metadata": {},
   "source": [
    "In this code example we have left out the necessary arguments in the function call. The error is a TypeError and directs us to line 7 of our program. Python also tells us, at the end if the error message that our code is missing 1 of the required positional arguments. Let's take a look at another example of TypeError:"
   ]
  },
  {
   "cell_type": "code",
   "execution_count": null,
   "metadata": {},
   "outputs": [],
   "source": [
    "def car_description(car_model, car_make):\n",
    "    \"\"\"Display information about a car.\"\"\"\n",
    "    print(f\"\\nI drive a {car_make}.\")\n",
    "    print(f\"It's a {car_make.title()} {car_model.title()}.\")\n",
    "    \n",
    "# Function call\n",
    "car_description()"
   ]
  },
  {
   "cell_type": "markdown",
   "metadata": {},
   "source": [
    "In this example at line 1 of our code we have removed the default value of _car_make_. We have also neglected to add the correct number of arguments to our function call at line 7. Now when we run our program, we still get a TypeError but this time Python tells use the names of the arguments that are missing. \n",
    "\n",
    "## Exercises\n",
    "\n",
    "- Write a function called _car_order()_ that accepts the color and transmission type (manual or automatic) for a car order. The function should print a sentence giving a summary of the car order.\n",
    "- Using the _car_order()_ function you have just created call it using positional arguments. Call it again using keyword arguments.\n",
    "- Modify your _car_order()_ function so that the transmission type is automatic by defualt. Print out a car order confirming that the transmission type is automatic.\n",
    "\n",
    "## Return values\n",
    "\n",
    "Let's take a look at how to return a value from a function:"
   ]
  },
  {
   "cell_type": "code",
   "execution_count": null,
   "metadata": {},
   "outputs": [],
   "source": [
    "def full_name(first_name, last_name):\n",
    "    \"\"\"Return a full name\"\"\"\n",
    "    full_name = f\"{first_name} {last_name}\"\n",
    "    return full_name.title()\n",
    "\n",
    "customer_name = full_name('tony', 'staunton')\n",
    "print(customer_name)"
   ]
  },
  {
   "cell_type": "markdown",
   "metadata": {},
   "source": [
    "How are return values different from functions that simply display their output? Functions don't always have to display their output, instead they can process some data and then return a value or set of values. The value the function returns is called a _return_value_. \n",
    "\n",
    "In the example above the _return_ statement at line 4 takes a value from inside the function and sends it back to the line that called the function. Let's take a closer look at the function above:\n",
    "\n",
    "- The definition _full_name()_ takes as parameters a first and last name, at line 1\n",
    "- At line 3, the function combines these two parameters, add a whitespace between them, and assigns the result to _full_name_.\n",
    "- The value of _full_name_ is converted to title case, and then returned to the calling line, line 4 \n",
    "\n",
    "When you call a function that returns a value you need to provide a variable that the return value can be assigned to. In the example above the return value is assigned to the variable _customer_name_ at line 6. \n",
    "\n",
    "The output of our function _full_name_ is a nicely formatted name consisting of a customers first and last name. I know what you're thinking, 'that seems like a lot of work just to output a name', and you're right but consider an application that collects the first and last name for a million customers and you want to output each name cleanly formatted. You could write:"
   ]
  },
  {
   "cell_type": "code",
   "execution_count": null,
   "metadata": {},
   "outputs": [],
   "source": [
    "print(\"Name One\")\n",
    "print(\"Name Two\")"
   ]
  },
  {
   "cell_type": "markdown",
   "metadata": {},
   "source": [
    "or your could use the function we have just created."
   ]
  },
  {
   "cell_type": "markdown",
   "metadata": {},
   "source": [
    "### Optional arguments\n",
    "\n",
    "There will be times when creating functions that you will want to make arguments optional so that when your function is called a user can choose to provide additional information only if they want to. We can use default values to make an optional argument.\n",
    "\n",
    "Let's take a look at an example of a function that handles addresses. As we are all familiar with when completing address forms online some fields are required and some are not:"
   ]
  },
  {
   "cell_type": "code",
   "execution_count": null,
   "metadata": {},
   "outputs": [],
   "source": [
    "def collect_address(address_line_1, address_line_2, address_line_3, address_line_4):\n",
    "    \"\"\"Return a full, formatted address\"\"\"\n",
    "    full_address = f\"{address_line_1}, {address_line_2}, {address_line_3}, {address_line_4}\"\n",
    "    return full_address.title()\n",
    "\n",
    "address = collect_address('1', 'main street', 'dublin', 'ireland')\n",
    "print(address)"
   ]
  },
  {
   "cell_type": "markdown",
   "metadata": {},
   "source": [
    "This function works well when it is provided with the four parts of an address. It takes in all four parts and then creates a string from them. The function also adds whitespace and commas where appropiate and converts them to title case.\n",
    "\n",
    "But as we all know when filling out address forms, sometimes the entire address is not needed, or you just don't want to fill out the entire address form, and this function as it is would not work if we left out any part of the address. \n",
    "\n",
    "To make the last part of the address optional, we can give the argument _address_line_4_ an empty default value, and ignore the argument unless a user provides a value. To make out function work without the fourth address line, we set the default value of _address_line_4_ to an empty string and make sure that it is at the end of the list of parameters, which it already is, but watch out for this when creating your own optional arguments. "
   ]
  },
  {
   "cell_type": "code",
   "execution_count": null,
   "metadata": {},
   "outputs": [],
   "source": [
    "def collect_address(address_line_1, address_line_2, address_line_3, address_line_4=''):\n",
    "    \"\"\"Return a full, formatted address\"\"\"\n",
    "    if address_line_4:\n",
    "        full_address = f\"{address_line_1}, {address_line_2}, {address_line_3}, {address_line_4}\"\n",
    "    else:\n",
    "        full_address = f\"{address_line_1}, {address_line_2}, {address_line_3}\"\n",
    "    return full_address.title()\n",
    "\n",
    "address = collect_address('1', 'main street', 'dublin')\n",
    "print(address)\n",
    "\n",
    "address = collect_address('1', 'main street', 'dublin', 'ireland')\n",
    "print(address)"
   ]
  },
  {
   "cell_type": "markdown",
   "metadata": {},
   "source": [
    "Nice work! In this code example, the address is created from four possible parts. Because we always want to collect the first three parts of the address, these parameters are listed first in the function's definition. The fourth address line is optional and so it is listed last in the definition, and its default value is an empty string.\n",
    "\n",
    "At line three of the function we check to see if a fourth address line has been provided. Python interprets non-empty strings as _True_, so, _if_address_line_4_ evaluates to _True_ ,if a fourth address line argument is in the function call. If a fourth address line is provided, it is combined with the three other address lines to create a full address. This address is then changed to title case and returned to the function call line where it's assigned to the variable _address_ and then printed out. If no fourth address line is provided, the empty string fails the _if_ test at line 3 and the _else_ block runs at line 5. The full address is created with _address_line_1_, _address_line_2_, _address_line_3_ and the formatted address is returned to the calling line where is assigned to the variable _address_ and printed out.  \n",
    "\n",
    "Calling this function with 3 address lines is straight forward. If you are using a fourth address line, you have to make sure that _address_line_4_ is the last argument passed so Python will match up the positional arguments correctly, line 12.\n",
    "\n",
    "### Returning a dictionary"
   ]
  },
  {
   "cell_type": "markdown",
   "metadata": {},
   "source": [
    "As we have discussed in previous lessons Python has several types of data and dictionaries can return many of them including lists and dictionaries. Let's take a look at a function that returns a dictionary:"
   ]
  },
  {
   "cell_type": "code",
   "execution_count": null,
   "metadata": {},
   "outputs": [],
   "source": [
    "def build_character(first_name, last_name):\n",
    "    \"\"\"Return a dictionary that contains the name of a character.\"\"\"\n",
    "    character = {'first' : first_name, 'last' : last_name}\n",
    "    return character\n",
    "\n",
    "hero = build_character('james', 'bond')\n",
    "print(hero)"
   ]
  },
  {
   "cell_type": "markdown",
   "metadata": {},
   "source": [
    "In this code example we create a function called __build_character__ at line 1. This function takes in a first and last name. At line 3 it places these values in a dictionary. \n",
    "\n",
    "The value of __first_name__ is saved with the key 'first', and the value of __last_name__ is saved with the key 'last'. The dictionary, in full, is returned at line 4. This return value is printed out at lines 8 and 9.\n",
    "\n",
    "The __build_character__ function receives information in the form of first and last name which is just text information. It then puts this information into another data structure, a dictionary which we can further work with. Our function has labeled the strings 'james' and 'bond' as first name and last name. We could extend this function to accept additional values such as occupation. Take a look: "
   ]
  },
  {
   "cell_type": "code",
   "execution_count": null,
   "metadata": {},
   "outputs": [],
   "source": [
    "def build_character(first_name, last_name, occupation=None):\n",
    "    \"\"\"Return a dictionary that contains the name of a character.\"\"\"\n",
    "    character = {'first' : first_name, 'last' : last_name}\n",
    "    if occupation:\n",
    "        character['occupation'] = occupation\n",
    "    return character\n",
    "\n",
    "hero = build_character('james', 'bond', occupation='super spy')\n",
    "print(hero)"
   ]
  },
  {
   "cell_type": "markdown",
   "metadata": {},
   "source": [
    "Our function definition has a new parameter, __occupation__. It has been assigned the special value, __None__, which is used when there is no specific value assigned to a variable. __None__ is a placeholder value which evaluates to __False__ inn conditional tests.\n",
    "\n",
    "If we call the __build_character__ function with a value for occupation it will be stored in the dictionary.\n",
    "\n",
    "### Using a while loop with a function\n",
    "\n",
    "Now, let's create a new function that works with a __while__ loop. In the code example below I a going to reuse the __full_name__ function which we created earlier."
   ]
  },
  {
   "cell_type": "code",
   "execution_count": null,
   "metadata": {},
   "outputs": [],
   "source": [
    "def full_name(first_name, last_name):\n",
    "    \"\"\"Return a full name\"\"\"\n",
    "    full_name = f\"{first_name} {last_name}\"\n",
    "    return full_name.title()\n",
    "\n",
    "# This will create an infinite loop\n",
    "while True:\n",
    "    print(\"\\nWhat is your name: \")\n",
    "    firstname = input(\"First name: \")\n",
    "    lastname = input(\"Last name: \")\n",
    "    \n",
    "    formatted_name = full_name(firstname, lastname)\n",
    "    print(f\"\\nHi, {formatted_name}\")"
   ]
  },
  {
   "cell_type": "markdown",
   "metadata": {},
   "source": [
    "In this code example the __while__ loop asks a user to enter their name. Our program asks a user to enter their first and last names at line 8.\n",
    "\n",
    "If you have run this code then you will have noticed there is an issue with it. There is no quit condition and it keeps going. Our program should allow a user to quit. Let's use a __break__ statement which will allow a user to quit."
   ]
  },
  {
   "cell_type": "code",
   "execution_count": null,
   "metadata": {},
   "outputs": [],
   "source": [
    "def full_name(first_name, last_name):\n",
    "    \"\"\"Return a full name\"\"\"\n",
    "    full_name = f\"{first_name} {last_name}\"\n",
    "    return full_name.title()\n",
    "\n",
    "# This will create an infinite loop\n",
    "while True:\n",
    "    print(\"\\nWhat is your name: \")\n",
    "    print(\"Enter 'q' to quit\")\n",
    "    \n",
    "    firstname = input(\"First name: \")\n",
    "    if firstname == 'q':\n",
    "        break\n",
    "            \n",
    "    lastname = input(\"Last name: \")\n",
    "    if lastname == 'q':\n",
    "        break\n",
    "    \n",
    "    formatted_name = full_name(firstname, lastname)\n",
    "    print(f\"\\nHi, {formatted_name}\")"
   ]
  },
  {
   "cell_type": "markdown",
   "metadata": {},
   "source": [
    "In this example we have given the user a message telling them how to quit the program. If the user enters 'q' then we break out of the loop.\n",
    "\n",
    "## Exercises\n",
    "\n",
    "- Write a function take can receive members of your family and their role in your family, for example brother, sister, cousin. Your function should return a string similar to \"Frank Smith, cousin\".\n",
    "- Write a function called my_books(). This function should build a dictionary which contains information about your books (or books you like). The function should receive a book name and the name of its author and it should return a dictionary containing these two pieces of information. Make sure that you print out the return value.\n",
    "- Update the function __my_books()__ to use __None__ as an optional parameter. In this parameter store the book genre such as business.\n",
    "- Using the function __my_books()__ add a __while__ loop that will ask users to enter a book and author name. Once you have received the information call __my_books()__ with the users input and print out the dictionary that is created. Don't forget the quit option!"
   ]
  },
  {
   "cell_type": "markdown",
   "metadata": {},
   "source": [
    "## Passing a list to a function\n",
    "\n",
    "As you work on different Python projects you will start to work with all kinds of lists, phone numbers, products, and much more. To make your work easier and more productive it is good to know how to pass a list to a function. When you pass a list to a function, that function can access the contents of the list. Let's get started.\n",
    "\n",
    "Let's go back to our list of books and use this list to print out a message telling us if a book fro the list is in stock or not."
   ]
  },
  {
   "cell_type": "code",
   "execution_count": null,
   "metadata": {},
   "outputs": [],
   "source": [
    "# Book stock function\n",
    "def book_stock(books):\n",
    "    \"\"\"Print a message to let us know if a book is in stock\"\"\"\n",
    "    for book in books:\n",
    "        status = f\"{book.title()}, is currently in stock\"\n",
    "        print(status)\n",
    "        \n",
    "book_catalog = ['elon musk', 'steve jobs', 'getting things done']\n",
    "book_stock(book_catalog)"
   ]
  },
  {
   "cell_type": "markdown",
   "metadata": {},
   "source": [
    "In this code example we first define the function __book_stock()__. This function expects a list of books which it assigns the parameter __books__. The function loops through the list it receives and then prints a messages telling us if a book is in stock. You can see at line 8 that we create or define a list of books and then pass the list __book_catalog__ to __book_stock()__ in our function call.\n",
    "\n",
    "### Changing or Modifying a list in a function\n",
    "\n",
    "After you pass a list to a function, the function can modify that list. Changes made to the list inside a function are permanent.\n",
    "\n",
    "Let's stay with our books list but this time consider the scenerio where we have two lists. The first list is all of the books in a customers shopping cart, and after the items have been paid for they are moved to a second list. We will first do this without using functions: "
   ]
  },
  {
   "cell_type": "code",
   "execution_count": null,
   "metadata": {},
   "outputs": [],
   "source": [
    "# A list of books in a customers shopping cart\n",
    "shopping_cart = ['elon musk', 'steve jobs', 'getting things done']\n",
    "orders_complete = []\n",
    "\n",
    "# Simulate ordering each item, until none are left\n",
    "# move each purchased item to the list order_complete after purchase\n",
    "while shopping_cart:\n",
    "    current_order = shopping_cart.pop()\n",
    "    print(f\"Processing payment for: {current_order}\")\n",
    "    orders_complete.append(current_order)\n",
    "    \n",
    "# Display a completed order\n",
    "print(\"\\nThe following items have been successfully ordered:\")\n",
    "for order_complete in orders_complete:\n",
    "    print(order_complete) #Add title() method"
   ]
  },
  {
   "cell_type": "markdown",
   "metadata": {},
   "source": [
    "This great little program does a lot. Its starts with a list of books that are in a customers shopping cart that have yet to be purchased. We then have an empty list called __orders_complete__ which will receive each book after it has been purchased. As long as books remain in __shopping_cart__, the __while__ loop at line 7 simulates a customer purchase by removing a book from the end of the shopping_cart list and storing it in the variable__current_order__. We then  display a message telling a customer that the our online store is processing payment for a particular item. Then, our program adds the book the list __orders_complete__. When the loops has finished running (which it does when there are no more items in the shopping_cart list, a list of books that have been ordered is printed out.\n",
    "\n",
    "The code above can be refactored (to make better) by writing two functions, each of which will perform a specific task. The first function we create will handle payment processing, and the second will provide our customers with an order summary:"
   ]
  },
  {
   "cell_type": "code",
   "execution_count": null,
   "metadata": {},
   "outputs": [],
   "source": [
    "def shopping_cart(unordered_books, orders_complete):\n",
    "    \"\"\"\n",
    "    Simulate purchasing each book until there are none left to purchase\n",
    "    Move each book ordered to orders_complete for printing.\n",
    "    \"\"\"\n",
    "    while unordered_books:\n",
    "        current_order = unordered_books.pop()\n",
    "        print(f\"Processing payment for: {current_order}\")\n",
    "        orders_complete.append(current_order)\n",
    "        \n",
    "def display_completed_orders(orders_complete):\n",
    "    \"\"\"Show all books that have been purchased.\"\"\"\n",
    "    print(\"\\nThe following books have been successfully purchased:\")\n",
    "    for order_complete in orders_complete:\n",
    "        print(order_complete)\n",
    "        \n",
    "unordered_books = ['elon musk', 'steve jobs', 'getting things done']\n",
    "orders_complete = []\n",
    "\n",
    "shopping_cart(unordered_books, orders_complete)\n",
    "display_completed_orders(orders_complete)"
   ]
  },
  {
   "cell_type": "markdown",
   "metadata": {},
   "source": [
    "In this code example we start off at line 1 by defining a function called __shopping_cart()__, which has two parameters, a list of unordered books and a list of orders that are complete. When the function is passed these two lists it simulates processing the payment for each book by emptying the list of unordered books and filling up the list of completed orders.\n",
    "\n",
    "Our second function which is defined at line 11, is called __display_completed_orders()__ and has one parameter, the list of orders complete. When provided with this list, the function __display_completed_orders__ displays a message informing a customer that their item(s) have been successfully purchased.\n",
    "\n",
    "As you can see this new program has the same output as the previous version without functions, however this code is better organized and easier to understand. If you start to share your code with other developers they will find this version much easier to understand and maintain. If you come back to this code after several months or even years you will also find it easier to understand and remember why you wrote it in such a way.\n",
    "\n",
    "At line 17 we created a list of unordered books. Then at line 18 we created an empty list called orders_complete. Because we have already defined our two functions all we have to do is call them and then pass the right arguments. First we call __shopping_cart()__ and pass to it the two lists that it needs. The shopping cart function simulates payments processing. Next, we call the __display_completed_orders()__ function and pass to it the list of completed orders so that it can show a summary of the books that have been purchased.\n",
    "\n",
    "This code is easier to maintain than the previous version. If we need to update a piece of code, the payments process message for example, we can change it once and the change will work anywhere that the function is called. We can also use our functions in other parts of the program. If we were to extend our program to save a list of unordered books for purchasing at a later date.\n",
    "\n",
    "You may not have noticed, but each of our functions performs just one task. This is a coding best practice. A function should only have one specific job.\n",
    "\n",
    "### Stopping a function from changing a list\n",
    "\n",
    "There will be times when you do not want a function to change a list. In our previous example we moved items that had been ordered to a list of completed orders after payment had been processed. But what about a feature that shows a customer their shopping cart history? To display this list you need to keep the original list of unordered items. But because we moved all the ordered items out of the __shopping_cart__ list this list is now empty. And the empty version is all we have, the original is gone.\n",
    "\n",
    "To solve this problem we can pass a function a copy of a list, not the original. This way, any changes that are made will only affect the copy and leave the original untouched. Let's take a look.\n",
    "\n",
    "To send a copy of a list to a function we can use the code"
   ]
  },
  {
   "cell_type": "code",
   "execution_count": null,
   "metadata": {},
   "outputs": [],
   "source": [
    "function_name(list_name[:])"
   ]
  },
  {
   "cell_type": "markdown",
   "metadata": {},
   "source": [
    "In this line of code we are using slice notation to make a copy of the list to pass to the function. If we didn't want to empty the list of unordered books in the previous example, we could call __shopping_cart()__ like this:"
   ]
  },
  {
   "cell_type": "code",
   "execution_count": null,
   "metadata": {},
   "outputs": [],
   "source": [
    "shopping_cart(unordered_books[:], orders_complete)"
   ]
  },
  {
   "cell_type": "markdown",
   "metadata": {},
   "source": [
    "By using this method the function __shopping_cart()__ can still do its work because it is still receiving the names off all unordered books, only this time it is using a copy.\n",
    "\n",
    "This method works and can be useful but it is more efficient for a function to work with an existing list which will avoid using the time and memory needed to make separate copy. This is relevant when you start to work with large lists and datasets. \n",
    "\n",
    "## Exercises\n",
    "\n",
    "- Create a list of products. Pass the products list to a function called __in_stock()__. Have this function print out a message to a customer informing them that the products in your list are in stock.\n",
    "- Build on the previous exercise and add a function called __items_dispatched()__. Use this function to receive items from the __in_stock()__ and print a message informing the customer that their order products have been shipped and are in transit.\n",
    "- Build on the previous exercise and call the function __items_dispatched()__ using a copy of the list passed to it.After calling the function print out both lists to show that the original list has retained its items."
   ]
  },
  {
   "cell_type": "markdown",
   "metadata": {},
   "source": [
    "## How to pass an arbitrary number of arguments\n",
    "\n",
    "You won't always know how many arguments a function needs to accept. Python allows you to define functions that can receive an arbitrary number of arguments from the calling statement.\n",
    "\n",
    "Consider a website that allows customer to customize a car before they purchase it. This website will need a function that builds a car and accepts a number of extras such as leather seats. The function won't know in advance what extras a customer may want to add. The function we are about to create will have one parameter, \\*extras. This single parameter can collect as many arguments as the calling statement provides. Have a look:"
   ]
  },
  {
   "cell_type": "code",
   "execution_count": null,
   "metadata": {},
   "outputs": [],
   "source": [
    "def assemble_car(*extras):\n",
    "    \"\"\"Print a list of extras that a customer has ordered.\"\"\"\n",
    "    print(*extras)\n",
    "    \n",
    "assemble_car('base line model')\n",
    "assemble_car('leather seats', 'sat-nav')"
   ]
  },
  {
   "cell_type": "markdown",
   "metadata": {},
   "source": [
    "In this code example when we define our function at line 1, we define it with one parameter __\\*extras__. This single parameter tells Python to create an empty tuple called __extras__ and add whatever value(s) it receives from the calling statement into this tuple. The print statement in the body of the function shows that the function __assemble_car__ can handle a function call with a single extra or a call with several extras.\n",
    "\n",
    "Now let's replace the print() statement with a loop that will run through the list of extras and print them to screen for customer confirmation."
   ]
  },
  {
   "cell_type": "code",
   "execution_count": null,
   "metadata": {},
   "outputs": [],
   "source": [
    "def assemble_car(*extras):\n",
    "    \"\"\"Print a summary of extras ordered by the customer.\"\"\"\n",
    "    print(\"\\nOrder a car with the following extras:\")\n",
    "    for extra in extras:\n",
    "        print(f\" - {extra}\")\n",
    "        \n",
    "assemble_car('fog lamps')\n",
    "assemble_car('leather seats', 'sat-nav')        "
   ]
  },
  {
   "cell_type": "markdown",
   "metadata": {},
   "source": [
    "### How to mix positional arguments and arbitrary arguments\n",
    "\n",
    "It is possible for a function to accept different types of arguments. The parameter that accepts an arbitrary number of arguments must be placed last in the function definition. Python will match positional and keyword arguments first and then collects any remaining arguments in the final parameter.\n",
    "\n",
    "Let's take a look at an example which will make this easier to understand:"
   ]
  },
  {
   "cell_type": "code",
   "execution_count": null,
   "metadata": {},
   "outputs": [],
   "source": [
    "def assemble_car(body_type, *extras):\n",
    "    \"\"\"Print a summary of the car we are about to assemble.\"\"\"\n",
    "    print(f\"\\nA {body_type} car with the extras outlined below is moving to the assembly line:\")\n",
    "    for extra in extras:\n",
    "        print(f\" - {extra}\")\n",
    "        \n",
    "assemble_car('four door', 'leather seats')\n",
    "assemble_car('two door', 'sat-nav', 'fog lamps')"
   ]
  },
  {
   "cell_type": "markdown",
   "metadata": {},
   "source": [
    "In this example, in the function definition, Python assigns the first value it receives to the parameter __body_type__. Every other value that comes after this are stored in the tuple __extras__.\n",
    "\n",
    "### How to work with arbitrary keyword arguments \n",
    "\n",
    "So far everything that we have done has seemed very structured. We have known the position of arguments and their number. But there will be times when you are creating programs when you will need to be able to accepts an arbitrary number of arguments. In these instances you probably won't know what kind of information will be passed to your function. When you need this kind of flexibility, Python allows you to write functions that can accept as many key-value pairs as are in the calling statement. \n",
    "\n",
    "Imagine you are hiring a new employee and will be creating a new profile for that person, you know that you are going to have information about the employee, you just don't know what kind of information you will receive. Let's take a look:"
   ]
  },
  {
   "cell_type": "code",
   "execution_count": null,
   "metadata": {},
   "outputs": [],
   "source": [
    "def employee_profile(firstname, lastname, **employee_info):\n",
    "    \"\"\"Create a dictionary of information about a new employee.\"\"\"\n",
    "    employee_info['first_name'] = firstname\n",
    "    employee_info['last_name'] = lastname\n",
    "    return employee_info\n",
    "\n",
    "new_employee = employee_profile('tony', 'staunton', area='project management', sector='private')\n",
    "\n",
    "print(new_employee)"
   ]
  },
  {
   "cell_type": "markdown",
   "metadata": {},
   "source": [
    "In this example the function __employee_profile()__ takes a first and last name and it accepts an arbitrary number of keyword arguments. The double asterisks before the parameter __**employee_info__ forces Python to create an empty dictionary called __employee_info__. Python will place whatever key-value pairs it receives into this dictionary. Inside the function you can access the key-value pairs in __employee_info__ just like a normal dictionary.\n",
    "\n",
    "In the body of the function __employee_profile()__ we add the first and last name to the __employee_info__ dictionary because we'll always receive these two pieces of information from a new employee at line 3, and at this point they have not yet been added to the employee dictionary. At line 5 we return the __employee_info__ dictionary to the function call line.\n",
    "\n",
    "At line 7 we call the function __employee_profile()__, passing it information about a new employee. The returned profile is assigned to __new_employee__ and then printed out.\n",
    "\n",
    "This function will work regardless of how many key-value pairs are provided to it in the function call.\n",
    "\n",
    "You can mix positional, keyword, and arbitrary values in many different ways when creating your functions. As you explore more Python you will begin to see how they are mixed. It can take practice to mix and correctly use different types of arguments so don't be too hard on yourself if you struggle in the beginning. Remember, the simplest approach is always the best.\n",
    "\n",
    "Slow is smooth, and smooth is fast.\n",
    "\n",
    "\n",
    "## Storing function in modules\n",
    "\n",
    "As you start to learn more about functions and come to use them more often you will begin to see just how helpful they can be. Functions can help to make your code easier to understand, read and maintain. There will come a point along your programming journey when you can store your functions in a separate file called a __module__. When you want to use a module in your program you __import__ into it your main program. The __import__ statement is what Python uses to make your module available in the main or current program.\n",
    "\n",
    "Moving your functions into a separate file will allow you to create separations in your code that will help you write better programs. If you have a function that prints a statement then you don't have to worry about that code in your main program. You just import it and know that it works. This will free you up to focus on making your main program do its job. Not only will it free up your programs from unnecessary code bloat but you will be able to use your functions in other programs. In time you may even want to share your programs with other developers.\n",
    "\n",
    "Let's take a look at the ways of importing a module into your main program.\n",
    "\n",
    "### Importing an entire module\n",
    "\n",
    "If we are going to import functions then we first need a module. Again, a module is a file that holds one or more of your functions that is separate from your main program. In Python a module ends with the file extension __.py__. Let's create a module that contains the function __new_employee()__.:"
   ]
  },
  {
   "cell_type": "code",
   "execution_count": null,
   "metadata": {},
   "outputs": [],
   "source": [
    "#def new_employee(name, role, *qualifications):\n",
    "#    \"\"\"Summarize the role and qualifications of a new employee.\"\"\"\n",
    "#    print(f\"\\n{name} is joining as a {role}, with the following qualifications: \")\n",
    "#    for qualification in qualifications:\n",
    "#        print(f\" - {qualification}\")"
   ]
  },
  {
   "cell_type": "markdown",
   "metadata": {},
   "source": [
    "Once we have a our function created we need to save it in a separate file in the same directory as our main program. Let's save our function in a file called new_hire.py"
   ]
  },
  {
   "cell_type": "code",
   "execution_count": 2,
   "metadata": {},
   "outputs": [
    {
     "name": "stdout",
     "output_type": "stream",
     "text": [
      "\n",
      "tony is joining as a project manager, with the following qualifications: \n",
      " - Python\n",
      " - Java\n"
     ]
    }
   ],
   "source": [
    "import new_hire\n",
    "\n",
    "new_hire.new_employee('tony', 'project manager', 'Python', 'Java')"
   ]
  },
  {
   "cell_type": "markdown",
   "metadata": {},
   "source": [
    "In the code example above when Python sees the line *import new_hire* it opens the file *new_hire.py* and copies all the functions from it into the main program. All of this happens behind the scenes, you don't see anything, you just know that it has happened. You will know that the import has been successful because your code will be running as expected.\n",
    "\n",
    "At line 3 we are calling a function from an imported module. We do this by entering the name of the module we imported, *new_hire*, followed by the name of the function, *new_employee*, separated by a dot. The output of this code is the same if the full function was typed directly into the main program. \n",
    "\n",
    "The technique that we have just used to import a module makes every function from that module available to our program. The *import* statement as we have just used it imports the full module which includes all functions. We can import specific functions from a module into our programs.\n",
    "\n",
    "### Importing specific functions\n",
    "\n",
    "from module_name import function_name\n",
    "\n",
    "This syntax is how to import a specific function from a module. We can import as many functions as we need from a module by separating each function name with a comma.\n",
    "\n",
    "from module_name import function_a, function_b, function_c\n",
    "\n",
    "To import our new_hire function using this syntax we would do the following:"
   ]
  },
  {
   "cell_type": "code",
   "execution_count": 3,
   "metadata": {},
   "outputs": [
    {
     "name": "stdout",
     "output_type": "stream",
     "text": [
      "\n",
      "tony is joining as a PM, with the following qualifications: \n",
      " - Python\n",
      " - C#\n"
     ]
    }
   ],
   "source": [
    "from new_hire import new_employee\n",
    "\n",
    "new_employee('tony', 'PM', 'Python', 'C#')"
   ]
  },
  {
   "cell_type": "markdown",
   "metadata": {},
   "source": [
    "As you can see at line 3, we don't need to use the dot notation when we call the function. This is because we have explicitly imported the function *new_employee* in the import statement.\n",
    "\n",
    "### Providing a function with an alias\n",
    "\n",
    "There will be times when the name of a function that you are importing might conflict with an existing name in your program. Or there may be times when a function name is too long and you don't want to type out the whole thing. In either of these cases we can use an *alias* which is a like a nickname for a function.\n",
    "\n",
    "Using the code from before let's give our *new_employee* function an alias, *ne()*. We do this by importing *new_employee* as *ne*."
   ]
  },
  {
   "cell_type": "code",
   "execution_count": 4,
   "metadata": {},
   "outputs": [
    {
     "name": "stdout",
     "output_type": "stream",
     "text": [
      "\n",
      "tony is joining as a PM, with the following qualifications: \n",
      " - Python\n",
      " - C#\n"
     ]
    }
   ],
   "source": [
    "from new_hire import new_employee as ne\n",
    "\n",
    "ne('tony', 'PM', 'Python', 'C#')"
   ]
  },
  {
   "cell_type": "markdown",
   "metadata": {},
   "source": [
    "In this code example we have renamed the function *new_employee()* to *ne()*. Now any time that we want to call *new_employee()* we can just use its alias, *ne()*.\n",
    "\n",
    "from module_name import function_name as fn\n",
    "\n",
    "### Providing a module with an alias\n",
    "\n",
    "Functions are not the only thing that you can provide an alias to, you can also give a module an alias. Looking back at the previous code example where we imported *new_hire*, we give give the module name an alias like *e* for employee. Taking this approach to module alias naming can allow you to call a module's functions more quickly."
   ]
  },
  {
   "cell_type": "code",
   "execution_count": 5,
   "metadata": {},
   "outputs": [
    {
     "name": "stdout",
     "output_type": "stream",
     "text": [
      "\n",
      "tony is joining as a PM, with the following qualifications: \n",
      " - Python\n",
      " - Java\n"
     ]
    }
   ],
   "source": [
    "import new_hire as e\n",
    "\n",
    "e.new_employee('tony', 'PM', 'Python', 'Java')"
   ]
  },
  {
   "cell_type": "markdown",
   "metadata": {},
   "source": [
    "In this code example the *new_hire* module is given the alias *e*. It's important to point out that all of the function and their names within the module remain unchanged. \n",
    "\n",
    "The syntax is: import module_name as mn\n",
    "\n",
    "### Importing all functions of a module\n",
    "\n",
    "We can tell Python to import all the functions inside a module by using the asterisk symbol:"
   ]
  },
  {
   "cell_type": "code",
   "execution_count": 6,
   "metadata": {},
   "outputs": [
    {
     "name": "stdout",
     "output_type": "stream",
     "text": [
      "\n",
      "tony is joining as a PM1, with the following qualifications: \n",
      " - Python\n",
      " - Java\n"
     ]
    }
   ],
   "source": [
    "from new_hire import *\n",
    "\n",
    "new_employee('tony', 'PM1', 'Python', 'Java')"
   ]
  },
  {
   "cell_type": "markdown",
   "metadata": {},
   "source": [
    "In this code example the asterisk in the *import* statement tells Python to copy all functions inside the module *new_hire* and make them available in the program. As all functions are imported we can call a function by name without using dot notation. In general, and in particular when working with modules that you are unfamiliar with, it is better not to use this approach. Although I do sometimes use it when I'm feeling lazy. The reason why it's best to stay away from this approach is because if you are working with a module and it has function names that are the same as yours you can get unexpected results.\n",
    "\n",
    "The best practice is to import the function(s) that you want or import an entire module and use dot notation. This will help reduce bugs in your code, make it more readable and easier to understand.\n",
    "\n",
    "Syntax: from module import *\n",
    "\n",
    "## Exercises\n",
    "\n",
    "- Create a function that provides a greeting to a user and then place that function in a separate file. Don't forget that your new file should end with *.py*\n",
    "- Create a new program with an import statement to import your new module and function and then call your function\n",
    "- Modify your program to import the module and function using the various methods we have discussed."
   ]
  }
 ],
 "metadata": {
  "kernelspec": {
   "display_name": "Python 3 (ipykernel)",
   "language": "python",
   "name": "python3"
  },
  "language_info": {
   "codemirror_mode": {
    "name": "ipython",
    "version": 3
   },
   "file_extension": ".py",
   "mimetype": "text/x-python",
   "name": "python",
   "nbconvert_exporter": "python",
   "pygments_lexer": "ipython3",
   "version": "3.9.12"
  },
  "varInspector": {
   "cols": {
    "lenName": 16,
    "lenType": 16,
    "lenVar": 40
   },
   "kernels_config": {
    "python": {
     "delete_cmd_postfix": "",
     "delete_cmd_prefix": "del ",
     "library": "var_list.py",
     "varRefreshCmd": "print(var_dic_list())"
    },
    "r": {
     "delete_cmd_postfix": ") ",
     "delete_cmd_prefix": "rm(",
     "library": "var_list.r",
     "varRefreshCmd": "cat(var_dic_list()) "
    }
   },
   "types_to_exclude": [
    "module",
    "function",
    "builtin_function_or_method",
    "instance",
    "_Feature"
   ],
   "window_display": false
  }
 },
 "nbformat": 4,
 "nbformat_minor": 4
}
