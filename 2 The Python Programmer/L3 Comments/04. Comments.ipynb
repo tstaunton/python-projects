{
 "cells": [
  {
   "cell_type": "markdown",
   "metadata": {},
   "source": [
    "# Introduction\n",
    "\n",
    "In time you will come to love Python comments just as much as I do. You've already seen lots of examples. Each Python program in previous lesson started with a comment. Comments allow you to add notes to your programs. As your program get bigger and more complicated you'll want to add comments that describe what your code is doing. Remember, in the furture, as a Python programmer, it may not be you who is reading and using your code, it could be another programmer and comments are a way to help them understand what your code is doing.\n",
    "\n",
    "## How to create comments\n",
    "\n",
    "In Python, comments are created using the hash symbol (#). Whatever text comes after the hash is ignored by Python."
   ]
  },
  {
   "cell_type": "code",
   "execution_count": 1,
   "metadata": {},
   "outputs": [
    {
     "name": "stdout",
     "output_type": "stream",
     "text": [
      "Hello World!\n"
     ]
    }
   ],
   "source": [
    "# Python comments Hello World\n",
    "print(\"Hello World!\")"
   ]
  },
  {
   "cell_type": "markdown",
   "metadata": {},
   "source": [
    "Another reason to write comments on your code is for you. After you complete a coding project and send it off into the world it could be a long time before you have the review the code again. By adding comments at the time of write your programs you'll let your future self know what you where thinking at that time, why you structured your code in a certain way for example.\n",
    "\n",
    "## Multi-line comments"
   ]
  },
  {
   "cell_type": "code",
   "execution_count": 2,
   "metadata": {},
   "outputs": [
    {
     "name": "stdout",
     "output_type": "stream",
     "text": [
      "Hello World!\n",
      "Welcome back!\n"
     ]
    }
   ],
   "source": [
    "# Program 001\n",
    "# Written by Tony Staunton\n",
    "# Date: 26 September 2022\n",
    "# Name: Hello World\n",
    "\n",
    "# Using the print statement\n",
    "print(\"Hello World!\")\n",
    "\n",
    "# Using a variable in the print statement\n",
    "message = (\"Welcome back!\")\n",
    "print(message)"
   ]
  },
  {
   "cell_type": "markdown",
   "metadata": {},
   "source": [
    "## Exercises\n",
    "\n",
    "1. If you haven't already go back and add comments to the programs you have written so far.\n",
    "2. Create a new program which prints a statement and uses a variable and use multi-line comments to explain your code."
   ]
  },
  {
   "cell_type": "code",
   "execution_count": null,
   "metadata": {},
   "outputs": [],
   "source": []
  }
 ],
 "metadata": {
  "kernelspec": {
   "display_name": "Python 3 (ipykernel)",
   "language": "python",
   "name": "python3"
  },
  "language_info": {
   "codemirror_mode": {
    "name": "ipython",
    "version": 3
   },
   "file_extension": ".py",
   "mimetype": "text/x-python",
   "name": "python",
   "nbconvert_exporter": "python",
   "pygments_lexer": "ipython3",
   "version": "3.9.12"
  }
 },
 "nbformat": 4,
 "nbformat_minor": 4
}
