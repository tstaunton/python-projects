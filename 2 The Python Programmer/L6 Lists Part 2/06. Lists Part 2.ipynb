{
 "cells": [
  {
   "cell_type": "markdown",
   "metadata": {},
   "source": [
    "# Introduction\n",
    "\n",
    "In a previous video we learned how to work with simple lists in Python. In this and later lessons we'll look at some more advanced ways to work with lists in Python.\n",
    "\n",
    "## Looping through a list\n",
    "\n",
    "Looping in Python allows us to perform the same action on every item in a list. Imagine that you have a list containing several million phone numbers and you wanted to remove the plus(+) symbol that appears at the start of international numbers. Looping through the list could accomplish this task easily and in a short amount of time.\n",
    "\n",
    "The time to use a loop in Python is when you need to perform the same action on every item in a list. If you choose to go on and learn Data Science with Python, loops play a big role in cleaning data before putting it to use. Let's take a look at some examples: "
   ]
  },
  {
   "cell_type": "code",
   "execution_count": 5,
   "metadata": {},
   "outputs": [
    {
     "name": "stdout",
     "output_type": "stream",
     "text": [
      "book1\n",
      "book2\n",
      "book3\n",
      "book4\n",
      "book5\n",
      "book6\n",
      "book7\n",
      "book8\n",
      "book9\n",
      "book10\n"
     ]
    }
   ],
   "source": [
    "# Define a list\n",
    "books_available = ['book1', 'book2', 'book3', 'book4', 'book5', 'book6', 'book7', 'book8', 'book9', 'book10']\n",
    "\n",
    "# Define a for loop\n",
    "for book in books_available:\n",
    "    print(book)"
   ]
  },
  {
   "cell_type": "markdown",
   "metadata": {},
   "source": [
    "In the code above we have a list containing 10 books for sale on our website. If we had to go through our list and use the __print__ statement to display each book to screen this would be a long process. What happens if we have 20 or 100 books? What happens when a book is no longer available for sale?\n",
    "\n",
    "- At line 1 we have defined a list\n",
    "- Line 5 is where we define a loop. This line of code tells Python to take an element from our list of books and assign it to the variable __book__.\n",
    "- Line 6 should be familiar to you by now, here we tell Python to print out the element that has just been assigned to the variable __book__.\n",
    "\n",
    "We have ten elements in our list, and Python will repeat lines two and three until it there are no more elements left to print. \n",
    "\n",
    "Think of it this way, for every book in the list, books_available, print the book.\n",
    "\n",
    "As you write more Python programs you will discover that looping is one of the most common ways for a program to carry out repetitive tasks. In the example above, the loop begins at line 5. This line tells Python to get the first value from the list, __books available__ and associate it with the variable __book__. At line 6, we tell Python to print out the current value of __book__, which in this example is __book1__. Python will continue this process until all of the items from the list have been printed out. When there are no more items left to print, Python will move to the next line of the program. In our example there is no next line so the program ends.\n",
    "\n",
    "When you create __for__ loops in Python keep in mind that you can choose any name for the variable. We used __book__, 'for book in books_available:' but you can use any name you like. It's best practice to try to choose a name that is meaningful as it will not always be you reading your code."
   ]
  },
  {
   "cell_type": "markdown",
   "metadata": {},
   "source": [
    "## Doing more with for loops\n",
    "\n",
    "Not only can we print out each item from a list using a __for__ loop but we can do almost anything to that item. Let's take a look:"
   ]
  },
  {
   "cell_type": "code",
   "execution_count": 6,
   "metadata": {},
   "outputs": [
    {
     "name": "stdout",
     "output_type": "stream",
     "text": [
      "The Everything Store, is in stock.\n",
      "Elon Musk, is in stock.\n",
      "Steve Jobs, is in stock.\n"
     ]
    }
   ],
   "source": [
    "# Create a list of books\n",
    "books_available = [\"the everything store\", \"elon musk\", \"steve jobs\"]\n",
    "\n",
    "# Define a for loop\n",
    "for book in books_available:\n",
    "    print(f\"{book.title()}, is in stock.\")"
   ]
  },
  {
   "cell_type": "markdown",
   "metadata": {},
   "source": [
    "In this example we have looped through each item of the list __books_available__, used the title method on each item and then combined that item with the string \"..., is in stock.\"\n",
    "\n",
    "We could keep adding lines of code to our loop, for example:"
   ]
  },
  {
   "cell_type": "code",
   "execution_count": 7,
   "metadata": {},
   "outputs": [
    {
     "name": "stdout",
     "output_type": "stream",
     "text": [
      "The Everything Store, is in stock.\n",
      "Would you like to order this book? Y/N\n",
      "\n",
      "Elon Musk, is in stock.\n",
      "Would you like to order this book? Y/N\n",
      "\n",
      "Steve Jobs, is in stock.\n",
      "Would you like to order this book? Y/N\n",
      "\n"
     ]
    }
   ],
   "source": [
    "# Create a list of books\n",
    "books_available = [\"the everything store\", \"elon musk\", \"steve jobs\"]\n",
    "\n",
    "# Define a for loop\n",
    "for book in books_available:\n",
    "    print(f\"{book.title()}, is in stock.\")\n",
    "    print(\"Would you like to order this book? Y/N\\n\")"
   ]
  },
  {
   "cell_type": "markdown",
   "metadata": {},
   "source": [
    "Why has the second print statement printed out three times? It's because we have made it part of the __for__ loop by indenting it. Every indented line of code after line 5, the creation of the __for__ loop, will be executed once for every item in the __books_available__ list. You can add as many lines of code that are necessary in your __for__ loops.\n",
    "\n",
    "After your __for__ loop has executed any lines of code that are note indented will run once without being repeated."
   ]
  },
  {
   "cell_type": "code",
   "execution_count": 8,
   "metadata": {},
   "outputs": [
    {
     "name": "stdout",
     "output_type": "stream",
     "text": [
      "The Everything Store, is in stock.\n",
      "Would you like to order this book? Y/N\n",
      "\n",
      "Elon Musk, is in stock.\n",
      "Would you like to order this book? Y/N\n",
      "\n",
      "Steve Jobs, is in stock.\n",
      "Would you like to order this book? Y/N\n",
      "\n",
      "Note: There is a 5 day lead time for all orders.\n"
     ]
    }
   ],
   "source": [
    "# Create a list of books\n",
    "books_available = [\"the everything store\", \"elon musk\", \"steve jobs\"]\n",
    "\n",
    "# Define a for loop\n",
    "for book in books_available:\n",
    "    print(f\"{book.title()}, is in stock.\")\n",
    "    print(\"Would you like to order this book? Y/N\\n\")\n",
    "    \n",
    "# Print statement\n",
    "print(\"Note: There is a 5 day lead time for all orders.\")"
   ]
  },
  {
   "cell_type": "markdown",
   "metadata": {},
   "source": [
    "In this example, the two print statements inside the __for__ loop execute for each item in the list. The final __print__ statement at line 10 is executed only once as it is not indented inside the __for__ loop. \n",
    "\n",
    "## Indentation errors\n",
    "\n",
    "In Python, indentation and white space are used to work out how a line, or several lines of code, are related to the rest of the program. In the examples above we've seen how the indented print statements were executed as part of the __for__ loop. It is this use of indentation that helps to make Python easy to read. As you begin to write longer programs you will write lines of code which are indented to form blocks of code at several different levels. \n",
    "\n",
    "For new programmers indentation is a common area for errors. You may forget to indent, you may indent where it is not necessary or you may incorrectly indent within a block of code.\n",
    "\n",
    "Let's look some examples of indentation errors and hopefully this will help you avoid them in the future.\n",
    "\n",
    "### Forgetting to indent\n",
    "In the example below we return to our __for__ loop."
   ]
  },
  {
   "cell_type": "code",
   "execution_count": 9,
   "metadata": {},
   "outputs": [
    {
     "ename": "IndentationError",
     "evalue": "expected an indented block (4034905130.py, line 6)",
     "output_type": "error",
     "traceback": [
      "\u001b[0;36m  Input \u001b[0;32mIn [9]\u001b[0;36m\u001b[0m\n\u001b[0;31m    print(f\"{book.title()}, is in stock.\")\u001b[0m\n\u001b[0m    ^\u001b[0m\n\u001b[0;31mIndentationError\u001b[0m\u001b[0;31m:\u001b[0m expected an indented block\n"
     ]
    }
   ],
   "source": [
    "# Create a list of books\n",
    "books_available = [\"the everything store\", \"elon musk\", \"steve jobs\"]\n",
    "\n",
    "# Define a for loop\n",
    "for book in books_available:\n",
    "print(f\"{book.title()}, is in stock.\")"
   ]
  },
  {
   "cell_type": "markdown",
   "metadata": {},
   "source": [
    "As you can see at line 6 I have removed the indentation. When the code is run Python returns an error, telling us that it expected an indented block at line 6. This error is easy to resolve, just add indentation to line 6. The rule is always indent the line after the __for__ statement in a loop.\n",
    "\n",
    "### Forgetting to indent additional lines\n"
   ]
  },
  {
   "cell_type": "code",
   "execution_count": 10,
   "metadata": {},
   "outputs": [
    {
     "name": "stdout",
     "output_type": "stream",
     "text": [
      "The Everything Store, is in stock.\n",
      "Elon Musk, is in stock.\n",
      "Steve Jobs, is in stock.\n",
      "Would you like to order this book? Y/N\n",
      "\n",
      "Note: There is a 5 day lead time for all orders.\n"
     ]
    }
   ],
   "source": [
    "# Create a list of books\n",
    "books_available = [\"the everything store\", \"elon musk\", \"steve jobs\"]\n",
    "\n",
    "# Define a for loop\n",
    "for book in books_available:\n",
    "    print(f\"{book.title()}, is in stock.\")\n",
    "print(\"Would you like to order this book? Y/N\\n\")\n",
    "    \n",
    "# Print statement\n",
    "print(\"Note: There is a 5 day lead time for all orders.\")"
   ]
  },
  {
   "cell_type": "markdown",
   "metadata": {},
   "source": [
    "In the example above I have neglected to indent the print statement at line 7. The program has run and not generated any errors but the output is not what I expected. \n",
    "\n",
    "Every time you define a __for__ loop, Python expects to find at least one indented line after the __for__ statement, if it does, no error is reported. At line 6 we have an indented __print__ statement so this statement is executed once for each item on the list. The next __print__ statement at line 7 is not indented and so is executed only once after the loop has finished running. \n",
    "\n",
    "In Python, this is called a __logical error__. Our code is valid and runs successfully but the output is not what we wanted. We expected to see the line \"Would you like to order this book? Y/N\" after every book title, instead we see it only once at the end of our program. To solve this error we review our code and determine if and where an indentation might be missing and we indent one or several lines of code.\n",
    "\n",
    "### Unnecessarily indenting\n",
    "\n",
    "If we accidentally indent a line of code Python is going to let us know."
   ]
  },
  {
   "cell_type": "code",
   "execution_count": 11,
   "metadata": {},
   "outputs": [
    {
     "ename": "IndentationError",
     "evalue": "unexpected indent (1153141823.py, line 2)",
     "output_type": "error",
     "traceback": [
      "\u001b[0;36m  Input \u001b[0;32mIn [11]\u001b[0;36m\u001b[0m\n\u001b[0;31m    print(out_of_stock_message)\u001b[0m\n\u001b[0m    ^\u001b[0m\n\u001b[0;31mIndentationError\u001b[0m\u001b[0;31m:\u001b[0m unexpected indent\n"
     ]
    }
   ],
   "source": [
    "out_of_stock_message(\"This title is currently unavailable.\")\n",
    "    print(out_of_stock_message)"
   ]
  },
  {
   "cell_type": "markdown",
   "metadata": {},
   "source": [
    "In this example, we do not need to indent the __print__ statement at line 2. \n",
    "\n",
    "### Unnecessarily indenting after the loop"
   ]
  },
  {
   "cell_type": "code",
   "execution_count": 14,
   "metadata": {},
   "outputs": [
    {
     "name": "stdout",
     "output_type": "stream",
     "text": [
      "The Everything Store, is in stock.\n",
      "Would you like to order this book? Y/N\n",
      "\n",
      "Note: There is a 5 day lead time for all orders.\n",
      "Elon Musk, is in stock.\n",
      "Would you like to order this book? Y/N\n",
      "\n",
      "Note: There is a 5 day lead time for all orders.\n",
      "Steve Jobs, is in stock.\n",
      "Would you like to order this book? Y/N\n",
      "\n",
      "Note: There is a 5 day lead time for all orders.\n"
     ]
    }
   ],
   "source": [
    "# Create a list of books\n",
    "books_available = [\"the everything store\", \"elon musk\", \"steve jobs\"]\n",
    "\n",
    "# Define a for loop\n",
    "for book in books_available:\n",
    "    print(f\"{book.title()}, is in stock.\")\n",
    "    print(\"Would you like to order this book? Y/N\\n\")\n",
    "    \n",
    "# Print statement\n",
    "    print(\"Note: There is a 5 day lead time for all orders.\")"
   ]
  },
  {
   "cell_type": "markdown",
   "metadata": {},
   "source": [
    "In the example above we have mistakenly indented the __print__ statement at line 10. As a result, this code is repeated for each item on the list. This is another logical error. Python may report this error but most times your code will run with unexpected results.\n",
    "\n",
    "### Forgetting the colon\n",
    "\n",
    "When you create a __for__ loop you add a colon at the end of the __for__ statement. This colon tells Python that the next line of code is the start of the loop. If you forget to add the colon you will get what's called a syntax error because Python is unsure of what is suppose to happen. Let's take a look:"
   ]
  },
  {
   "cell_type": "code",
   "execution_count": 15,
   "metadata": {},
   "outputs": [
    {
     "ename": "SyntaxError",
     "evalue": "invalid syntax (2676179572.py, line 5)",
     "output_type": "error",
     "traceback": [
      "\u001b[0;36m  Input \u001b[0;32mIn [15]\u001b[0;36m\u001b[0m\n\u001b[0;31m    for book in books_available\u001b[0m\n\u001b[0m                               ^\u001b[0m\n\u001b[0;31mSyntaxError\u001b[0m\u001b[0;31m:\u001b[0m invalid syntax\n"
     ]
    }
   ],
   "source": [
    "# Create a list of books\n",
    "books_available = [\"the everything store\", \"elon musk\", \"steve jobs\"]\n",
    "\n",
    "# Define a for loop\n",
    "for book in books_available\n",
    "    print(f\"{book.title()}, is in stock.\")"
   ]
  },
  {
   "cell_type": "markdown",
   "metadata": {},
   "source": [
    "The solution to this error is to simply add the colon at the end of the __for__ statement.\n",
    "\n",
    "## Exercises\n",
    "\n",
    "Here are three products, lamp, chair, and candle. Store these products in a list, and then use a __for__ loop to print the name of each product.\n",
    "\n",
    "- Update your __for__ loop to add a message to each product. For example \"...available in other colors.\" or \"I would like to order a PRODUCT NAME\"\n",
    "\n",
    "- Add a message to the end of your program that will execute only once. \n",
    "\n",
    "## Creating numerical lists\n",
    "\n",
    "As you expand your Python programs you won't be just creating lists that contain strings, you'll also be creating numerical lists. For example, you may need to track daily, weekly or monthly sales figures, if you are creating a program related to the weather you might want to record temperatures. There are countless examples.\n",
    "\n",
    "In Python lists can be used to store sets of numbers. If you go on to work in the areas of data analysts or data science you will be working with lists that contain millions of items.\n",
    "\n",
    "### Range() function\n",
    "\n",
    "Let's kick off our exploration of numerical lists in Python with the __range__ function."
   ]
  },
  {
   "cell_type": "code",
   "execution_count": 16,
   "metadata": {},
   "outputs": [
    {
     "name": "stdout",
     "output_type": "stream",
     "text": [
      "1\n",
      "2\n",
      "3\n",
      "4\n",
      "5\n",
      "6\n",
      "7\n",
      "8\n",
      "9\n"
     ]
    }
   ],
   "source": [
    "for value in range(1, 10):\n",
    "    print(value)"
   ]
  },
  {
   "cell_type": "markdown",
   "metadata": {},
   "source": [
    "These two lines of code contain a __for__ loop and a __print__ statement to print out the range of numbers 1 - 9. Why not 1 - 10? The __range()__ function instructs Python to start counting at the first value provided to it, which in this case is 1. The __range()__ function stops when it reaches the second value provided, which in this example is 10. Because it stops at the second value, the output never contains the end value.\n",
    "\n",
    "To print the numbers 1 - 10 we would use range(1, 11):"
   ]
  },
  {
   "cell_type": "code",
   "execution_count": 17,
   "metadata": {},
   "outputs": [
    {
     "name": "stdout",
     "output_type": "stream",
     "text": [
      "1\n",
      "2\n",
      "3\n",
      "4\n",
      "5\n",
      "6\n",
      "7\n",
      "8\n",
      "9\n",
      "10\n"
     ]
    }
   ],
   "source": [
    "for value in range(1, 11):\n",
    "    print(value)"
   ]
  },
  {
   "cell_type": "markdown",
   "metadata": {},
   "source": [
    "When using the __range()__ function and you find that your output is not what you expected try adjusting your end value by 1.\n",
    "\n",
    "You can also pass __range()__ one argument and it will start counting at 0. For example:"
   ]
  },
  {
   "cell_type": "code",
   "execution_count": 18,
   "metadata": {},
   "outputs": [
    {
     "name": "stdout",
     "output_type": "stream",
     "text": [
      "0\n",
      "1\n",
      "2\n",
      "3\n",
      "4\n",
      "5\n",
      "6\n",
      "7\n",
      "8\n",
      "9\n",
      "10\n"
     ]
    }
   ],
   "source": [
    "for value in range(11):\n",
    "    print(value)"
   ]
  },
  {
   "cell_type": "markdown",
   "metadata": {},
   "source": [
    "### Making a list of numbers\n",
    "\n",
    "We've just been using Python's __range()__ function to generate a range of numbers, but these are not lists. To make a list we must convert the results of __range()__ into a list with the __list()__ function. Let's take a look:"
   ]
  },
  {
   "cell_type": "code",
   "execution_count": 19,
   "metadata": {},
   "outputs": [
    {
     "name": "stdout",
     "output_type": "stream",
     "text": [
      "[1, 2, 3, 4, 5, 6, 7, 8, 9, 10, 11, 12]\n"
     ]
    }
   ],
   "source": [
    "months = list(range(1, 13))\n",
    "print(months)"
   ]
  },
  {
   "cell_type": "markdown",
   "metadata": {},
   "source": [
    "In this example we place the __range()__ function inside the __list()__ function, which outputs for us a list of numbers. How do you know that the output is a list? It's surrounded by square brackets and separated by commas.\n",
    "\n",
    "The __range()__ function can also be used to tell Python to skip numbers in a given range. If you pass a third argument to __range()__, Python will use that value as a step size when generating numbers. For example:"
   ]
  },
  {
   "cell_type": "code",
   "execution_count": 20,
   "metadata": {},
   "outputs": [
    {
     "name": "stdout",
     "output_type": "stream",
     "text": [
      "[1, 3, 5, 7, 9]\n"
     ]
    }
   ],
   "source": [
    "odd_numbers = list(range(1, 11, 2))\n",
    "print(odd_numbers)"
   ]
  },
  {
   "cell_type": "markdown",
   "metadata": {},
   "source": [
    "Here the __range()__ function starts with the value 1 and then adds 2 to that value. It will continue to add 2 until it reaches or passes the end value .\n",
    "\n",
    "The __range()__ function can be used to create almost any set of numbers that you can think of. For example:"
   ]
  },
  {
   "cell_type": "code",
   "execution_count": 21,
   "metadata": {},
   "outputs": [
    {
     "name": "stdout",
     "output_type": "stream",
     "text": [
      "[1, 4, 9, 16, 25, 36, 49, 64, 81, 100, 121, 144, 169, 196, 225, 256, 289, 324, 361, 400]\n"
     ]
    }
   ],
   "source": [
    "squares = []\n",
    "for value in range(1, 21):\n",
    "    square = value ** 2\n",
    "    squares.append(square)\n",
    "print(squares)"
   ]
  },
  {
   "cell_type": "markdown",
   "metadata": {},
   "source": [
    "In this example we've created a list of square numbers in the range 1 to 20. In Python two asterisks(`**`) represents exponents.\n",
    "\n",
    "- At line one we create an empty list called squares\n",
    "- At line two we tell Python to loop through each value from 1 to 21 using the __range()__ function\n",
    "- Inside the loop the current value is raised to the second power and then assigned to the variable __square__\n",
    "- At line four each new value of __square__ is appended to the list __squares__\n",
    "- At line 6, when the loop has completed we tell Python to print out the list of squares\n",
    "\n",
    "This code could also be written as:"
   ]
  },
  {
   "cell_type": "code",
   "execution_count": 22,
   "metadata": {},
   "outputs": [
    {
     "name": "stdout",
     "output_type": "stream",
     "text": [
      "[1, 4, 9, 16, 25, 36, 49, 64, 81, 100, 121, 144, 169, 196, 225, 256, 289, 324, 361, 400]\n"
     ]
    }
   ],
   "source": [
    "squares = []\n",
    "for value in range(1, 21):\n",
    "    squares.append(value**2)\n",
    "print(squares)"
   ]
  },
  {
   "cell_type": "markdown",
   "metadata": {},
   "source": [
    "### Simple statistics\n",
    "\n",
    "Let's look at some other Python functions that we can use to work with lists of numbers."
   ]
  },
  {
   "cell_type": "code",
   "execution_count": 23,
   "metadata": {},
   "outputs": [
    {
     "name": "stdout",
     "output_type": "stream",
     "text": [
      "1\n"
     ]
    }
   ],
   "source": [
    "# Create a list of numbers\n",
    "numbers = [1 ,2, 3, 4, 5, 6, 7, 8, 9, 10]\n",
    "print(min(numbers))"
   ]
  },
  {
   "cell_type": "code",
   "execution_count": 24,
   "metadata": {},
   "outputs": [
    {
     "name": "stdout",
     "output_type": "stream",
     "text": [
      "10\n"
     ]
    }
   ],
   "source": [
    "# Create a list of numbers\n",
    "numbers = [1 ,2, 3, 4, 5, 6, 7, 8, 9, 10]\n",
    "print(max(numbers))"
   ]
  },
  {
   "cell_type": "code",
   "execution_count": 25,
   "metadata": {},
   "outputs": [
    {
     "name": "stdout",
     "output_type": "stream",
     "text": [
      "55\n"
     ]
    }
   ],
   "source": [
    "# Create a list of numbers\n",
    "numbers = [1 ,2, 3, 4, 5, 6, 7, 8, 9, 10]\n",
    "print(sum(numbers))"
   ]
  },
  {
   "cell_type": "markdown",
   "metadata": {},
   "source": [
    "### List comprehension\n",
    "\n",
    "In a previous example we created a list of squares with four lines of code. With list comprehension we can achieve the same task in only one line of code.\n",
    "\n",
    "List comprehension combines a for loop and the creation of new elements into one line of code, and automatically appends each new element. Let's write the code to create a list of squares as we did in a previous example but this time using list comprehension."
   ]
  },
  {
   "cell_type": "code",
   "execution_count": 26,
   "metadata": {},
   "outputs": [
    {
     "name": "stdout",
     "output_type": "stream",
     "text": [
      "[1, 4, 9, 16, 25, 36, 49, 64, 81, 100, 121, 144, 169, 196, 225, 256, 289, 324, 361, 400]\n"
     ]
    }
   ],
   "source": [
    "squares = [value**2 for value in range(1, 21)]\n",
    "print(squares)"
   ]
  },
  {
   "cell_type": "markdown",
   "metadata": {},
   "source": [
    "We start by creating a variable __squares__. We then open a set of square brackets and create the expression for the values we want in the new list, in this example __value**2__. We then write a __for__ loop on the same line and close the square brackets.\n",
    "\n",
    "List comprehension takes practice.\n",
    "\n",
    "## Exercises\n",
    "\n",
    "- Use a __for__ loop to print the numbers one to fifty, inclusive\n",
    "- create a list of numbers from one to 50,000\n",
    "- Using the list of 50,000 use the functions, __max()__ and __sum()__\n",
    "- Create a list of even numbers by adding a third argument to the __range()__ function\n",
    "- Create a list of cubed numbers (hint: the cube of 2 in Python is `2**3`). Use a __for__ loop to display the results"
   ]
  },
  {
   "cell_type": "markdown",
   "metadata": {},
   "source": [
    "# How to work with part of a list\n",
    "\n",
    "We've learned how to access single elements from a list, and we've just seen how to work through all the elements of a list. Now let's learn how to work with individual elements  or groups within a list. This is what Python calls a __slice__.\n",
    "\n",
    "## Slicing a list\n",
    "\n",
    "To create a slice, you tell Python the index of the first and last elements you want to work with. Just like the __range()__ function, Python will not return the last item or index you specify. Let's take a look: "
   ]
  },
  {
   "cell_type": "code",
   "execution_count": 27,
   "metadata": {},
   "outputs": [
    {
     "name": "stdout",
     "output_type": "stream",
     "text": [
      "['tony', 'robert', 'mary']\n"
     ]
    }
   ],
   "source": [
    "employees = ['tony', 'robert', 'mary', 'john', 'anne']\n",
    "print(employees[0:3])\n"
   ]
  },
  {
   "cell_type": "markdown",
   "metadata": {},
   "source": [
    "As you can see to output the first three elements of the list __employees__ we requested indices 0 to 3, which return the elements at positions 0, 1, 2.\n",
    "\n",
    "In the code example above we created a new list and then printed out a slice of that list. This slice has the first three employees. Also, note that the output is itself a list.\n",
    "\n",
    "We can create any slice of a list that fits our purposes. For example:"
   ]
  },
  {
   "cell_type": "code",
   "execution_count": 28,
   "metadata": {},
   "outputs": [
    {
     "name": "stdout",
     "output_type": "stream",
     "text": [
      "['robert', 'mary', 'john']\n"
     ]
    }
   ],
   "source": [
    "employees = ['tony', 'robert', 'mary', 'john', 'anne']\n",
    "print(employees[1:4])"
   ]
  },
  {
   "cell_type": "markdown",
   "metadata": {},
   "source": [
    "Here we have returned the second, third and fourth items from our list.\n",
    "\n",
    "If we leave out the first index when creating a slice, Python will automatically start at the beginning of the list:"
   ]
  },
  {
   "cell_type": "code",
   "execution_count": 29,
   "metadata": {},
   "outputs": [
    {
     "name": "stdout",
     "output_type": "stream",
     "text": [
      "['tony', 'robert', 'mary']\n"
     ]
    }
   ],
   "source": [
    "employees = ['tony', 'robert', 'mary', 'john', 'anne']\n",
    "print(employees[:3])"
   ]
  },
  {
   "cell_type": "markdown",
   "metadata": {},
   "source": [
    "Similarly if we want to create a slice to the end of a list we can do write the following:"
   ]
  },
  {
   "cell_type": "code",
   "execution_count": 30,
   "metadata": {},
   "outputs": [
    {
     "name": "stdout",
     "output_type": "stream",
     "text": [
      "['robert', 'mary', 'john', 'anne']\n"
     ]
    }
   ],
   "source": [
    "employees = ['tony', 'robert', 'mary', 'john', 'anne']\n",
    "print(employees[1:])"
   ]
  },
  {
   "cell_type": "markdown",
   "metadata": {},
   "source": [
    "This code is very helpful when you want to output from any point of a list to the end of a list but do not know the lists length.\n",
    "\n",
    "You might remember that in a previous video we seen how a negative index returns an element from the end of a list? Using this syntax we can create a slice from the end of a list. Again, this is very helpful when you do not know the length of a list. Let's take a look:"
   ]
  },
  {
   "cell_type": "code",
   "execution_count": 31,
   "metadata": {},
   "outputs": [
    {
     "name": "stdout",
     "output_type": "stream",
     "text": [
      "['anne']\n"
     ]
    }
   ],
   "source": [
    "employees = ['tony', 'robert', 'mary', 'john', 'anne']\n",
    "print(employees[-1:])"
   ]
  },
  {
   "cell_type": "code",
   "execution_count": 32,
   "metadata": {},
   "outputs": [
    {
     "name": "stdout",
     "output_type": "stream",
     "text": [
      "['mary', 'john', 'anne']\n"
     ]
    }
   ],
   "source": [
    "employees = ['tony', 'robert', 'mary', 'john', 'anne']\n",
    "print(employees[-3:])"
   ]
  },
  {
   "cell_type": "markdown",
   "metadata": {},
   "source": [
    "## Looping through a slice\n",
    "\n",
    "We've see __for__ loops and we can use them here again to loop through a slice. Let's take a look:"
   ]
  },
  {
   "cell_type": "code",
   "execution_count": 33,
   "metadata": {},
   "outputs": [
    {
     "name": "stdout",
     "output_type": "stream",
     "text": [
      "Tony\n",
      "Robert\n",
      "Mary\n"
     ]
    }
   ],
   "source": [
    "employees = ['tony', 'robert', 'mary', 'john', 'anne']\n",
    "for employee in employees[:3]:\n",
    "    print(employee.title())"
   ]
  },
  {
   "cell_type": "markdown",
   "metadata": {},
   "source": [
    "Here, we have looped through a slice or subset of our employees list. Here is another example:"
   ]
  },
  {
   "cell_type": "code",
   "execution_count": 34,
   "metadata": {},
   "outputs": [
    {
     "name": "stdout",
     "output_type": "stream",
     "text": [
      "The employees working today are:\n",
      "\n",
      "Tony\n",
      "Robert\n",
      "Mary\n",
      "John\n"
     ]
    }
   ],
   "source": [
    "employees = ['tony', 'robert', 'mary', 'john', 'anne']\n",
    "\n",
    "print(\"The employees working today are:\\n\")\n",
    "for employee in employees[0:4]:\n",
    "    print(employee.title())"
   ]
  },
  {
   "cell_type": "markdown",
   "metadata": {},
   "source": [
    "Slices are a very powerful feature of Python and also very helpful. For example, recently I was working on a dataset that contained over 250,000 customers. Rather than work on the entire set I created a slice of a small subset of customers. This way I could write and test code using only a small number of customers rather than the full 250,000."
   ]
  },
  {
   "cell_type": "markdown",
   "metadata": {},
   "source": [
    "## Copying a list\n",
    "\n",
    "Imagine you are at work, and your boss emails you a list of customers that she needs some data manipulation performed on. You don't want to work on the original list as this is the source of truth, which you may need to refer to in the future, like when you mess up! The best thing to do here is to create a copy of the list.\n",
    "\n",
    "To create a copy of a list we can make a slice of the entire list. We do this with the slice syntax, \\[:]. This tells Python to make a slice that starts at the first item and ends with the last item, the full list. Let's take a look:"
   ]
  },
  {
   "cell_type": "code",
   "execution_count": 35,
   "metadata": {},
   "outputs": [
    {
     "name": "stdout",
     "output_type": "stream",
     "text": [
      "Here are our customer names:\n",
      "['phil', 'claire', 'alex', 'luke', 'haley', 'jay', 'gloria', 'joe']\n",
      "\n",
      "Customers who have made recent orders are:\n",
      "['phil', 'claire', 'alex', 'luke', 'haley', 'jay', 'gloria', 'joe']\n"
     ]
    }
   ],
   "source": [
    "customers = ['phil', 'claire', 'alex', 'luke', 'haley', 'jay', 'gloria', 'joe']\n",
    "customer_orders = customers[:]\n",
    "\n",
    "print(\"Here are our customer names:\")\n",
    "print(customers)\n",
    "\n",
    "print(\"\\nCustomers who have made recent orders are:\")\n",
    "print(customer_orders)"
   ]
  },
  {
   "cell_type": "markdown",
   "metadata": {},
   "source": [
    "Let's add some new customers to our list:"
   ]
  },
  {
   "cell_type": "code",
   "execution_count": 36,
   "metadata": {},
   "outputs": [
    {
     "name": "stdout",
     "output_type": "stream",
     "text": [
      "Here is our customer list:\n",
      "['phil', 'claire', 'alex', 'luke', 'haley', 'jay', 'gloria', 'joe', 'cam']\n",
      "\n",
      "Here is a list of new customers\n",
      "['phil', 'claire', 'alex', 'luke', 'haley', 'jay', 'gloria', 'joe', 'mitchell']\n"
     ]
    }
   ],
   "source": [
    "customers = ['phil', 'claire', 'alex', 'luke', 'haley', 'jay', 'gloria', 'joe']\n",
    "new_customers = customers[:]\n",
    "\n",
    "customers.append('cam')\n",
    "new_customers.append('mitchell')\n",
    "\n",
    "print(\"Here is our customer list:\")\n",
    "print(customers)\n",
    "\n",
    "print(\"\\nHere is a list of new customers\")\n",
    "print(new_customers)\n",
    "      "
   ]
  },
  {
   "cell_type": "markdown",
   "metadata": {},
   "source": [
    "In the example above we have our original list of customers which we copy to create a new list called __new_customers__. We then add a customer to the copy using Python's __append()__ method. We print out both lists to display the updates.\n",
    "\n",
    "Why not simply write, new_customers = customers?\n",
    "\n",
    "This line of code would tell Python to associate the variable __new_customers__ with the list that is in __customers__, meaning that both variables would point to the same list. This means that any time we update a list with a new customer the other list would update with that customer as well.\n",
    "\n",
    "## Exercises\n",
    "\n",
    "Create a new list using a code from an example above. With your new list try the following:\n",
    "\n",
    "- Print the message \"The first three elements of this list are:\". Use a slice to print the first three elements from the list.\n",
    "- Print the message \"The middle two elements of this list are:\". Use a slice to print the middle two elements from the list.\n",
    "- Print the message \"The last element of this list is:\". Use a slice to print the last element on the list. \n",
    "- Create a new list of your family or friends and create a copy that list\n",
    "- Add a new person to the copy of the list\n"
   ]
  },
  {
   "cell_type": "markdown",
   "metadata": {},
   "source": [
    "## Tuples\n",
    "\n",
    "First off, what is a __tuple__? A tuple is a list of items that cannot change. Lists are great for storing items that need to change, customers, sales, employees, web site users. There will be times when you need to create lists that cannot change and thats what tuples are for. In Python a value that cannot change is immutable, and an immutable list is called a tuple.\n",
    "\n",
    "A tuple is defined with opening and closing parentheses (). You can access individual elements of a tuple using its index just as we did with lists.\n",
    "\n",
    "Let's take a look at an example. The floor size of your bedroom, living room, kitchen or garage are not going to change unless you do some construction work."
   ]
  },
  {
   "cell_type": "code",
   "execution_count": 37,
   "metadata": {},
   "outputs": [
    {
     "name": "stdout",
     "output_type": "stream",
     "text": [
      "5\n",
      "12\n"
     ]
    }
   ],
   "source": [
    "# Defining a tuple\n",
    "kitchen_size_meters = (5, 12)\n",
    "print(kitchen_size_meters[0])\n",
    "print(kitchen_size_meters[1])"
   ]
  },
  {
   "cell_type": "markdown",
   "metadata": {},
   "source": [
    "In this code example we define a tuple at line 2 using parentheses. At lines 3 and 4 we print out each size of our kitchen using the same method we've been using to access items in a list.\n",
    "\n",
    "What happens if we try to change an element in __kitchen_size_meters__."
   ]
  },
  {
   "cell_type": "code",
   "execution_count": 38,
   "metadata": {},
   "outputs": [
    {
     "ename": "TypeError",
     "evalue": "'tuple' object does not support item assignment",
     "output_type": "error",
     "traceback": [
      "\u001b[0;31m---------------------------------------------------------------------------\u001b[0m",
      "\u001b[0;31mTypeError\u001b[0m                                 Traceback (most recent call last)",
      "Input \u001b[0;32mIn [38]\u001b[0m, in \u001b[0;36m<cell line: 3>\u001b[0;34m()\u001b[0m\n\u001b[1;32m      1\u001b[0m \u001b[38;5;66;03m# Defining a tuple\u001b[39;00m\n\u001b[1;32m      2\u001b[0m kitchen_size_metres \u001b[38;5;241m=\u001b[39m (\u001b[38;5;241m5\u001b[39m, \u001b[38;5;241m12\u001b[39m)\n\u001b[0;32m----> 3\u001b[0m kitchen_size_metres[\u001b[38;5;241m0\u001b[39m] \u001b[38;5;241m=\u001b[39m \u001b[38;5;241m6\u001b[39m\n",
      "\u001b[0;31mTypeError\u001b[0m: 'tuple' object does not support item assignment"
     ]
    }
   ],
   "source": [
    "# Defining a tuple\n",
    "kitchen_size_metres = (5, 12)\n",
    "kitchen_size_metres[0] = 6"
   ]
  },
  {
   "cell_type": "markdown",
   "metadata": {},
   "source": [
    "In this code example we have tried to change the first element of the tuple __kitchen_size_meters__ from 5 to 6. Python has returned an error telling us that we can't assign a new value to an item in a tuple. This is exactly what should happen.\n",
    "\n",
    "> Note: Tuples are defined by the presence of a comma. The parentheses help to make them look neater and more readable. If you ever need to create a tuple with just one element you will need to include a trailing comma, size = (100,) \n",
    "\n",
    "## Looping through a tuple\n",
    "\n",
    "Similar to lists we can loop over all of the items in a tuple using a __for__ loop."
   ]
  },
  {
   "cell_type": "code",
   "execution_count": 39,
   "metadata": {},
   "outputs": [
    {
     "name": "stdout",
     "output_type": "stream",
     "text": [
      "5 meters\n",
      "12 meters\n"
     ]
    }
   ],
   "source": [
    "# Defining a tuple\n",
    "kitchen_size_meters = (5, 12)\n",
    "for size in kitchen_size_meters:\n",
    "    print(size, \"meters\")\n"
   ]
  },
  {
   "cell_type": "markdown",
   "metadata": {},
   "source": [
    "## Writing over a tuple\n",
    "\n",
    "As mentioned you cannot change a tuple once it has been defined. You can assign a new value to a variable that represents a tuple. Let's take a look at how we could change the size of our kitchen:"
   ]
  },
  {
   "cell_type": "code",
   "execution_count": 40,
   "metadata": {},
   "outputs": [
    {
     "name": "stdout",
     "output_type": "stream",
     "text": [
      "The current kitchen size is: \n",
      "5 meters\n",
      "12 meters\n",
      "\n",
      "The new kitchen size will be: \n",
      "10 meters\n",
      "14 meters\n"
     ]
    }
   ],
   "source": [
    "kitchen_size_meters = (5, 12)\n",
    "print(\"The current kitchen size is: \")\n",
    "for size in kitchen_size_meters:\n",
    "    print(size, \"meters\")\n",
    "    \n",
    "kitchen_size_meters = (10, 14)\n",
    "print(\"\\nThe new kitchen size will be: \")\n",
    "for size in kitchen_size_meters:\n",
    "    print(size, \"meters\")"
   ]
  },
  {
   "cell_type": "markdown",
   "metadata": {},
   "source": [
    "In this code example we have done two things:\n",
    "    \n",
    "    1. Defined the original tuple and print out the size of our kitchen\n",
    "    2. At line 6 we assign a new tuple to the variable __kitchen_size_meters\n",
    "    3. We then print out the new tuple without any errors\n",
    "    \n",
    "## Exercises\n",
    "\n",
    "Think of items that could be use to create a tuple, for example, the size of rooms in your home or workplace, or coordinates such as longitude and latitude.\n",
    "\n",
    "- Create a tuple from your items\n",
    "- Use a __for_loop__ to print each item\n",
    "- Try and modify your tuple and examine the output from Python\n",
    "- Rewrite your tuple to add new items and then print your new tuple out"
   ]
  },
  {
   "cell_type": "code",
   "execution_count": null,
   "metadata": {},
   "outputs": [],
   "source": []
  }
 ],
 "metadata": {
  "kernelspec": {
   "display_name": "Python 3 (ipykernel)",
   "language": "python",
   "name": "python3"
  },
  "language_info": {
   "codemirror_mode": {
    "name": "ipython",
    "version": 3
   },
   "file_extension": ".py",
   "mimetype": "text/x-python",
   "name": "python",
   "nbconvert_exporter": "python",
   "pygments_lexer": "ipython3",
   "version": "3.9.12"
  },
  "varInspector": {
   "cols": {
    "lenName": 16,
    "lenType": 16,
    "lenVar": 40
   },
   "kernels_config": {
    "python": {
     "delete_cmd_postfix": "",
     "delete_cmd_prefix": "del ",
     "library": "var_list.py",
     "varRefreshCmd": "print(var_dic_list())"
    },
    "r": {
     "delete_cmd_postfix": ") ",
     "delete_cmd_prefix": "rm(",
     "library": "var_list.r",
     "varRefreshCmd": "cat(var_dic_list()) "
    }
   },
   "types_to_exclude": [
    "module",
    "function",
    "builtin_function_or_method",
    "instance",
    "_Feature"
   ],
   "window_display": false
  }
 },
 "nbformat": 4,
 "nbformat_minor": 4
}
