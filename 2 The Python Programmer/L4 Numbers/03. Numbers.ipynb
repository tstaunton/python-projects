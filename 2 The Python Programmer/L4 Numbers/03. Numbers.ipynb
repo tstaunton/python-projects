{
 "cells": [
  {
   "cell_type": "markdown",
   "metadata": {},
   "source": [
    "# Introduction\n",
    "\n",
    "You can't learn to write Python, or any programming language for that matter without learning how to work with numbers. In almost every program you are going to write as a professional programmer, numbers will be involved. For example payroll systems, time-tracking, data science, data visualization, web development. In this lesson we're going to look at the various ways that Python handles numbers.\n",
    "\n",
    "## Integers\n",
    "\n",
    "Integers are whole numbers, 1, 2, 3. No decimal points, or fractions. The Python interpreter allows you to add (+), subtract (-), multiply (\\*), and divide integers (\\)."
   ]
  },
  {
   "cell_type": "code",
   "execution_count": 5,
   "metadata": {},
   "outputs": [
    {
     "name": "stdout",
     "output_type": "stream",
     "text": [
      "2\n",
      "1\n",
      "9\n"
     ]
    }
   ],
   "source": [
    "#Addition\n",
    "print(1 + 1)\n",
    "\n",
    "#Subtraction\n",
    "print(3 - 2)\n",
    "\n",
    "# Multiplication\n",
    "print(3 * 3)"
   ]
  },
  {
   "cell_type": "markdown",
   "metadata": {},
   "source": [
    "In Python, you use two multiplication (\\*\\*) symbols to signify exponents or 'to the power of', 'raised to the power of', or 'squared'."
   ]
  },
  {
   "cell_type": "code",
   "execution_count": 6,
   "metadata": {},
   "outputs": [
    {
     "name": "stdout",
     "output_type": "stream",
     "text": [
      "256\n"
     ]
    }
   ],
   "source": [
    "# Exponents\n",
    "print(4 ** 4)"
   ]
  },
  {
   "cell_type": "markdown",
   "metadata": {},
   "source": [
    "Python follows the numerical order of operations, which means that when executing calculations, it does so in a particular order, usually, parentheses, exponents, multiplication/division, addition/subtraction, or PEMDAS. You can use parentheses to change the order of numerical calculation so that Python will execute your expression in the order you want."
   ]
  },
  {
   "cell_type": "code",
   "execution_count": 7,
   "metadata": {},
   "outputs": [
    {
     "name": "stdout",
     "output_type": "stream",
     "text": [
      "47\n",
      "37\n",
      "65\n"
     ]
    }
   ],
   "source": [
    "# PEMDAS\n",
    "print(5 + 6 * 7)\n",
    "print(5 * 6 + 7)\n",
    "print(5 * (6 + 7))"
   ]
  },
  {
   "cell_type": "markdown",
   "metadata": {},
   "source": [
    "## Floats\n",
    "\n",
    "In Python, a number with a decimal point is called a __float__. You'll find a similar term in other programming languages. A float refers to the fact that you may find a decimial point at any position in a number, 1.0, 1.001, 10.01."
   ]
  },
  {
   "cell_type": "code",
   "execution_count": 8,
   "metadata": {},
   "outputs": [
    {
     "name": "stdout",
     "output_type": "stream",
     "text": [
      "0.2\n",
      "0.4\n",
      "0.12\n",
      "0.09999999999999998\n"
     ]
    }
   ],
   "source": [
    "# Floats\n",
    "print(0.1 + 0.1)\n",
    "print(0.2 + 0.2)\n",
    "print(0.3 * 0.4)\n",
    "print(0.6 - 0.5)"
   ]
  },
  {
   "cell_type": "markdown",
   "metadata": {},
   "source": [
    "As you can see from the last print statement, you can sometimes get several decimal places returned in your calculation. This happens across most programming languages. Don't worry too much about this for the moment. We'll come back to it in later lessons.\n",
    "\n",
    "## Integers and Floats\n",
    "\n",
    "In Python, when you divide two integers by one another you will be returned with a float."
   ]
  },
  {
   "cell_type": "code",
   "execution_count": 9,
   "metadata": {},
   "outputs": [
    {
     "name": "stdout",
     "output_type": "stream",
     "text": [
      "3.0\n"
     ]
    }
   ],
   "source": [
    "# Integer division\n",
    "print(6/2)"
   ]
  },
  {
   "cell_type": "markdown",
   "metadata": {},
   "source": [
    "If you divide an integer with a float you will get a float returned."
   ]
  },
  {
   "cell_type": "code",
   "execution_count": 10,
   "metadata": {},
   "outputs": [
    {
     "name": "stdout",
     "output_type": "stream",
     "text": [
      "2.0\n"
     ]
    }
   ],
   "source": [
    "# Integer, float division\n",
    "print(6/3.0)"
   ]
  },
  {
   "cell_type": "markdown",
   "metadata": {},
   "source": [
    "Python defaults to a float in any numerical operation that uses a float even if the result is a whole number (integer).\n",
    "\n",
    "## Using underscores in numbers\n",
    "\n",
    "In Python, when writing long numbers you can use underscores (\\_). "
   ]
  },
  {
   "cell_type": "code",
   "execution_count": 11,
   "metadata": {},
   "outputs": [
    {
     "name": "stdout",
     "output_type": "stream",
     "text": [
      "31536000\n"
     ]
    }
   ],
   "source": [
    "# Underscores in numbers\n",
    "seconds_in_year = 31_536_000\n",
    "print(seconds_in_year)"
   ]
  },
  {
   "cell_type": "markdown",
   "metadata": {},
   "source": [
    "When Python saves a number that uses underscores, the underscores are ignored, so 100 is the same as 1_00, which is the same as 10_0. This is the same for integers and floats.\n",
    "\n",
    "## Multiple assignment\n",
    "\n",
    "You can assign values to variables in a single line of code instead of using multiple lines."
   ]
  },
  {
   "cell_type": "code",
   "execution_count": 12,
   "metadata": {},
   "outputs": [
    {
     "name": "stdout",
     "output_type": "stream",
     "text": [
      "1 2 3\n",
      "2\n"
     ]
    }
   ],
   "source": [
    "# Assign values to variables in one line\n",
    "a, b, c = 1, 2, 3\n",
    "print(a,b,c)\n",
    "print(b)"
   ]
  },
  {
   "cell_type": "markdown",
   "metadata": {},
   "source": [
    "This technique is most often used when initializing numbers, for example:"
   ]
  },
  {
   "cell_type": "code",
   "execution_count": 13,
   "metadata": {},
   "outputs": [
    {
     "name": "stdout",
     "output_type": "stream",
     "text": [
      "0 0 0\n"
     ]
    }
   ],
   "source": [
    "player_one, player_two, player_three = 0, 0, 0\n",
    "print(player_one, player_two, player_three)"
   ]
  },
  {
   "cell_type": "markdown",
   "metadata": {},
   "source": [
    "## Constants\n",
    "\n",
    "To create a constant you use all capital letters. A constant is similar to a variable but its value never changes."
   ]
  },
  {
   "cell_type": "code",
   "execution_count": 14,
   "metadata": {},
   "outputs": [
    {
     "name": "stdout",
     "output_type": "stream",
     "text": [
      "60\n"
     ]
    }
   ],
   "source": [
    "# Minutes in an hour\n",
    "MINS_IN_HOUR = 60\n",
    "print(MINS_IN_HOUR)"
   ]
  },
  {
   "cell_type": "markdown",
   "metadata": {},
   "source": [
    "## Exercises\n",
    "\n",
    "1. What is your age? Write a series of calculations that result in your age being printed to the screen.\n",
    "2. Think of a number that never changes. Create a constant to represent that number and print it to the screen"
   ]
  },
  {
   "cell_type": "code",
   "execution_count": null,
   "metadata": {},
   "outputs": [],
   "source": []
  }
 ],
 "metadata": {
  "kernelspec": {
   "display_name": "Python 3 (ipykernel)",
   "language": "python",
   "name": "python3"
  },
  "language_info": {
   "codemirror_mode": {
    "name": "ipython",
    "version": 3
   },
   "file_extension": ".py",
   "mimetype": "text/x-python",
   "name": "python",
   "nbconvert_exporter": "python",
   "pygments_lexer": "ipython3",
   "version": "3.9.12"
  }
 },
 "nbformat": 4,
 "nbformat_minor": 4
}
