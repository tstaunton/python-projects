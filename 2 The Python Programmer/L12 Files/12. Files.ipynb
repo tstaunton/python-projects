{
 "cells": [
  {
   "cell_type": "markdown",
   "metadata": {},
   "source": [
    "# Introduction\n",
    "\n",
    "The programs that we have been creating so far have helped us learn the basics of Python and how to organize our code. Now it's time to learn how to work with files in Python and how to save data so that we can reuse it later.\n",
    "\n",
    "Learning to work with files in Python is a major step in your programming experience as it means you can import data into your programs and export data. \n",
    "\n",
    "## Reading from a file\n",
    "\n",
    "When you start to write Python in the real world and begin to work with other developers you will notice that an incredible amount of data is held in text files. Reading from a file is an essential Python skill. We're going to learn how to read the entire contents of a file and how to work through the contents of a file one line at time.\n",
    "\n",
    "Let's get started. The first thing we need is a simple text file which I have prepared with four names in it. now, let's write a program to open, read and print the contents of this file:"
   ]
  },
  {
   "cell_type": "code",
   "execution_count": null,
   "metadata": {},
   "outputs": [],
   "source": [
    "with open('names.txt') as file_object:\n",
    "    contents = file_object.read()\n",
    "print(contents)"
   ]
  },
  {
   "cell_type": "markdown",
   "metadata": {},
   "source": [
    "Most of what we have just written will be new to you so let's step through it. At line 1 we are using the *open()* function. If we want to do any work with a file we first need to open the file to access it. Makes sense! The *open()* function needs one argument, the name of the file that we want to open. Again, makes sense!  Python will look for this file in the directory where the program that's being executed is saved. In this example I have saved the file in the same directory with my Jupyter Notebooks so thats where it looks. The *open()* function returns an object representing the file. Python then assigns this object to *file_object* so that we can work with it.\n",
    "\n",
    "We have opened the file but we haven't closed it. The keyword *with* used in line 1 closes the file for us once our program no longer needs access to it. We could close the file by calling *close()*, but this can sometimes lead to problems, for example, if a bug in our code prevents the *close()* method from being executed, the file may never close. This is not a big issue for us right now but as your programs get bigger, failing to correctly close them will lead to data corruption and loss. There is also the risk that if we call *close()* too early in our program we will end up trying to perform tasks on a closed file which leads to more errors. By using the keyword *with* Python will figure out when to close the file for us when the *with* block finishes execution.\n",
    "\n",
    "Now that we have a file object that represents *names.txt* we can use the *read()* method in line 2. This method will read the entire contents of the file and store it as one long string in the variable *contents*. At line 3, we print the value of *contents* and we see that the entire file is returned.\n",
    "\n",
    "If you are using a different code editor from Jupyter you may notice that an additional blank line has been added after the last name of the output. This is happening in Jupyter to, it's just harder to see it. The reason this is happening is because the *read()* method returns an empty string when it reaches the end of the file. This empty string shows up as blank line. If you want to remove the blank line you can use *rstrip()* in the *print* call.\n",
    "\n",
    "    print(contents.rstrip())\n",
    "    \n",
    "## File paths\n",
    "\n",
    "Oh god, I hate file paths, they can be so frustrating some times. But they are a necessary evil. In the previous code example we passed in the filename *names.txt* to the *open()* function. Python looked in the directory where the current program file, which is our Jupyter Notebook in this case, is stored. So the first place that Python looks for a file to open is in the home location of the executing program.\n",
    "\n",
    "There will be times when you want to open a file that is not in your program's home directory. For example, you might keep your program files in a folder called *my_programs* and keep any files that you need to open in a folder called *my_text_files* that sits inside the *my_programs* folder. Even though *my_text_files* sits inside *my_programs* passing the *open()* method the name of a file in *my_text_files* won't work because Python will only look in *my_programs* and no where else, it's lazy like that. It won't get up off the couch and go look in *my_text_files*, you have to make it. To get Python to open files from a directory other than the one where your program file is stored you need to provide a *file path* which tells Python to stop being so lazy, get up of off the couch and go look in a specific location.\n",
    "\n",
    "Because the folder *my_text_files* is inside *my_programs* we can use a relative file path to open a file from *my_text_files*. A relative file path tells Python to look for a given location relative to the directory where the currently running program is stored. For example:\n",
    "\n",
    "    with open('my_text_files/filename.txt') as file object:\n",
    "    \n",
    "This line of code tells Python to look for the needed .txt file in the folder *my_text_files* and assumes that *my_text_files* is located inside *my_programs* which it is.\n",
    "\n",
    "- For windows users, the Windows system uses a backslash (\\\\) instead of a forward slash(/) when displaying file paths, but you can still use a forward slash in your code and it will work as expected.\n",
    "\n",
    "We can also use what are called *absolute file paths*, because these are usually longer than relative file paths it's helpful to assign them to a variable and then pass that variable to *open()*:\n",
    "\n",
    "    file_path = '/home/tonystaunton/projects/python_projects/text_files/filename.txt'\n",
    "    with open(file_path) as file_object:\n",
    "    \n",
    "Absolute file paths allow you to read files from any location on your computer. As our programs our small at the moment I would recommend using relative file paths for the moment and keep your files all within the one project or program folder.\n",
    "\n",
    "    When using absolute file paths you can't use backslashes because in Python when you place a backslash inside single quotes Python interprets this as an escape character. If you want to use backslashes then you need to use two back slashes, for example, '\\\\home\\\\tonystaunton\\\\projects\\\\python_projects\\\\text_files\\\\filename.txt'\n",
    "    \n",
    "    "
   ]
  },
  {
   "cell_type": "markdown",
   "metadata": {},
   "source": [
    "## Reading a file line by line\n",
    "\n",
    "OK, so if you are not too traumatized from the file paths conversation let's continue and learn how to read a file line by line. Why would you need to read a file line by line? You may be looking for certain information in a file, or you may want to modify the text in a file in some way. You can use a *for* loop on the file object to examine each line from a file one at a time."
   ]
  },
  {
   "cell_type": "code",
   "execution_count": null,
   "metadata": {},
   "outputs": [],
   "source": [
    "filename = 'names.txt'\n",
    "\n",
    "with open(filename) as file_object:\n",
    "    for line in file_object:\n",
    "        print(line)"
   ]
  },
  {
   "cell_type": "markdown",
   "metadata": {},
   "source": [
    "In this code example we assign the name of the file we're working with to the variable *filename*. This is a best practice when working with files in Python. Why? The variable *filename* does not represent that actual file, only a string telling Python where to find the file. We could easily change this to 'company_name.txt' or anything else and our program would still perform the same tasks on this file.\n",
    "\n",
    "After we call *open()* an object representing the file and its contents is assigned to the variable *file_object*. Also, at line 3 we are using the *with* syntax to let Python open and close the file correctly. To examine the files contents we work through each line in the file by looping over the file object at line 4.\n",
    "\n",
    "As you can see from the output each name is separated by a blank line which is not in our file. These new lines appear because Python adds a newline character to the end of each line in the text file. Don't forget that the *print* function also adds its own newline each time we call it, so we end up with two new line characters at the end of each line, one from the file and one from *print()*. We can use *rstrip()* on each line in the *print()* call to remove these extra blank lines:"
   ]
  },
  {
   "cell_type": "code",
   "execution_count": null,
   "metadata": {},
   "outputs": [],
   "source": [
    "filename = 'names.txt'\n",
    "\n",
    "with open(filename) as file_object:\n",
    "    for line in file_object:\n",
    "        print(line.rstrip())"
   ]
  },
  {
   "cell_type": "markdown",
   "metadata": {},
   "source": [
    "## Making a list of lines from a file\n",
    "\n",
    "One disadvantage of using *with* is that the file object returned by *open()* is only available inside the *with* block that contains it. If you would like to access a files contents outside the *with* block you can store the file's lines in a list inside the block and then work with that list.\n",
    "\n",
    "Let's take a look at an example were we store the lines of *names.txt* in a list inside the *with* block and then print the lines outside the block...magic!"
   ]
  },
  {
   "cell_type": "code",
   "execution_count": null,
   "metadata": {},
   "outputs": [],
   "source": [
    "filename = 'names.txt'\n",
    "\n",
    "with open(filename) as file_object:\n",
    "    lines = file_object.readlines()\n",
    "    \n",
    "for line in lines:\n",
    "    print(line.title().rstrip())"
   ]
  },
  {
   "cell_type": "markdown",
   "metadata": {},
   "source": [
    "In this code example we use the *readlines()* method at line 4 to take each line from the file and store it in a list. This list is then assigned to the variable *lines* which we can continue to work with after the *with* block ends. At line 6 we have a simple *for* loop which we use to print each line from *lines*. \n",
    "\n",
    "## Working with a files contents\n",
    "\n",
    "After a file has been read into memory you can perform any action you want on the data. Let's take a look:"
   ]
  },
  {
   "cell_type": "code",
   "execution_count": null,
   "metadata": {},
   "outputs": [],
   "source": [
    "filename = 'names.txt'\n",
    "\n",
    "with open(filename) as file_object:\n",
    "    lines = file_object.readlines()\n",
    "    \n",
    "name_string = ''\n",
    "for line in lines:\n",
    "    name_string += line.rstrip()\n",
    "    \n",
    "print(name_string)\n",
    "print(len(name_string))"
   ]
  },
  {
   "cell_type": "markdown",
   "metadata": {},
   "source": [
    "In this code example we start by opening the file and storing each line of names in a list. At line 6 we create a variable called *name_string* which will hold all of the names in our file. At line 7 we create a loop that adds each name to *name_string* and removes the newline character from each line. Then at line 3 we print this string of names and also show the length of the string.\n",
    "\n",
    "## Large files\n",
    "\n",
    "Our programs so far have worked with a small text file containing only four name. Our code would work just as well with a file that is much larger in size. Let's take a look. The book Wuthering Heights is free to download as a text file from http://www.gutenberg.org/files/768/768-0.txt. Go ahead and download now or take it from the resources section of this lesson. Make sure to save it in the same directory as your current python programs. "
   ]
  },
  {
   "cell_type": "code",
   "execution_count": null,
   "metadata": {},
   "outputs": [],
   "source": [
    "filename = 'wh.txt'\n",
    "\n",
    "with open(filename) as file_object:\n",
    "    lines = file_object.readlines()\n",
    "book_string = ''\n",
    "for line in lines:\n",
    "    book_string += line.strip()\n",
    "    \n",
    "print(f\"{book_string[:1000]}...\")\n",
    "print(len(book_string))"
   ]
  },
  {
   "cell_type": "markdown",
   "metadata": {},
   "source": [
    "The output shows the first 1000 characters of the file along with how many characters are in the entire file.\n",
    "\n",
    "## Is your name in Wuthering Heights?\n",
    "\n",
    "Let's write a program to scan the book Wuthering Heights and if a particular name is contained within. We can do this by expressing each name as a string and seeing if that string appears anywhere in the book:"
   ]
  },
  {
   "cell_type": "code",
   "execution_count": null,
   "metadata": {},
   "outputs": [],
   "source": [
    "filename = 'wh.txt'\n",
    "\n",
    "with open(filename) as file_object:\n",
    "    lines = file_object.readlines()\n",
    "book_string = ''\n",
    "for line in lines:\n",
    "    book_string += line.strip()\n",
    "    \n",
    "name = input(\"What is your name? \")\n",
    "if name in book_string:\n",
    "    print(\"Your name appears in wuthering heights!\")\n",
    "else:\n",
    "    print(\"Sorry!\")"
   ]
  },
  {
   "cell_type": "markdown",
   "metadata": {},
   "source": [
    "In this code example we ask the user to input their name at line 9 we then assign this input to the variable *name*. At line 10 we check if the string is in Wuthering Heights.\n",
    "\n",
    "As you can see the speed of return is very fast.\n",
    "\n",
    "## Exercises\n",
    "\n",
    "- creata a blank txt file and add some lines of daily to-dos in it, for example 'buy milk', 'clean the car'. Save the file task_list.txt in the same directory as your current programs. Write a program that reads your task list and prints it out.\n",
    "- Print the contents of your tasks list by reading the entire file, by looping over the file object and by storing the lines in a list and then working with them outside the block.\n",
    "- Add some intro text to your output telling a who what is on their list for today"
   ]
  },
  {
   "cell_type": "markdown",
   "metadata": {},
   "source": [
    "## Writing to a file\n",
    "\n",
    "We've learned how to read data from a file, now let's learn how to write data to a file. Writing data to a file means that a programs output will still be available after you close the code editor or terminal containing your program. As a result, you can review a programs output after the program has finished running, and you can share the output with others.\n",
    "\n",
    "### Writing to an empty file\n",
    "\n",
    "To write text to a file we need to call *open()* this time with a second argument telling Python that will be writing to the file. Let's take a look:"
   ]
  },
  {
   "cell_type": "code",
   "execution_count": 1,
   "metadata": {},
   "outputs": [],
   "source": [
    "filename = 'share.txt'\n",
    "\n",
    "with open(filename, 'w') as file_object:\n",
    "    file_object.write(\"Tony was here!\")"
   ]
  },
  {
   "cell_type": "markdown",
   "metadata": {},
   "source": [
    "Magic!\n",
    "\n",
    "In this code example the call to *open()* at line 3 takes two arguments. The first argument is what we have seen previously, it is the name of the file that we want to open. The second argument *w*, informs Python that we want to open the file in *write mode*. You can open a file in:\n",
    "\n",
    "- read mode, 'r'\n",
    "- write mode, 'w'\n",
    "- append mode, 'a'\n",
    "- read and write mode, 'r+'\n",
    "\n",
    "If you leave out or omit the mode argument Python will open the file in read-only mode by default.\n",
    "\n",
    "Also, the *open()* function automatically creates the file you're writing to if it doesn't already exist. If a file does already exist and you open it in *'w'* mode, Python will erase the contents of the file before returning the file object.\n",
    "\n",
    "At line 4 of the code example above we use the *write()* method on the file object to write a string to an empty file. Let's open the file to see the output."
   ]
  },
  {
   "cell_type": "markdown",
   "metadata": {},
   "source": [
    "### Writing multiple lines\n",
    "\n",
    "The *write()* function doesn't add any newlines to the text we write. So if we write more than one line without including newline characters the text will just continue on with no spacing."
   ]
  },
  {
   "cell_type": "code",
   "execution_count": 2,
   "metadata": {},
   "outputs": [],
   "source": [
    "filename = 'share.txt'\n",
    "\n",
    "with open(filename, 'w') as file_object:\n",
    "    file_object.write(\"Tony was here!\")\n",
    "    file_object.write(\"So were you!\")"
   ]
  },
  {
   "cell_type": "markdown",
   "metadata": {},
   "source": [
    "To separate the newlines we need to include the newline character, '\\n'."
   ]
  },
  {
   "cell_type": "code",
   "execution_count": 3,
   "metadata": {},
   "outputs": [],
   "source": [
    "filename = 'share.txt'\n",
    "\n",
    "with open(filename, 'w') as file_object:\n",
    "    file_object.write(\"Tony was here!\\n\")\n",
    "    file_object.write(\"so were you!\")"
   ]
  },
  {
   "cell_type": "markdown",
   "metadata": {},
   "source": [
    "You can also use space, tabs and blanks lines to achieve the desired output."
   ]
  },
  {
   "cell_type": "markdown",
   "metadata": {},
   "source": [
    "### Appending to a file\n",
    "\n",
    "The append mode allows you to add content to a file without overwriting the file contents every time. When you open a file in append mode Python doesn't erase the contents of the file before returning the file object. Any lines you write to the file will be added at the end of the file. Also, if the file does not yet already exist Python will create the file for you."
   ]
  },
  {
   "cell_type": "code",
   "execution_count": 4,
   "metadata": {},
   "outputs": [],
   "source": [
    "filename = \"append_mode.txt\"\n",
    "\n",
    "with open(filename, 'a') as file_object:\n",
    "    file_object.write(\"Tony was here on Monday.\\n\")\n",
    "    file_object.write(\"Tony was also here on Tuesday.\\n\")"
   ]
  },
  {
   "cell_type": "markdown",
   "metadata": {},
   "source": [
    "In this code example at line 3 we use the 'a' argument to open a file for appending. At line 4 we write two new lines."
   ]
  },
  {
   "cell_type": "markdown",
   "metadata": {},
   "source": [
    "## Exercises\n",
    "\n",
    "- Write a program that asks users for their name. Add the response to a file called log.txt\n",
    "- Update the above code to open log.txt in append mode so that every time a user enters their name it is added to the file\n",
    "- Update your program to prompt the user for the date. Add this response to your log.txt file"
   ]
  },
  {
   "cell_type": "markdown",
   "metadata": {},
   "source": [
    "## Exceptions\n",
    "\n",
    "As we have been learning Python we have seen plenty of errors, some by design and others by eh...design and not typos. Python uses special objects called exceptions to manage errors that come about during a program's execution. When an error occurs that causes Python to stop it creates an exception object. We can write code that handles these exceptions and our programs will continue to run. If we don't handle exceptions our programs will stop and show a traceback, which includes a report of the exception that was raised.\n",
    "\n",
    "In Python, exceptions are handled with *try-except* blocks. These blocks ask Python to do something but they also tell Python what to do if an exception is raised. When we use *try-except* blocks, our programs will continue running even when things go wrong. Instead of tracebacks, which can be confusing to users, they will see helpful error messages that we write.\n",
    "\n",
    "### Handling the ZeroDivisionError Exception\n",
    "\n",
    "Did you know that is it impossible to divide a number by zero? To double check let's ask Python:"
   ]
  },
  {
   "cell_type": "code",
   "execution_count": 5,
   "metadata": {},
   "outputs": [
    {
     "ename": "ZeroDivisionError",
     "evalue": "division by zero",
     "output_type": "error",
     "traceback": [
      "\u001b[0;31m---------------------------------------------------------------------------\u001b[0m",
      "\u001b[0;31mZeroDivisionError\u001b[0m                         Traceback (most recent call last)",
      "Input \u001b[0;32mIn [5]\u001b[0m, in \u001b[0;36m<cell line: 1>\u001b[0;34m()\u001b[0m\n\u001b[0;32m----> 1\u001b[0m \u001b[38;5;28mprint\u001b[39m(\u001b[38;5;241;43m5\u001b[39;49m\u001b[38;5;241;43m/\u001b[39;49m\u001b[38;5;241;43m0\u001b[39;49m)\n",
      "\u001b[0;31mZeroDivisionError\u001b[0m: division by zero"
     ]
    }
   ],
   "source": [
    "print(5/0)"
   ]
  },
  {
   "cell_type": "markdown",
   "metadata": {},
   "source": [
    "The output returned is a traceback error, and as you can see from the first line it's called a *ZeroDivisionError*. This is also what is known as an exception object. Python creates this kind of object in response to a situation where it can't do what we have asked it to do. When this happens, Python stops the program and tells us the kind of exception that was raised. We can use this information to change the way our programs behave. We'll tell Python what to do when this kind of exception occurs again.\n",
    "\n",
    "### Using try-except blocks\n",
    "\n",
    "When you think that there is the possibility that an error may occur, you can write a *try-except* block to handle the exception that may araise. Let's take a look at a *try-except* block that will handle the ZeroDivisionError:"
   ]
  },
  {
   "cell_type": "code",
   "execution_count": 6,
   "metadata": {},
   "outputs": [
    {
     "name": "stdout",
     "output_type": "stream",
     "text": [
      "You can't divide a number by zero!\n"
     ]
    }
   ],
   "source": [
    "try:\n",
    "    print(5/0)\n",
    "except ZeroDivisionError:\n",
    "    print(\"You can't divide a number by zero!\")"
   ]
  },
  {
   "cell_type": "markdown",
   "metadata": {},
   "source": [
    "Now when we run our program we get a helpful error message. As you can see at line 1 we have added a *try* block and inside it we have placed the code *print(5/0)*. If the code inside the *try()* block results in an error, Python then looks for an *except* block whose error matches the one that was raised and runs the code in the block. Our code has raised a ZeroDivisionError at line 2 inside a *try* block so Python looks for a corresponding *except* block to tell it how to handle the error. Python runs the code in the *except* block and our user sees a helpful error message.\n",
    "\n",
    "If more code were to follow the *try-except* block then that would still work because we have told Python what to do."
   ]
  },
  {
   "cell_type": "code",
   "execution_count": 7,
   "metadata": {},
   "outputs": [
    {
     "ename": "ZeroDivisionError",
     "evalue": "division by zero",
     "output_type": "error",
     "traceback": [
      "\u001b[0;31m---------------------------------------------------------------------------\u001b[0m",
      "\u001b[0;31mZeroDivisionError\u001b[0m                         Traceback (most recent call last)",
      "Input \u001b[0;32mIn [7]\u001b[0m, in \u001b[0;36m<cell line: 1>\u001b[0;34m()\u001b[0m\n\u001b[0;32m----> 1\u001b[0m \u001b[38;5;28mprint\u001b[39m(\u001b[38;5;241;43m5\u001b[39;49m\u001b[38;5;241;43m/\u001b[39;49m\u001b[38;5;241;43m0\u001b[39;49m)\n\u001b[1;32m      2\u001b[0m \u001b[38;5;28mprint\u001b[39m(\u001b[38;5;124m\"\u001b[39m\u001b[38;5;124mI told you!\u001b[39m\u001b[38;5;124m\"\u001b[39m)\n",
      "\u001b[0;31mZeroDivisionError\u001b[0m: division by zero"
     ]
    }
   ],
   "source": [
    "print(5/0)\n",
    "print(\"I told you!\")"
   ]
  },
  {
   "cell_type": "code",
   "execution_count": 8,
   "metadata": {},
   "outputs": [
    {
     "name": "stdout",
     "output_type": "stream",
     "text": [
      "You can't divide a number by zero!\n",
      "I told you!\n"
     ]
    }
   ],
   "source": [
    "try:\n",
    "    print(5/0)\n",
    "except ZeroDivisionError:\n",
    "    print(\"You can't divide a number by zero!\")\n",
    "    \n",
    "print(\"I told you!\")"
   ]
  },
  {
   "cell_type": "markdown",
   "metadata": {},
   "source": [
    "### Using exceptions to prevent crashes\n",
    "\n",
    "As you can see, handling errors becomes even more important if you need your programs to keep running after an error has occurred. This is a common problem with programs that ask a user for input. What happens if a user enters the wrong kind of information, should you program just stop working? Let's take a look at an example:"
   ]
  },
  {
   "cell_type": "code",
   "execution_count": 12,
   "metadata": {},
   "outputs": [
    {
     "name": "stdout",
     "output_type": "stream",
     "text": [
      "Divide 2 numbers.\n",
      "Enter 'q' to quit.\n",
      "\n",
      "First number: 4\n",
      "Second number: 2\n",
      "2.0\n"
     ]
    },
    {
     "ename": "KeyboardInterrupt",
     "evalue": "Interrupted by user",
     "output_type": "error",
     "traceback": [
      "\u001b[0;31m---------------------------------------------------------------------------\u001b[0m",
      "\u001b[0;31mKeyboardInterrupt\u001b[0m                         Traceback (most recent call last)",
      "Input \u001b[0;32mIn [12]\u001b[0m, in \u001b[0;36m<cell line: 5>\u001b[0;34m()\u001b[0m\n\u001b[1;32m      2\u001b[0m \u001b[38;5;28mprint\u001b[39m(\u001b[38;5;124m\"\u001b[39m\u001b[38;5;124mEnter \u001b[39m\u001b[38;5;124m'\u001b[39m\u001b[38;5;124mq\u001b[39m\u001b[38;5;124m'\u001b[39m\u001b[38;5;124m to quit.\u001b[39m\u001b[38;5;124m\"\u001b[39m)\n\u001b[1;32m      4\u001b[0m \u001b[38;5;28;01mwhile\u001b[39;00m \u001b[38;5;28;01mTrue\u001b[39;00m:\n\u001b[0;32m----> 5\u001b[0m     first_nmber \u001b[38;5;241m=\u001b[39m \u001b[38;5;28;43minput\u001b[39;49m\u001b[43m(\u001b[49m\u001b[38;5;124;43m\"\u001b[39;49m\u001b[38;5;130;43;01m\\n\u001b[39;49;00m\u001b[38;5;124;43mFirst number: \u001b[39;49m\u001b[38;5;124;43m\"\u001b[39;49m\u001b[43m)\u001b[49m\n\u001b[1;32m      6\u001b[0m     \u001b[38;5;28;01mif\u001b[39;00m first_nmber \u001b[38;5;241m==\u001b[39m \u001b[38;5;124m'\u001b[39m\u001b[38;5;124mq\u001b[39m\u001b[38;5;124m'\u001b[39m:\n\u001b[1;32m      7\u001b[0m         \u001b[38;5;28;01mbreak\u001b[39;00m\n",
      "File \u001b[0;32m~/opt/anaconda3/lib/python3.9/site-packages/ipykernel/kernelbase.py:1075\u001b[0m, in \u001b[0;36mKernel.raw_input\u001b[0;34m(self, prompt)\u001b[0m\n\u001b[1;32m   1071\u001b[0m \u001b[38;5;28;01mif\u001b[39;00m \u001b[38;5;129;01mnot\u001b[39;00m \u001b[38;5;28mself\u001b[39m\u001b[38;5;241m.\u001b[39m_allow_stdin:\n\u001b[1;32m   1072\u001b[0m     \u001b[38;5;28;01mraise\u001b[39;00m StdinNotImplementedError(\n\u001b[1;32m   1073\u001b[0m         \u001b[38;5;124m\"\u001b[39m\u001b[38;5;124mraw_input was called, but this frontend does not support input requests.\u001b[39m\u001b[38;5;124m\"\u001b[39m\n\u001b[1;32m   1074\u001b[0m     )\n\u001b[0;32m-> 1075\u001b[0m \u001b[38;5;28;01mreturn\u001b[39;00m \u001b[38;5;28;43mself\u001b[39;49m\u001b[38;5;241;43m.\u001b[39;49m\u001b[43m_input_request\u001b[49m\u001b[43m(\u001b[49m\n\u001b[1;32m   1076\u001b[0m \u001b[43m    \u001b[49m\u001b[38;5;28;43mstr\u001b[39;49m\u001b[43m(\u001b[49m\u001b[43mprompt\u001b[49m\u001b[43m)\u001b[49m\u001b[43m,\u001b[49m\n\u001b[1;32m   1077\u001b[0m \u001b[43m    \u001b[49m\u001b[38;5;28;43mself\u001b[39;49m\u001b[38;5;241;43m.\u001b[39;49m\u001b[43m_parent_ident\u001b[49m\u001b[43m[\u001b[49m\u001b[38;5;124;43m\"\u001b[39;49m\u001b[38;5;124;43mshell\u001b[39;49m\u001b[38;5;124;43m\"\u001b[39;49m\u001b[43m]\u001b[49m\u001b[43m,\u001b[49m\n\u001b[1;32m   1078\u001b[0m \u001b[43m    \u001b[49m\u001b[38;5;28;43mself\u001b[39;49m\u001b[38;5;241;43m.\u001b[39;49m\u001b[43mget_parent\u001b[49m\u001b[43m(\u001b[49m\u001b[38;5;124;43m\"\u001b[39;49m\u001b[38;5;124;43mshell\u001b[39;49m\u001b[38;5;124;43m\"\u001b[39;49m\u001b[43m)\u001b[49m\u001b[43m,\u001b[49m\n\u001b[1;32m   1079\u001b[0m \u001b[43m    \u001b[49m\u001b[43mpassword\u001b[49m\u001b[38;5;241;43m=\u001b[39;49m\u001b[38;5;28;43;01mFalse\u001b[39;49;00m\u001b[43m,\u001b[49m\n\u001b[1;32m   1080\u001b[0m \u001b[43m\u001b[49m\u001b[43m)\u001b[49m\n",
      "File \u001b[0;32m~/opt/anaconda3/lib/python3.9/site-packages/ipykernel/kernelbase.py:1120\u001b[0m, in \u001b[0;36mKernel._input_request\u001b[0;34m(self, prompt, ident, parent, password)\u001b[0m\n\u001b[1;32m   1117\u001b[0m             \u001b[38;5;28;01mbreak\u001b[39;00m\n\u001b[1;32m   1118\u001b[0m \u001b[38;5;28;01mexcept\u001b[39;00m \u001b[38;5;167;01mKeyboardInterrupt\u001b[39;00m:\n\u001b[1;32m   1119\u001b[0m     \u001b[38;5;66;03m# re-raise KeyboardInterrupt, to truncate traceback\u001b[39;00m\n\u001b[0;32m-> 1120\u001b[0m     \u001b[38;5;28;01mraise\u001b[39;00m \u001b[38;5;167;01mKeyboardInterrupt\u001b[39;00m(\u001b[38;5;124m\"\u001b[39m\u001b[38;5;124mInterrupted by user\u001b[39m\u001b[38;5;124m\"\u001b[39m) \u001b[38;5;28;01mfrom\u001b[39;00m \u001b[38;5;28mNone\u001b[39m\n\u001b[1;32m   1121\u001b[0m \u001b[38;5;28;01mexcept\u001b[39;00m \u001b[38;5;167;01mException\u001b[39;00m:\n\u001b[1;32m   1122\u001b[0m     \u001b[38;5;28mself\u001b[39m\u001b[38;5;241m.\u001b[39mlog\u001b[38;5;241m.\u001b[39mwarning(\u001b[38;5;124m\"\u001b[39m\u001b[38;5;124mInvalid Message:\u001b[39m\u001b[38;5;124m\"\u001b[39m, exc_info\u001b[38;5;241m=\u001b[39m\u001b[38;5;28;01mTrue\u001b[39;00m)\n",
      "\u001b[0;31mKeyboardInterrupt\u001b[0m: Interrupted by user"
     ]
    }
   ],
   "source": [
    "print(\"Divide 2 numbers.\")\n",
    "print(\"Enter 'q' to quit.\")\n",
    "\n",
    "while True:\n",
    "    first_nmber = input(\"\\nFirst number: \")\n",
    "    if first_nmber == 'q':\n",
    "        break\n",
    "    second_number = input(\"Second number: \")\n",
    "    if second_number == 'q':\n",
    "        break\n",
    "    answer = int(first_nmber)/int(second_number)\n",
    "    print(answer)"
   ]
  },
  {
   "cell_type": "markdown",
   "metadata": {},
   "source": [
    "In this code example we ask a user enter a first number and then a second number, so long as they do not enter 'q' to quit. The program divides the two numbers and displays the output. There is, obviously, no error handling in this program.\n",
    "\n",
    "When our program crashes there is no way for a user to continue. They will need to restart the program to divide another two numbers. \n",
    "\n",
    "### The else block\n",
    "\n",
    "We can help this program by wrapping the line that might produce an error in a *try-except* block. In the previous example the error occurred on the line that performs the division. That's where we'll add the *try-except* block. "
   ]
  },
  {
   "cell_type": "code",
   "execution_count": 13,
   "metadata": {},
   "outputs": [
    {
     "name": "stdout",
     "output_type": "stream",
     "text": [
      "Divide 2 numbers.\n",
      "Enter 'q' to quit.\n",
      "\n",
      "First number: 5\n",
      "Second number: 0\n",
      "You can't divide by 0!\n",
      "\n",
      "First number: 4\n",
      "Second number: 2\n",
      "2.0\n",
      "\n",
      "First number: q\n"
     ]
    }
   ],
   "source": [
    "print(\"Divide 2 numbers.\")\n",
    "print(\"Enter 'q' to quit.\")\n",
    "\n",
    "while True:\n",
    "    first_nmber = input(\"\\nFirst number: \")\n",
    "    if first_nmber == 'q':\n",
    "        break\n",
    "    second_number = input(\"Second number: \")\n",
    "    if second_number == 'q':\n",
    "        break\n",
    "    try:\n",
    "        answer = int(first_nmber)/int(second_number)\n",
    "    except ZeroDivisionError:\n",
    "        print(\"You can't divide by 0!\")\n",
    "    else:\n",
    "        print(answer)"
   ]
  },
  {
   "cell_type": "markdown",
   "metadata": {},
   "source": [
    "This code example includes an *else* block. Any code that depends on the *try* block executing correctly goes in the *else* block.\n",
    "\n",
    "Just as we have done before, we ask Python to divide two numbers provided by the user in a *try* block at line 11. As you can see the *try* block only contains the line of code that might cause the error. Any code that depends on the code block succeeding is placed inside the *else* block. In this code example, if the division is successful then the *else* block will print the answer.\n",
    "\n",
    "The *except* block at line 13 tells Python how to respond if and when a *ZeroDivisionError* occurs. If the *try* block fails because a user tries to divide a number by 0 then we print a helpful error message. In this code example the user never sees a traceback error."
   ]
  },
  {
   "cell_type": "markdown",
   "metadata": {},
   "source": [
    "### Handling the FileNotFoundError Exception\n",
    "\n",
    "As you start to work with files you will notice a common problem again and again, and that is missing files. The file you are looking for may have been moved, deleted or renamed. When these situations occur they can be handled using a *try-except* block.\n",
    "\n",
    "Let's try to read a file that doesn't exist."
   ]
  },
  {
   "cell_type": "code",
   "execution_count": 14,
   "metadata": {},
   "outputs": [
    {
     "ename": "FileNotFoundError",
     "evalue": "[Errno 2] No such file or directory: 'abc.txt'",
     "output_type": "error",
     "traceback": [
      "\u001b[0;31m---------------------------------------------------------------------------\u001b[0m",
      "\u001b[0;31mFileNotFoundError\u001b[0m                         Traceback (most recent call last)",
      "Input \u001b[0;32mIn [14]\u001b[0m, in \u001b[0;36m<cell line: 3>\u001b[0;34m()\u001b[0m\n\u001b[1;32m      1\u001b[0m filename \u001b[38;5;241m=\u001b[39m \u001b[38;5;124m'\u001b[39m\u001b[38;5;124mabc.txt\u001b[39m\u001b[38;5;124m'\u001b[39m\n\u001b[0;32m----> 3\u001b[0m \u001b[38;5;28;01mwith\u001b[39;00m \u001b[38;5;28;43mopen\u001b[39;49m\u001b[43m(\u001b[49m\u001b[43mfilename\u001b[49m\u001b[43m,\u001b[49m\u001b[43m \u001b[49m\u001b[43mencoding\u001b[49m\u001b[38;5;241;43m=\u001b[39;49m\u001b[38;5;124;43m'\u001b[39;49m\u001b[38;5;124;43mutf-8\u001b[39;49m\u001b[38;5;124;43m'\u001b[39;49m\u001b[43m)\u001b[49m \u001b[38;5;28;01mas\u001b[39;00m f:\n\u001b[1;32m      4\u001b[0m     contents \u001b[38;5;241m=\u001b[39m f\u001b[38;5;241m.\u001b[39mread()\n",
      "\u001b[0;31mFileNotFoundError\u001b[0m: [Errno 2] No such file or directory: 'abc.txt'"
     ]
    }
   ],
   "source": [
    "filename = 'abc.txt'\n",
    "\n",
    "with open(filename, encoding='utf-8') as f:\n",
    "    contents = f.read()"
   ]
  },
  {
   "cell_type": "markdown",
   "metadata": {},
   "source": [
    "This code doesn't work but we'll get to that in a minute. We have done a couple of things differently in this code example. The first is that we have used the letter *f* to represent the file object which is a common programming convention in Python. Secondly, we have added the *encoding* argument. This argument is needed when the default encoding of your system doesn't match the encoding of the files that's being read.\n",
    "\n",
    "Python can't read from a missing file so it raises a traceback error. In this code the *open()* function is producing the error so we handle it by placing it inside a *try* block:"
   ]
  },
  {
   "cell_type": "code",
   "execution_count": 15,
   "metadata": {},
   "outputs": [
    {
     "name": "stdout",
     "output_type": "stream",
     "text": [
      "Sorry, the file abc.txt can't be found.\n"
     ]
    }
   ],
   "source": [
    "filename = 'abc.txt'\n",
    "\n",
    "try:\n",
    "    with open(filename, encoding='utf-8') as f:\n",
    "        contents = f.read()\n",
    "except FileNotFoundError:\n",
    "    print(f\"Sorry, the file {filename} can't be found.\")"
   ]
  },
  {
   "cell_type": "markdown",
   "metadata": {},
   "source": [
    "In this code example, the code in the *try* block produces a FileNotFoundError and so Python looks for an *except* block that matches that error. Python then runs the code found in that block and the user sees a helpful error message."
   ]
  },
  {
   "cell_type": "markdown",
   "metadata": {},
   "source": [
    "### Analyzing text\n",
    "\n",
    "In Python you can analyze text files containing entire books, and we seen a very small example of this in a previous program. Let's use Python to count how many words there are in Wuthering Heights, which we used in a previous program. We'll use the string method *split()* which can build a list of words from a string. Here's a small example of the *split()* method."
   ]
  },
  {
   "cell_type": "code",
   "execution_count": 16,
   "metadata": {},
   "outputs": [
    {
     "data": {
      "text/plain": [
       "['Wuthering', 'Heights']"
      ]
     },
     "execution_count": 16,
     "metadata": {},
     "output_type": "execute_result"
    }
   ],
   "source": [
    "title = \"Wuthering Heights\"\n",
    "title.split()"
   ]
  },
  {
   "cell_type": "markdown",
   "metadata": {},
   "source": [
    "The *split()* method does exactly what it sounds like, it splits or separates a string into parts wherever it finds a space and store all the parts of the string in a list. Now, let's use the *split()* method on the entire text of Wuthering Heights. "
   ]
  },
  {
   "cell_type": "code",
   "execution_count": 19,
   "metadata": {},
   "outputs": [
    {
     "name": "stdout",
     "output_type": "stream",
     "text": [
      "Sorry, the file wh.txt can't be found.\n"
     ]
    }
   ],
   "source": [
    "filename = 'wh.txt'\n",
    "\n",
    "try:\n",
    "    with open(filename, encoding='utf-8') as f:\n",
    "        contents = f.read()\n",
    "except FileNotFoundError:\n",
    "    print(f\"Sorry, the file {filename} can't be found.\")\n",
    "else:\n",
    "    # Count the words in a text file\n",
    "    words = contents.split()\n",
    "    num_words = len(words)\n",
    "    print(f\"The file {filename} has approx. {num_words} words in it.\")"
   ]
  },
  {
   "cell_type": "markdown",
   "metadata": {},
   "source": [
    "In this code example, at line 10 we take the contents of the string, which contains the entire text of Wuthering Heights,  and use *split()* to produce a list of all the words in the book. At line 11, we use the *len()* to get the number of words in the list. This number is assigned to the variable *num_words*. At line 12 we print out the filename and how many words it contains. Youll notice that all of this code was placed within a *try-except* block."
   ]
  },
  {
   "cell_type": "markdown",
   "metadata": {},
   "source": [
    "### Working with multiple files\n",
    "\n",
    "Let's add more books to analyze. To do this lets first optimize our code by moving it to a function called *word_count()*. This will make it easier to work with several books."
   ]
  },
  {
   "cell_type": "code",
   "execution_count": 21,
   "metadata": {},
   "outputs": [
    {
     "name": "stdout",
     "output_type": "stream",
     "text": [
      "The file wh.txt has approx. 118980 in it.\n"
     ]
    }
   ],
   "source": [
    "def word_count(filename):\n",
    "    \"\"\"Count the number of words in a text file.\"\"\"\n",
    "    \n",
    "    try:\n",
    "        with open(filename, encoding='utf-8') as f:\n",
    "            contents = f.read()\n",
    "    except FileNotFoundError:\n",
    "        print(f\"Sorry, the file {filename} can't be found.\")\n",
    "    else:\n",
    "        words = contents.split()\n",
    "        num_words = len(words)\n",
    "        print(f\"The file {filename} has approx. {num_words} in it.\")\n",
    "        \n",
    "filename = 'wh.txt'\n",
    "word_count(filename)"
   ]
  },
  {
   "cell_type": "markdown",
   "metadata": {},
   "source": [
    "In this code example, we have placed our code inside a function called *word_count()*. We can now write a loop to count the words in any text. We do this by storing the names of the files we want to analyze in a list, we then call *word_count()* for each file in the list."
   ]
  },
  {
   "cell_type": "code",
   "execution_count": 23,
   "metadata": {},
   "outputs": [
    {
     "name": "stdout",
     "output_type": "stream",
     "text": [
      "The file wh.txt has approx. 118980 words in it.\n",
      "Sorry, the file md.txt can't be found.\n",
      "Sorry, the file abc.txt can't be found.\n"
     ]
    }
   ],
   "source": [
    "def word_count(filename):\n",
    "    \"\"\"Count the number of words in a text file.\"\"\"\n",
    "    \n",
    "    try:\n",
    "        with open(filename, encoding='utf-8') as f:\n",
    "            contents = f.read()\n",
    "    except FileNotFoundError:\n",
    "        print(f\"Sorry, the file {filename} can't be found.\")\n",
    "    else:\n",
    "        words = contents.split()\n",
    "        num_words = len(words)\n",
    "        print(f\"The file {filename} has approx. {num_words} words in it.\")\n",
    "        \n",
    "filenames = ['wh.txt', 'md.txt', 'abc.txt']\n",
    "for filename in filenames:\n",
    "    word_count(filename)"
   ]
  },
  {
   "cell_type": "markdown",
   "metadata": {},
   "source": [
    "As you can see in this example we added a loop at line 15 to loop through the books we want to analyze. I have also added in a book that does not exist so that we can see our error handling in action. As you can see the program still runs if after an error has occurred. Also, in this code a user does not see a traceback error just a helpful text message."
   ]
  },
  {
   "cell_type": "markdown",
   "metadata": {},
   "source": [
    "### Failing silently\n",
    "\n",
    "Sometimes, in your programs you will not want to report every error that occurs to the user. In these instances you will just want the program to continue on. To make a program fail silently, we write a *try* block as normal, but we explicitly tell Python to do nothing in the *except* block. To accomplish this we use Python's *pass* statement."
   ]
  },
  {
   "cell_type": "code",
   "execution_count": 24,
   "metadata": {},
   "outputs": [
    {
     "name": "stdout",
     "output_type": "stream",
     "text": [
      "The file wh.txt has approx. 118980 in it.\n"
     ]
    }
   ],
   "source": [
    "def word_count(filename):\n",
    "    \"\"\"Count the number of words in a text file.\"\"\"\n",
    "    \n",
    "    try:\n",
    "        with open(filename, encoding='utf-8') as f:\n",
    "            contents = f.read()\n",
    "    except FileNotFoundError:\n",
    "        pass\n",
    "    else:\n",
    "        words = contents.split()\n",
    "        num_words = len(words)\n",
    "        print(f\"The file {filename} has approx. {num_words} in it.\")\n",
    "        \n",
    "filenames = ['wh.txt', 'md.txt', 'abc.txt']\n",
    "for filename in filenames:\n",
    "    word_count(filename)"
   ]
  },
  {
   "cell_type": "markdown",
   "metadata": {},
   "source": [
    "As you can see at line 8 we have added the *pass* statement. Now when a FileNotFoundError occurs the code in the *except* block runs but nothing happens. Users see no indication that a file was not found.\n",
    "\n",
    "As a developer you need to pick and choose when you display error messages. What do I mean? For example in the last program we failed silently but a user may need to know that a file was not found to complete their work. A good rule of thumb is to place code that requires user input inside *try-except* blocks and to provide helpful error messages. This is something that will improve as you gain more experience."
   ]
  },
  {
   "cell_type": "markdown",
   "metadata": {},
   "source": [
    "## Exercises\n",
    "\n",
    "- Download a book from gutenberg.org and write a program that opens the file and appends a piece of text to it\n",
    "- Append the text \"I have read this book\" to your file\n",
    "- Use the code from a previous example to scan the text file and see how many times a particular word occurs for example 'house' or 'dog'\n",
    "- Use the *count()* method to find out how many times a word or phrase appears in a string. For example: \n",
    "    message = \"hello tony\"\n",
    "    line.count('tony')"
   ]
  },
  {
   "cell_type": "markdown",
   "metadata": {},
   "source": [
    "## Storing data\n",
    "\n",
    "We've seen how to store data in Python data structures such as lists and dictionaries. At the moment when a user closes our programs the data is lost. We can give users the ability to store information using the *json* module.\n",
    "\n",
    "The json module allows you to dump simple Python data structures into a file and load the data from the file the next time the program is run. A distinct advantage to using the *JSON* data format to persist data is that it is not specific to Python, which means you can share data you store in JSON with developers working with other programming languages. Let's take a look:\n",
    "\n",
    "### Using json.dump() and json.load()\n",
    "\n",
    "Let's create a program to store a list of names, and another program to read the list. The first program will use *json.dump* to store, and the second program will use *json.load()*."
   ]
  },
  {
   "cell_type": "code",
   "execution_count": 25,
   "metadata": {},
   "outputs": [],
   "source": [
    "import json\n",
    "\n",
    "names = ['tony', 'frank', 'mary']\n",
    "\n",
    "filename = 'names.json'\n",
    "with open(filename, 'w') as f:\n",
    "    json.dump(names, f)"
   ]
  },
  {
   "cell_type": "markdown",
   "metadata": {},
   "source": [
    "As you can see in this code example, the *json.dump()* function takes two arguments, a piece of data to store and a file object it can use to store the data.\n",
    "\n",
    "At line we import the *json* module. At line 3 we create a list of names to work with. At line 5 we choose a filename in which to store the list of numbers. Its common to use the *.json* file extension to indicate that the file is JSON format. At line 6 we open the file in write mode which allows json to write the data to the file. Finally at line 7 we use the *json.dump()* function to store the list of names.\n",
    "\n",
    "There is no output from this file."
   ]
  },
  {
   "cell_type": "code",
   "execution_count": 27,
   "metadata": {},
   "outputs": [
    {
     "name": "stdout",
     "output_type": "stream",
     "text": [
      "['tony', 'frank', 'mary', 'paul']\n"
     ]
    }
   ],
   "source": [
    "import json\n",
    "\n",
    "filename = 'names.json'\n",
    "with open(filename) as f:\n",
    "    names = json.load(f)\n",
    "    \n",
    "print(names)"
   ]
  },
  {
   "cell_type": "markdown",
   "metadata": {},
   "source": [
    "BOOM! Like magic!\n",
    "\n",
    "At line 3 we are reading in the same file that we wrote to. At line 4 when we open the file we are doing so in read mode. Remember Python opens in read mode by default. Then at line 5 we use the *json.load()* function to load the information stored in *names.json* and we assign it to the variable *names*. We then print the list."
   ]
  },
  {
   "cell_type": "markdown",
   "metadata": {},
   "source": [
    "### Saving and reading user generated data\n",
    "\n",
    "Let's now create a program to store user input:"
   ]
  },
  {
   "cell_type": "code",
   "execution_count": 28,
   "metadata": {},
   "outputs": [
    {
     "name": "stdout",
     "output_type": "stream",
     "text": [
      "Please enter your username? tony\n",
      "Thank you! Your username, tony, has been saved\n"
     ]
    }
   ],
   "source": [
    "import json\n",
    "\n",
    "username = input(\"Please enter your username? \")\n",
    "\n",
    "filename = 'username.json'\n",
    "with open(filename, 'w') as f:\n",
    "    json.dump(username, f)\n",
    "    print(f\"Thank you! Your username, {username}, has been saved\")"
   ]
  },
  {
   "cell_type": "markdown",
   "metadata": {},
   "source": [
    "In this code example we ask a user to enter the user name at line 3. We then use *json.jump()* and pass it a username and a file object to store the username in. Finally we print out a message.\n",
    "\n",
    "Now let's write a program that welcomes a user by their username:"
   ]
  },
  {
   "cell_type": "code",
   "execution_count": 29,
   "metadata": {},
   "outputs": [
    {
     "name": "stdout",
     "output_type": "stream",
     "text": [
      "Hi tony!\n"
     ]
    }
   ],
   "source": [
    "import json\n",
    "\n",
    "filename = 'username.json'\n",
    "\n",
    "with open(filename) as f:\n",
    "    username = json.load(f)\n",
    "    print(f\"Hi {username}!\")"
   ]
  },
  {
   "cell_type": "markdown",
   "metadata": {},
   "source": [
    "In this example we load data back from the json file at line 6.\n",
    "\n",
    "Next let's combine these two programs into one. As we do we'll add a *try* block that attempts to recover a username. If the file does not exist we can use the *except* block to prompt for a user name and store it in *username.json* for use next time."
   ]
  },
  {
   "cell_type": "code",
   "execution_count": 32,
   "metadata": {},
   "outputs": [
    {
     "name": "stdout",
     "output_type": "stream",
     "text": [
      "Hi, tony!\n"
     ]
    }
   ],
   "source": [
    "import json\n",
    "\n",
    "# Load a username if it has been saved previously\n",
    "# Otherwise, prompty for the username and save it.\n",
    "\n",
    "filename = 'username.json'\n",
    "\n",
    "try:\n",
    "    with open(filename) as f:\n",
    "        username = json.load(f)\n",
    "except FileNotFoundError:\n",
    "    username = input(\"Please enter your username? \")\n",
    "    with open(filename, 'w') as f:\n",
    "        json.dump(username, f)\n",
    "        print(f\"Thank you! Your username, {username}, has been saved\")\n",
    "else:\n",
    "    print(f\"Hi, {username}!\")"
   ]
  },
  {
   "cell_type": "markdown",
   "metadata": {},
   "source": [
    "There is nothing new here, just previous code combined. At line 9 we open the file *username.json*. If the file exists, the user name is printed to the screen. If the files does not exist a FileNotFoundError will occur. Python will move to line 11, the *except* block, where a user is asked to enter a username. We then use *json.dump()* to store the username and print a success message."
   ]
  },
  {
   "cell_type": "markdown",
   "metadata": {},
   "source": [
    "## Exercises\n",
    "\n",
    "- Write a program that asks a user for their favorite color and save the response to a json file.\n",
    "- Write another program to tell a user what there favorite color is.\n",
    "- Combine the two programs from above"
   ]
  }
 ],
 "metadata": {
  "kernelspec": {
   "display_name": "Python 3 (ipykernel)",
   "language": "python",
   "name": "python3"
  },
  "language_info": {
   "codemirror_mode": {
    "name": "ipython",
    "version": 3
   },
   "file_extension": ".py",
   "mimetype": "text/x-python",
   "name": "python",
   "nbconvert_exporter": "python",
   "pygments_lexer": "ipython3",
   "version": "3.9.12"
  },
  "varInspector": {
   "cols": {
    "lenName": 16,
    "lenType": 16,
    "lenVar": 40
   },
   "kernels_config": {
    "python": {
     "delete_cmd_postfix": "",
     "delete_cmd_prefix": "del ",
     "library": "var_list.py",
     "varRefreshCmd": "print(var_dic_list())"
    },
    "r": {
     "delete_cmd_postfix": ") ",
     "delete_cmd_prefix": "rm(",
     "library": "var_list.r",
     "varRefreshCmd": "cat(var_dic_list()) "
    }
   },
   "types_to_exclude": [
    "module",
    "function",
    "builtin_function_or_method",
    "instance",
    "_Feature"
   ],
   "window_display": false
  }
 },
 "nbformat": 4,
 "nbformat_minor": 4
}
