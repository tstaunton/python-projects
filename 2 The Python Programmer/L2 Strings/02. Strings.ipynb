{
 "cells": [
  {
   "cell_type": "markdown",
   "metadata": {},
   "source": [
    "# Introduction\n",
    "Python has several data types, each type is designed to handle data in a specific way. In this lesson we're going to look at strings. In Python a string is a sequence of characters which are contained within single ('...') or double (\"...\") quotes."
   ]
  },
  {
   "cell_type": "code",
   "execution_count": null,
   "metadata": {},
   "outputs": [],
   "source": [
    "# Python strings\n",
    "print(\"Hello World!\")\n",
    "print('Hello World!')\n",
    "print(\"ABCdef123@£%&\")"
   ]
  },
  {
   "cell_type": "markdown",
   "metadata": {},
   "source": [
    "As you can see, no matter whether single or doube quotes are used the output is the same. This flexibility allows us to write strings that use quotes and apostrophes in them. Let's take a look."
   ]
  },
  {
   "cell_type": "code",
   "execution_count": null,
   "metadata": {},
   "outputs": [],
   "source": [
    "# Python string with quotes\n",
    "print(\"I told my boss 'I will be late to work tomorrow'.\")\n",
    "\n",
    "# Python string with apostrophes\n",
    "print(\"My friend's car broke down on the way to work.\")\n",
    "\n",
    "# Python string with single quotes\n",
    "print('I dont like my job.')"
   ]
  },
  {
   "cell_type": "markdown",
   "metadata": {},
   "source": [
    "## title() method"
   ]
  },
  {
   "cell_type": "code",
   "execution_count": null,
   "metadata": {},
   "outputs": [],
   "source": [
    "# Python title() method\n",
    "name = \"Tony Staunton\"\n",
    "print(name)"
   ]
  },
  {
   "cell_type": "code",
   "execution_count": null,
   "metadata": {},
   "outputs": [],
   "source": [
    "# Python title() method\n",
    "name = \"tony staunton\"\n",
    "print(name.title())"
   ]
  },
  {
   "cell_type": "markdown",
   "metadata": {},
   "source": [
    "In the example above we have used Python's __title()__ method. A method is an action that Python can perform on a piece of data. In this example, the __title()__ method has performed the action of changing the first lowercase character of each word in the variable __name__ to uppercase.\n",
    "\n",
    "As you can see, the title() method comes after the variable in the print statement. The dot(.) joining the variable and method together tells Python to make the title() method perform its action on the variable __name__.\n",
    "\n",
    "In Python every method is followed by a set of parentheses. To perform their actions on a variable, methods sometimes need additional information and this information is placed inside the parentheses. The title() method doesn't need any additional information to do its job so the parentheses are empty."
   ]
  },
  {
   "cell_type": "markdown",
   "metadata": {},
   "source": [
    "## upper() method\n",
    "\n",
    "The title() method is not the only tool available to the Python programmer for dealing with case in strings. There is also the __upper()__ method. Can you guess what it does?"
   ]
  },
  {
   "cell_type": "code",
   "execution_count": null,
   "metadata": {},
   "outputs": [],
   "source": [
    "# Python upper() method\n",
    "name = \"tony staunton\"\n",
    "print(name.upper())"
   ]
  },
  {
   "cell_type": "markdown",
   "metadata": {},
   "source": [
    "## lower() method\n",
    "\n",
    "Imagine this sceniro, you have a website that accepts customer names and displays them back on screen when the customer logs in. When your customers are entering their names, their writing things like:\n",
    "\n",
    "<ul>\n",
    "    <li>John Smith</li>\n",
    "    <li>JOHN SMITH</li>\n",
    "    <li>John smith</li>\n",
    "</ul>\n",
    "\n",
    "You don't want to keep the capitalization that your customers enter, so before storing customer names in the database you'll convert the strings to lowercase before saving them, in other words, you'll cleanse them."
   ]
  },
  {
   "cell_type": "code",
   "execution_count": 15,
   "metadata": {},
   "outputs": [
    {
     "name": "stdout",
     "output_type": "stream",
     "text": [
      "john smith\n",
      "jane jones\n",
      "tony staunton\n"
     ]
    }
   ],
   "source": [
    "# Python lower() method\n",
    "name1 = \"John Smith\"\n",
    "name2 = \"JANE JONES\"\n",
    "name3 = \"Tony staunton\"\n",
    "\n",
    "print(name1.lower())\n",
    "print(name2.lower())\n",
    "print(name3.lower())"
   ]
  },
  {
   "cell_type": "markdown",
   "metadata": {},
   "source": [
    "Now when your customers log back in to your website, you can present their names on screen in a clean way."
   ]
  },
  {
   "cell_type": "code",
   "execution_count": 16,
   "metadata": {},
   "outputs": [
    {
     "name": "stdout",
     "output_type": "stream",
     "text": [
      "John Smith\n",
      "Jane Jones\n",
      "Tony Staunton\n"
     ]
    }
   ],
   "source": [
    "# Python title() method\n",
    "print(name1.title())\n",
    "print(name2.title())\n",
    "print(name3.title())"
   ]
  },
  {
   "cell_type": "markdown",
   "metadata": {},
   "source": [
    "## How to use variables in strings\n",
    "\n",
    "There will be times, lots of them, when you will want to use a variable's value inside of a string. Staying with the customer application example above, you may want to collect a customers name as a first and last name. That way, when you send out your amazing email updates you can say something like \"Hey Tony\" instead of \"Hey Tony Staunton\". Later on, if you wanted, you could combine the first name, last name values to display the customers their full name."
   ]
  },
  {
   "cell_type": "code",
   "execution_count": 17,
   "metadata": {},
   "outputs": [
    {
     "name": "stdout",
     "output_type": "stream",
     "text": [
      "tony staunton\n"
     ]
    }
   ],
   "source": [
    "# Python variables in strings\n",
    "first_name = \"tony\"\n",
    "last_name = \"staunton\"\n",
    "full_name = f\"{first_name} {last_name}\"\n",
    "print(full_name)"
   ]
  },
  {
   "cell_type": "markdown",
   "metadata": {},
   "source": [
    "As you can see in this code example, to insert a variable's value into a string, you place the letter __f__ immediately before the opening quotation mark. You then place curly braces {} around the name of any variable you want to use in the string. In this example that's, __first_name__ and __last_name__. When you run your code, Python will replace each variable with its value and then display it.\n",
    "\n",
    "These strings are called __f-strings__. The __f__ stands for __format__, as Python formats the string by replacing the name of any variable in curly braces with its value.\n",
    "\n",
    "f-strings were introduced in Python 3.6, so if you are using a version of Python lower than that you will need to use the __format()__ method to display strings. For more information check out the Python documentation."
   ]
  },
  {
   "cell_type": "code",
   "execution_count": 18,
   "metadata": {},
   "outputs": [
    {
     "name": "stdout",
     "output_type": "stream",
     "text": [
      "Welcome back, Tony!\n"
     ]
    }
   ],
   "source": [
    "# Using the title() method with f-strings\n",
    "print(f\"Welcome back, {first_name.title()}!\")"
   ]
  },
  {
   "cell_type": "markdown",
   "metadata": {},
   "source": [
    "In this example, we have combined the variable, __first_name__ with the __title()__ method. We've also used this combination in a full sentence welcoming our customer back. We can even assign this welcome back message to a variable."
   ]
  },
  {
   "cell_type": "code",
   "execution_count": 19,
   "metadata": {},
   "outputs": [
    {
     "name": "stdout",
     "output_type": "stream",
     "text": [
      "Welcome back, Tony!\n"
     ]
    }
   ],
   "source": [
    "# Assigning f-strings to a variable\n",
    "welcome_message = f\"Welcome back, {first_name.title()}!\"\n",
    "print(welcome_message)"
   ]
  },
  {
   "cell_type": "markdown",
   "metadata": {},
   "source": [
    "Imagine, for a moment, the power of this little piece of code. Your application could have hundres of messages, and all you have to use to display them is a print statement with the variable name."
   ]
  },
  {
   "cell_type": "markdown",
   "metadata": {},
   "source": [
    "## How to add whitespace to strings\n",
    "\n",
    "In Python, whitespace is any nonprinting character, these include, spaces, tabs, and end of line symbols."
   ]
  },
  {
   "cell_type": "code",
   "execution_count": 20,
   "metadata": {},
   "outputs": [
    {
     "name": "stdout",
     "output_type": "stream",
     "text": [
      "Hello\n",
      "\tWorld!\n"
     ]
    }
   ],
   "source": [
    "# Python tab character\n",
    "print(\"Hello\")\n",
    "print(\"\\tWorld!\")"
   ]
  },
  {
   "cell_type": "markdown",
   "metadata": {},
   "source": [
    "As you can see in this example, each print statement is displayed on a new line and the character combination of __\\t__ produces a tab output.\n",
    "\n",
    "To add a new line without using additional print statements we can do the following:"
   ]
  },
  {
   "cell_type": "code",
   "execution_count": 21,
   "metadata": {},
   "outputs": [
    {
     "name": "stdout",
     "output_type": "stream",
     "text": [
      "Hello \n",
      "World!\n"
     ]
    }
   ],
   "source": [
    "# Python new line character\n",
    "print(\"Hello \\nWorld!\")"
   ]
  },
  {
   "cell_type": "markdown",
   "metadata": {},
   "source": [
    "As you can see from this output, the character combination of __\\n__ used directly before a word forces that word and everything that follows it onto a new line.\n",
    "\n",
    "We can also combine the __\\t__ and __\\n__ characters in a single string:"
   ]
  },
  {
   "cell_type": "code",
   "execution_count": 22,
   "metadata": {},
   "outputs": [
    {
     "name": "stdout",
     "output_type": "stream",
     "text": [
      "Hello \n",
      "\tWorld\n"
     ]
    }
   ],
   "source": [
    "print(\"Hello \\n\\tWorld\")"
   ]
  },
  {
   "cell_type": "markdown",
   "metadata": {},
   "source": [
    "## How to strip whitespace\n",
    "\n",
    "We've seen now to add white space but how about removing it out or stripping it? Firstly, why would you want to remove whitespace, it doesnt do anything to anyone, right?\n",
    "\n",
    "## rstrip() method\n",
    "\n",
    "Let me ask you this, is the string \"Tony Staunton\" sames as \" Tony   Staunton \"? In Python this additional white space is significant. Not only will these two strings be saved as different from one another, the additional whitespace takes up extra memory in a database.\n",
    "\n",
    "Let's go back to the example of a customer application. When a customer is logging in, in the background the application is going to compare the user name entered by the customer to the one saved on the database, this means that \"tonystaunton\" is not the same as \" tonystaunton\" and so the log in will fail. Python can help us solve this problem:"
   ]
  },
  {
   "cell_type": "code",
   "execution_count": 23,
   "metadata": {
    "scrolled": true
   },
   "outputs": [
    {
     "name": "stdout",
     "output_type": "stream",
     "text": [
      "tonystaunton    \n",
      "tonystaunton\n"
     ]
    }
   ],
   "source": [
    "# Pythons rstrip() method\n",
    "username = \"tonystaunton    \"\n",
    "print(username)\n",
    "print(username.rstrip())"
   ]
  },
  {
   "cell_type": "markdown",
   "metadata": {},
   "source": [
    "In this example, the removal of whitespace is only temproary. If we print out the __username__ variable again it's back:"
   ]
  },
  {
   "cell_type": "code",
   "execution_count": 24,
   "metadata": {},
   "outputs": [
    {
     "name": "stdout",
     "output_type": "stream",
     "text": [
      "tonystaunton    \n"
     ]
    }
   ],
   "source": [
    "print(username)"
   ]
  },
  {
   "cell_type": "markdown",
   "metadata": {},
   "source": [
    "To permanently remove whitespace you have to assign the stripped value to a variable:"
   ]
  },
  {
   "cell_type": "code",
   "execution_count": 25,
   "metadata": {},
   "outputs": [
    {
     "name": "stdout",
     "output_type": "stream",
     "text": [
      "tony staunton\n"
     ]
    }
   ],
   "source": [
    "username = \"tony staunton    \"\n",
    "clean_username = username.rstrip()\n",
    "print(clean_username)"
   ]
  },
  {
   "cell_type": "markdown",
   "metadata": {},
   "source": [
    "In this example we have created a new variable, __username__, at line 1 and assigned it the value tony staunton with additional whitespace on the right-hand side.\n",
    "\n",
    "We then created a second new variable, __clean_username__, and assgined it the value of the first variable but before this assignment happens the __rstrip()__ method acts on __username__ and strips out whitespace on the right-hand side. We are now free to use __clean_username__ throughout the rest of our application."
   ]
  },
  {
   "cell_type": "markdown",
   "metadata": {},
   "source": [
    "## lstrip() method\n",
    "\n",
    "Just as we can remove whitespace from the right-hand side of a string, we can do the same thing on the left-hand side by using the method __lstrip()__:"
   ]
  },
  {
   "cell_type": "code",
   "execution_count": 26,
   "metadata": {},
   "outputs": [
    {
     "name": "stdout",
     "output_type": "stream",
     "text": [
      "    tonystaunton\n",
      "tonystaunton\n"
     ]
    }
   ],
   "source": [
    "# Pythons lstrip() method\n",
    "username = \"    tonystaunton\"\n",
    "print(username)\n",
    "print(username.lstrip())"
   ]
  },
  {
   "cell_type": "markdown",
   "metadata": {},
   "source": [
    "Again, the removal of this whitespace is only temporary and you will need to assign the modified to string to a new variable to make this change permanent.\n",
    "\n",
    "## strip() method\n",
    "\n",
    "If you have a string with whitepsace on each side of it then you can use Python's __strip()__ method to remove it:"
   ]
  },
  {
   "cell_type": "code",
   "execution_count": 27,
   "metadata": {},
   "outputs": [
    {
     "name": "stdout",
     "output_type": "stream",
     "text": [
      "    tonystaunton    \n",
      "tonystaunton\n"
     ]
    }
   ],
   "source": [
    "username = \"    tonystaunton    \"\n",
    "print(username)\n",
    "print(username.strip())"
   ]
  },
  {
   "cell_type": "markdown",
   "metadata": {},
   "source": [
    "## Syntax errors\n",
    "\n",
    "As you start to use strings more and more and your program begin to get bigger a common error will be syntax errors. These errors occur when Python doesn't recognize a part of your code. Here's an example\""
   ]
  },
  {
   "cell_type": "code",
   "execution_count": 28,
   "metadata": {},
   "outputs": [
    {
     "ename": "SyntaxError",
     "evalue": "EOL while scanning string literal (1853181930.py, line 2)",
     "output_type": "error",
     "traceback": [
      "\u001b[0;36m  Input \u001b[0;32mIn [28]\u001b[0;36m\u001b[0m\n\u001b[0;31m    username = \"    tonystaunton    '\u001b[0m\n\u001b[0m                                     ^\u001b[0m\n\u001b[0;31mSyntaxError\u001b[0m\u001b[0;31m:\u001b[0m EOL while scanning string literal\n"
     ]
    }
   ],
   "source": [
    "# Python sytnax error\n",
    "username = \"    tonystaunton    '"
   ]
  },
  {
   "cell_type": "markdown",
   "metadata": {},
   "source": [
    "This error has occurred becuase the string was opened with double quotes and closed with a single quote. Python was expecting it to close with a double quote.\n",
    "\n",
    "Like the error we looked at in the previous lesson the error output from Python tries to help us. You can see from the output that the error has occured on line 2, right after the single quote. If you are using a different code editor from Jupyter Notebook then this might help to more easily spot syntax errors."
   ]
  },
  {
   "cell_type": "markdown",
   "metadata": {},
   "source": [
    "## Exercises\n",
    "\n",
    "1. Creata a variable that contains a message and print it out to the screen.\n",
    "2. Create a variable that can contain a customer's name and print a message to that customer.\n",
    "3. With the customer name variable created above apply the case methods that we used in this lesson, title(), upper(), lower()\n",
    "4. Print to the screen a string that contains single and double quotes.\n",
    "5. Create a variable with additional whitespace and using Python's lstrip(), rstrip(), and strip() methods to remove it."
   ]
  },
  {
   "cell_type": "code",
   "execution_count": null,
   "metadata": {},
   "outputs": [],
   "source": []
  }
 ],
 "metadata": {
  "kernelspec": {
   "display_name": "Python 3 (ipykernel)",
   "language": "python",
   "name": "python3"
  },
  "language_info": {
   "codemirror_mode": {
    "name": "ipython",
    "version": 3
   },
   "file_extension": ".py",
   "mimetype": "text/x-python",
   "name": "python",
   "nbconvert_exporter": "python",
   "pygments_lexer": "ipython3",
   "version": "3.9.12"
  }
 },
 "nbformat": 4,
 "nbformat_minor": 4
}
