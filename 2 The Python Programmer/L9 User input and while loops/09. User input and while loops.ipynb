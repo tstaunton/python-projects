{
 "cells": [
  {
   "cell_type": "markdown",
   "metadata": {},
   "source": [
    "# Introduction\n",
    "\n",
    "It's time to start learning how to collect information from a user. So far our programs have been one sided, we have been outputting information and results to the user. The input of our programs has been hard wired in. In this video we are going to learn how to receive input from a user, for example, name, age, location. In Python input from a user is received using the _input()_ function.\n",
    "\n",
    "## Python's input() function\n",
    "\n",
    "When Python's _input()_ function is called within a program, the program is paused and waits for a user to enter text. Once the input has been received, Python assigns that input to a variable which makes it easy for us to work with. Let's take a look:"
   ]
  },
  {
   "cell_type": "code",
   "execution_count": null,
   "metadata": {},
   "outputs": [],
   "source": [
    "message = input(\"Tell me your name and I will output it to the screen: \")\n",
    "print(message)"
   ]
  },
  {
   "cell_type": "markdown",
   "metadata": {},
   "source": [
    "In this code example, the _input()_ function takes one argument which is the prompt that the user sees on screen. When the prompt has been displayed, the program waits for the user to respond, which in this case means the user entering their name. The program will continue only after the user presses the enter key. The response is assigned to the variable _message_. We then use a _print_ statement to display the input back to the user."
   ]
  },
  {
   "cell_type": "markdown",
   "metadata": {},
   "source": [
    "> Not all code editors run programs that can prompt the user for input. If your program involves asking the user for input you may need to run it from the terminal. "
   ]
  },
  {
   "cell_type": "markdown",
   "metadata": {},
   "source": [
    "Let's take a look at another example:"
   ]
  },
  {
   "cell_type": "code",
   "execution_count": null,
   "metadata": {},
   "outputs": [],
   "source": [
    "name = input(\"Please enter your name to begin: \")\n",
    "print(f\"\\nHello, {name}\")"
   ]
  },
  {
   "cell_type": "markdown",
   "metadata": {},
   "source": [
    "There will be times, such as explaining something to the user, when you need to use a long prompt. In these cases you can assign your prompt to a variable and pass that variable to the _input()_ function. Let's take a look:"
   ]
  },
  {
   "cell_type": "code",
   "execution_count": null,
   "metadata": {},
   "outputs": [],
   "source": [
    "prompt = \"Welcome to the setup of your new software.\"\n",
    "prompt += \"\\nEvery time you run this software we can greet you by your name.\"\n",
    "prompt += \"\\nWhat is your name?\"\n",
    "\n",
    "name = input(prompt)\n",
    "print(f\"\\nHello, {name}\")"
   ]
  },
  {
   "cell_type": "markdown",
   "metadata": {},
   "source": [
    "### Accepting numerical input\n",
    "\n",
    "When Python's _input()_ function receives input from a user, it interprets everything it receives as a string. Let's take a look:"
   ]
  },
  {
   "cell_type": "code",
   "execution_count": null,
   "metadata": {},
   "outputs": [],
   "source": [
    "age = input(\"What age are you? \")"
   ]
  },
  {
   "cell_type": "code",
   "execution_count": null,
   "metadata": {},
   "outputs": [],
   "source": [
    "type(age)"
   ]
  },
  {
   "cell_type": "markdown",
   "metadata": {},
   "source": [
    "In this example we have entered the number 40 as user input and assigned it to the variable _age_. We then asked Python to tell us what data type is that variable using the _type()_ function. Python tells us that the variable _age_ is of type 'str' or string. If you are running these examples in a terminal you will see the number outputted wrapped in single quotes, '40'. This is the terminal telling you the output is a string. If all you are doing is displaying the input back to user then you won't have any problems. However, if you try and use the input as a number you will run into difficulty. Let's take a look: "
   ]
  },
  {
   "cell_type": "code",
   "execution_count": null,
   "metadata": {},
   "outputs": [],
   "source": [
    "score = input(\"What is your high score? \")\n",
    "score >= 100"
   ]
  },
  {
   "cell_type": "markdown",
   "metadata": {},
   "source": [
    "Here we are returned with a _TypeError_. Why? Python is performing a numerical comparison. It is comparing the user input of '100' with the number 100. Python can't compare a string with a number because they are two different data types.\n",
    "\n",
    "We can fix this error by using the _int()_ function. This function tells Python to treat the input as a number. Let's see how it works:"
   ]
  },
  {
   "cell_type": "code",
   "execution_count": null,
   "metadata": {},
   "outputs": [],
   "source": [
    "score = input(\"What is your high score? \")\n",
    "score = int(score)\n",
    "score >= 100"
   ]
  },
  {
   "cell_type": "markdown",
   "metadata": {},
   "source": [
    "In this code example, we ask the user what is their high score. Python will firstly interpret the user input as a string. At line 2 we convert the string into a number using the _int()_ function. Python then runs the numerical comparison test to see if the score that that user inputted is greater than or equal to the number 100. Let's build on this example:"
   ]
  },
  {
   "cell_type": "code",
   "execution_count": null,
   "metadata": {},
   "outputs": [],
   "source": [
    "score = input(\"What is your high score? \")\n",
    "score = int(score)\n",
    "\n",
    "if score >= 50:\n",
    "    print(\"Congratulations, you've made it onto the leaderboard!\")\n",
    "else:\n",
    "    print(\"Sorry your score is not high enough. Please try again.\")"
   ]
  },
  {
   "cell_type": "code",
   "execution_count": null,
   "metadata": {},
   "outputs": [],
   "source": [
    "type(score)"
   ]
  },
  {
   "cell_type": "markdown",
   "metadata": {},
   "source": [
    "Here our program is able to perform the numerical comparison without any issues because at line 2, _score = int(score)_ converts the user input into a number.\n",
    "\n",
    "### The Modulo Operator\n",
    "\n",
    "Our next Python topic always inspires a lot of questions from my students and rightly so. The modulo operator (%), divides one number by another and returns the remainder:"
   ]
  },
  {
   "cell_type": "code",
   "execution_count": null,
   "metadata": {},
   "outputs": [],
   "source": [
    "5 % 3"
   ]
  },
  {
   "cell_type": "code",
   "execution_count": null,
   "metadata": {},
   "outputs": [],
   "source": [
    "8 % 7"
   ]
  },
  {
   "cell_type": "code",
   "execution_count": null,
   "metadata": {},
   "outputs": [],
   "source": [
    "4 % 2"
   ]
  },
  {
   "cell_type": "markdown",
   "metadata": {},
   "source": [
    "The modulo operator simply tells you what the remainder of one number divided by another is. Simply as it may seem the modulo operator can be used in very powerful ways. When one number is divided by another and the remainder is 0, the modulo operator always returns 0. Let's take a look:"
   ]
  },
  {
   "cell_type": "code",
   "execution_count": null,
   "metadata": {},
   "outputs": [],
   "source": [
    "number = input(\"Input a number to check if it is an even or odd number: \")\n",
    "number = int(number)\n",
    "\n",
    "if number % 2 == 0:\n",
    "    print(f\"\\nThe number {number} is even.\")\n",
    "else:\n",
    "    print(f\"\\nThe number {number} is even.\")"
   ]
  },
  {
   "cell_type": "markdown",
   "metadata": {},
   "source": [
    "This piece of code works because even numbers are always divisible by two. If the modulo of a number and two is zero, the number is even. You will see this little piece of code in a lot of programs as you learn more Python.\n",
    "\n",
    "## Exercises\n",
    "\n",
    "- Write a program that asks a user what type of book they would like to read. Print a message out for the book type, for example, \"I think we do have some books on history. Let me see if I can find you one.\"\n",
    "\n",
    "- You are booking dinner for your company party. Write a program that asks the user how many people will be attending the dinner. If the answer is more than six, print a message that informs there user that there are no tables available. If the answer is six or less inform that user that their booking is confirmed.\n",
    "\n",
    "- Create a program that asks a user for a number and then let the user know if the number is odd or even.\n",
    "\n",
    "## While loops\n",
    "\n",
    "We've learned about _for_ loops which take a collection of items and runs a block of code once for each item in the collection. _While_ loops run as long as, or _while_ a condition is true.\n",
    "\n",
    "We can use a _while_ loop to create a simple counter: "
   ]
  },
  {
   "cell_type": "code",
   "execution_count": null,
   "metadata": {},
   "outputs": [],
   "source": [
    "number = 1\n",
    "\n",
    "while number <=10:\n",
    "    print(number)\n",
    "    number += 1"
   ]
  },
  {
   "cell_type": "markdown",
   "metadata": {},
   "source": [
    "At line 1 we create a new variable called _number_ and assign it the value 1. This will be the number that we'll start counting at.\n",
    "\n",
    "At line 3 we define a _while_ loop. This loop will keep counting while the value of _number_ is less than or equal to 10. As you can see at the end of the first line of the _while_ loop we have a double colon (:). \n",
    "\n",
    "At line 4 we have an indented _print_ statement, which means it is inside the loop. This _print_ statement prints to the screen the value of the variable _number_. At line 5 we then add 1 to that value. How are we adding 1 to the value of the variable _number_? The _+=_ operator performs the action of _number = number + 1_.\n",
    "\n",
    "Python repeats the loop while the condition is less than or equal to 10, <= 10. Python prints 1 and then adds 1, which makes the value of the variable _number_ 2. 2 is less then 10, so Python prints 2 and adds _1_ again, which makes the value of the variable _number_ now 3. This loop is repeated until the value of the variable _number_ is 10.\n",
    "\n",
    "_while_ loops are used frequently in Python. For example how does a program know to keep running if a user has not pressed the _quit_ button?\n",
    "\n",
    "### Choosing when to quit a program\n",
    "\n",
    "For our next code example let's define a quit value."
   ]
  },
  {
   "cell_type": "code",
   "execution_count": null,
   "metadata": {},
   "outputs": [],
   "source": [
    "message = \"\\nTell me your name and I will output it to the screen:\"\n",
    "message += \"\\nEnter 'quit' to end the program. \"\n",
    "\n",
    "name = \"\"\n",
    "while name != 'quit':\n",
    "    name = input(message)\n",
    "    print(name)"
   ]
  },
  {
   "cell_type": "markdown",
   "metadata": {},
   "source": [
    "In this code example we define a prompt which gives a user some instructions on what to do when inside the program. We then create a new empty variable called _name_ at line 4. This variable will store whatever value the user enters. Why is the variable _name_ empty? Python needs something to check the first time it reaches line 5, the _while_ line. The first time the program runs and Python reaches the _while_ statement it needs to compare the value of _name_ to 'quit', but no user input has been entered yet. If Python has nothing to compare, it won't be able to continue running the program. To solve this problem, we make sure to give _name_ an initial value. Even though this initial value is just an empty string, it allows our program to perform the comparison that makes the _while_ loop work. The _while_ loop at line 5 will run so long as the value inside the variable _name_ is not 'quit'.\n",
    "\n",
    "This program works well, except that it prints the word 'quit' as if it were an actual message to display to the screen."
   ]
  },
  {
   "cell_type": "code",
   "execution_count": null,
   "metadata": {},
   "outputs": [],
   "source": [
    "message = \"\\nTell me your name and I will output it to the screen:\"\n",
    "message += \"\\nEnter 'quit' to end the program. \"\n",
    "\n",
    "name = \"\"\n",
    "while name != 'quit':\n",
    "    name = input(message)\n",
    "    \n",
    "    if name != 'quit':\n",
    "        print(name)"
   ]
  },
  {
   "cell_type": "markdown",
   "metadata": {},
   "source": [
    "Now, our program performs a quick check before displaying the message and only prints the _name_ variable if it does not match the quit value.\n",
    "\n",
    "### Using a flag\n",
    "\n",
    "Previously, our programs have performed certain tasks while a given condition was true. This works well for small, simple programs like the ones we have been creating but what happens when our programs start to get bigger? We could have programs in which several different events cause it to stop running.\n",
    "\n",
    "If we have a word processing program we could quit the program by selecting the close icon, selecting File >> Quit, or maybe a combination of keys. \n",
    "\n",
    "For a program that should run only as long as many conditions are true, we can define one variable that determines whether or not the entire program is active. In Python this variable is called a _flag_ and it acts a signal to our programs. We can write programs that continue to run while the flag is set to _True_ and stop running when any of several events sets the value of the flag to _False_. As a result, our overall _while_ statement needs to check only one condition. \n",
    "\n",
    "Let's take a look at an example:"
   ]
  },
  {
   "cell_type": "code",
   "execution_count": null,
   "metadata": {},
   "outputs": [],
   "source": [
    "message = \"\\nTell me your name and I will output it to the screen:\"\n",
    "message += \"\\nEnter 'quit' to end the program. \"\n",
    "\n",
    "active = True\n",
    "while active:\n",
    "    name = input(message)\n",
    "    \n",
    "    if name == 'quit':\n",
    "        active = False\n",
    "    else:\n",
    "        print(name)"
   ]
  },
  {
   "cell_type": "markdown",
   "metadata": {},
   "source": [
    "At line 4 we have a new variable _active_ which is set to _True_. This means that our program is starting in an active state. So long as _active_ is _True_ the _while_ loop will run, line 5.\n",
    "\n",
    "Inside the _if_ statement at line 8, we check the value of _name_. If our program detects that a user has entered 'quit' we set _active_ to _False_. This will stop the _while_ loop. Anything other than 'quit' and the program will continue to run.\n",
    "\n",
    "This program makes it easier for us to add other tests that might cause the _active_ state to become _False_. As just mentioned, the addition of this code is useful in complicated programs that require several ways to stop them running.\n",
    "\n",
    "### Using break to exit a loop\n",
    "\n",
    "There will be times when you need to exit a _while_ loop without running any of the remaining code, no matter the results of any conditional tests. When you need this functionality, use the _break_ statement. The _break_ statement directs the flow of your programs. You can use it to control which lines of code are executed and which are not. This gives you control over what code is executed and when and when it is not.\n",
    "\n",
    "Let's take a look at an example:"
   ]
  },
  {
   "cell_type": "code",
   "execution_count": null,
   "metadata": {},
   "outputs": [],
   "source": [
    "message = \"\\nWhat day of the week is it?\"\n",
    "message += \"\\n(Enter 'quit' to exit the program.)\"\n",
    "\n",
    "while True:\n",
    "    day = input(message)\n",
    "    \n",
    "    if day == 'quit':\n",
    "        break\n",
    "    else:\n",
    "        print(f\"I didn't know it was {day.title()}!\")"
   ]
  },
  {
   "cell_type": "markdown",
   "metadata": {},
   "source": [
    "In this code example we have a _while_ loop starting at line 4. A _while_ loop that starts with _while True_ will run forever unless it reaches a _break_ statement. In this example the loop will continue running and asking the user what day of the week it is until 'quit' is entered. When the program detects 'quit', the _break_ statement runs, which forces Python to exit the loop.\n",
    "\n",
    "A _break_ statement can in used in any of Python's loops.\n",
    "\n",
    "### using continue in a loop\n",
    "\n",
    "The _continue_ statement will return Python to the beginning of a loop rather than breaking out of a it completely as with the _break_ statement. Let's look at an example:"
   ]
  },
  {
   "cell_type": "code",
   "execution_count": null,
   "metadata": {},
   "outputs": [],
   "source": [
    "number = 0\n",
    "while number < 10:\n",
    "    number += 1\n",
    "    if number % 2 == 0:\n",
    "        continue\n",
    "        \n",
    "    print(number)"
   ]
  },
  {
   "cell_type": "markdown",
   "metadata": {},
   "source": [
    "In this example we first set the variable _number_ to 0 at line 1. 0 is obviously less than 10 so Python enters the loop. Inside the loop we add 1 to the _number_ variable. No _number_ has the value of 1. Next, at line 4 the _if_ statement checks the modulo of _number_ and _2_. If the result is 0 the the _continue_ statement tells Python to ignore the rest of the loop and return to the beginning. If the _number_ variable is not divisible by 2, the rest of the loop is executed and Python prints the number.\n",
    "\n",
    "### Avoiding infinite loops\n",
    "\n",
    "If you don't stop a _while_ loop it will continue to run forever. Let's take a look: "
   ]
  },
  {
   "cell_type": "code",
   "execution_count": null,
   "metadata": {},
   "outputs": [],
   "source": [
    "x = 1\n",
    "while x <= 5:\n",
    "    print(x)\n",
    "    x += 1"
   ]
  },
  {
   "cell_type": "markdown",
   "metadata": {},
   "source": [
    "OK, so that works. But if you leave out line 4 you might be waiting a while for your program to finish."
   ]
  },
  {
   "cell_type": "code",
   "execution_count": null,
   "metadata": {},
   "outputs": [],
   "source": [
    "x = 1\n",
    "while x <= 5:\n",
    "    print(x)"
   ]
  },
  {
   "cell_type": "markdown",
   "metadata": {},
   "source": [
    "In this code example the value of _x_ is 1 and will never change.  Because _x_ will never change the conditional test _x <= 5_ is always true and so the _while_ loop will run forever.\n",
    "\n",
    "If you write a program, and it gets stuck in an infinite loop, we've all done it, you can exit it by:\n",
    "\n",
    "- pressing the stop icon in Jupyter\n",
    "- pressing **CTRL-C** in terminal\n",
    "- just close the terminal window\n",
    "- close or quit the code editor\n",
    "\n",
    "## Exercises\n",
    "\n",
    "- Write a loop that asks a user what extras they would like with their car. As they enter each extra print a message letting the user that their extra has been ordered. Provide the user with a way to quit the loop\n",
    "\n",
    "- You have been contracted to build the pricing system for an airline company. They have 3 destinations, America for \\\\$100, Europe for \\\\$200, and Australia \\\\$300. Write a loop which asks the user their destination and then tell them how much it will cost. \n",
    "\n",
    "## While loops with lists and dictionaries\n",
    "\n",
    "Our programs so far have used only one piece of information, the user's input. This is not scalable when we start to work with large numbers of users and information. To help us we can use lists and dictionaries with _while_ loops.\n",
    "\n",
    "To modify a list as you work through it, use a while loop. A list shouldn't be modified inside a _for_ loop as Python will have problems keeping track of the items inside the list. Using _while_ loops with lists and dictionaries will allow us to collects, store and organize lots of input to perform additional tasks on later. \n",
    "\n",
    "### Moving items from one to list to another\n",
    "\n",
    "In the example below we have users who signed up to a newsletter via a website using their email addresses. In order for the users to start receiving the newsletter they need to confirm their email addresses. This scenario requires two lists. The first to hold unverified email addresses and a second list to store users who have verified their email addresses. Let's take a look at how we could do this: "
   ]
  },
  {
   "cell_type": "code",
   "execution_count": null,
   "metadata": {},
   "outputs": [],
   "source": [
    "# Start with email addresses that need to be verified\n",
    "# and a list to hold confirmed email addresses\n",
    "unconfirmed_email_addresses = ['tony@example.com', 'jane@test.com', 'frank@test.com']\n",
    "confirmed_email_addresses = []\n",
    "\n",
    "# Confirm each email address until there are no more left\n",
    "# Move each confirmed email address to the list of confirmed email address\n",
    "while unconfirmed_email_addresses:\n",
    "    current_email_address = unconfirmed_email_addresses.pop()\n",
    "    \n",
    "    print(f\"Confirming email address: {current_email_address}\")\n",
    "    confirmed_email_addresses.append(current_email_address)\n",
    "    \n",
    "# Display all confirmed email addresses\n",
    "print(\"\\nThe following email addresses have been confirmed:\")\n",
    "for confirmed_email_address in confirmed_email_addresses:\n",
    "    print(confirmed_email_address)"
   ]
  },
  {
   "cell_type": "markdown",
   "metadata": {},
   "source": [
    "Nice! 👍 \n",
    "\n",
    "At line 1 we have a list of unconfirmed email addresses. We have an empty list created a line 2 to hold confirmed email addresses. The _while_ loop at line 8 runs as long as the list _unconfirmed_email_addresses_ is not empty. The _pop()_ method at line 9 removes unconfirmed email addresses one at a time from the end of the list _unconfirmed_email_addresses_.\n",
    "\n",
    "Finally we confirm each email address by printing a confirmation message and then adding it to the list of confirmed email addresses. When the list of unconfirmed email addresses is empty the loops stops and our _print_ statements are displayed on screen.\n",
    "\n",
    "### Removing all instances of specific values from a list\n",
    "\n",
    "In a previous lesson, we've used _remove()_ to remove specific values from a list. This method works well when the item that you want to remove appears only once in a list. But what if it appears several times and you want to remove all of them?\n",
    "\n",
    "Let's take a look:"
   ]
  },
  {
   "cell_type": "code",
   "execution_count": null,
   "metadata": {},
   "outputs": [],
   "source": [
    "employees = ['tony', 'frank', 'dina', 'beth', ' pete', 'karen', 'frank', 'frank']\n",
    "\n",
    "print(employees)\n",
    "\n",
    "while 'frank' in employees:\n",
    "    employees.remove('frank')\n",
    "    \n",
    "print(employees)"
   ]
  },
  {
   "cell_type": "markdown",
   "metadata": {},
   "source": [
    "Our first list of employees at line 1 contains several instances of the name 'frank'. We print out the list at line 3 to show them. At line 5 we create a _while_ loop which Python enters because it finds at least one instance of 'frank' in the employees list. Once inside the loop Python removes the first instance of 'frank' and then returns to line 5, the _while_ line, it then reenters the loop when it finds another instance of 'frank' in the employees list. Python proceeds to remove each instance of 'frank' until this name is no longer in the list. When this happens Python exits the loop and prints out the new list of employees. \n",
    "\n",
    "### Adding user input to a dictionary\n",
    "\n",
    "Let's create a program that asks new employees for their name and department. We'll store the data gathered from users in a dictionary."
   ]
  },
  {
   "cell_type": "code",
   "execution_count": null,
   "metadata": {},
   "outputs": [],
   "source": [
    "responses = {}\n",
    "\n",
    "# Set a flag to indictate that the program is active\n",
    "program_active = True\n",
    "\n",
    "while program_active:\n",
    "    # Ask for the employees name\n",
    "    employee_name = input(\"\\nWhat is your name?\")\n",
    "    department = input(\"What department have you been assigned to? \")\n",
    "    \n",
    "    # Store the user's response in the dictionary\n",
    "    responses[employee_name] = department\n",
    "    \n",
    "    # Find out if they have been assigned a mentor\n",
    "    repeat = input(\"Have you been assigned a new joiner mentor? (yes / no)\")\n",
    "    if repeat == 'yes':\n",
    "        program_active = False\n",
    "        \n",
    "    # Close the program and output results\n",
    "    print(\"\\n---- New Employee Details ----\")\n",
    "    for employee_name, department in responses.items():\n",
    "        print(f\"{employee_name} has started in {department} and has been assigned a mentor.\")"
   ]
  },
  {
   "cell_type": "markdown",
   "metadata": {},
   "source": [
    "In this code example we start by creating an empty dictionary at line 1 called _responses_. We then set a flag at line 4, _program_active_ to indicate that the program is running. As long as the program is _True_, Python will run the code in the _while_ loop.\n",
    "\n",
    "Within the _while_ loop, at lines 8 and 9, an employee is asked to enter their name and the department that they will be working in. The responses back from the employee are stored in the _responses_ dictionary. The employee is then asked if they have been assigned a mentor at line 15. If they answer _yes_, the _program_active_ flag is set to _False_ and the _while_ loop will stop running and the final code block at line 20 will execute. If the employee answers _no_ the program enters the _while_ loop again.\n",
    "\n",
    "## Exercises\n",
    "\n",
    "- Take the last code example and modify it so that if a new employee has not been assigned a mentor they are asked to contact HR. Update the program so that it ends cleanly whether or not an employee responds with 'yes' or 'no'.\n",
    "\n",
    "- Make a list called _training_available_ and fill it with some training course names. Next create an empty list called _assigned_training_. Loop through the list of training available and print a message informing an employee that they have been assigned to a training course and give the course name. As each training course is assigned move it to the list of assigned training. After all training has been assigned print a message saying that there are no more training slots available."
   ]
  }
 ],
 "metadata": {
  "kernelspec": {
   "display_name": "Python 3 (ipykernel)",
   "language": "python",
   "name": "python3"
  },
  "language_info": {
   "codemirror_mode": {
    "name": "ipython",
    "version": 3
   },
   "file_extension": ".py",
   "mimetype": "text/x-python",
   "name": "python",
   "nbconvert_exporter": "python",
   "pygments_lexer": "ipython3",
   "version": "3.9.12"
  },
  "varInspector": {
   "cols": {
    "lenName": 16,
    "lenType": 16,
    "lenVar": 40
   },
   "kernels_config": {
    "python": {
     "delete_cmd_postfix": "",
     "delete_cmd_prefix": "del ",
     "library": "var_list.py",
     "varRefreshCmd": "print(var_dic_list())"
    },
    "r": {
     "delete_cmd_postfix": ") ",
     "delete_cmd_prefix": "rm(",
     "library": "var_list.r",
     "varRefreshCmd": "cat(var_dic_list()) "
    }
   },
   "types_to_exclude": [
    "module",
    "function",
    "builtin_function_or_method",
    "instance",
    "_Feature"
   ],
   "window_display": false
  }
 },
 "nbformat": 4,
 "nbformat_minor": 4
}
