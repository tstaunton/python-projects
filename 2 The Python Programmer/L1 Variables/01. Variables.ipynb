{
 "cells": [
  {
   "cell_type": "markdown",
   "metadata": {},
   "source": [
    "# Introduction"
   ]
  },
  {
   "cell_type": "markdown",
   "metadata": {},
   "source": [
    "In this video we are going to learn how to work with different types of data in Python. We're going to start off by learning how to use variables. In the module we got our development environment up and running and we even ran our first Python program, the traditional Hello World. Let's dive a little deeper into that now."
   ]
  },
  {
   "cell_type": "code",
   "execution_count": 2,
   "metadata": {},
   "outputs": [
    {
     "name": "stdout",
     "output_type": "stream",
     "text": [
      "Hello World!\n"
     ]
    }
   ],
   "source": [
    "# Print statement\n",
    "print(\"Hello World!\")"
   ]
  },
  {
   "cell_type": "markdown",
   "metadata": {},
   "source": [
    "So what's just happened? Jupyter Notebook has passed our Python code through a Python interpreter. The interpreter, does exactly what it says, it interprets. In this case it interprets our print statement and decides what each word means.\n",
    "\n",
    "When the interpreter sees the word __print__ followed by parentheses, it prints to the screen whatever is between the parentheses.\n",
    "\n",
    "You'll also notice that different sections of the print statement are in different colors. This is called syntax highlighting and it's performed by your code editor which in this case is the Jupyter Notebook. Our notebook recognizes that __print()__ is the name of a function and displays that word in one color. It also notices that __\"Hello World\"__ is a string and displays this text in another color. Each code editor has its own version of syntax highlighting so don't panic if your colors are different."
   ]
  },
  {
   "cell_type": "markdown",
   "metadata": {},
   "source": [
    "## Variables\n",
    "Let's update our print statement to include a Python variable."
   ]
  },
  {
   "cell_type": "code",
   "execution_count": 3,
   "metadata": {},
   "outputs": [
    {
     "name": "stdout",
     "output_type": "stream",
     "text": [
      "Hello World!\n"
     ]
    }
   ],
   "source": [
    "# Print statement with variable\n",
    "message = \"Hello World!\"\n",
    "print(message)"
   ]
  },
  {
   "cell_type": "markdown",
   "metadata": {},
   "source": [
    "In the code above we've just added a variable called message. In Python every variable is connected to a value, in this instance, the variable __message__ is connected to the string __Hello World__."
   ]
  },
  {
   "cell_type": "code",
   "execution_count": 4,
   "metadata": {},
   "outputs": [
    {
     "name": "stdout",
     "output_type": "stream",
     "text": [
      "2\n"
     ]
    }
   ],
   "source": [
    "# Print statement with numbers\n",
    "answer = 1 + 1\n",
    "print(answer)"
   ]
  },
  {
   "cell_type": "markdown",
   "metadata": {},
   "source": [
    "In this code example we have a variable called __answer__. The value of answer is __1 + 1__. This example is just to demostrate that variables can hold different values not just strings or integers. In later lessons we will see lots of examples of this."
   ]
  },
  {
   "cell_type": "markdown",
   "metadata": {},
   "source": [
    "By adding variables to our print statements we are asking the Pyton interpreter to do more work. And that's OK, it can handle it! Let's combine our code from above."
   ]
  },
  {
   "cell_type": "code",
   "execution_count": 5,
   "metadata": {},
   "outputs": [
    {
     "name": "stdout",
     "output_type": "stream",
     "text": [
      "Hello World!\n",
      "2\n"
     ]
    }
   ],
   "source": [
    "# Print two variable with different values\n",
    "message = \"Hello World!\"\n",
    "print(message)\n",
    "\n",
    "answer = 1 + 1\n",
    "print(answer)"
   ]
  },
  {
   "cell_type": "markdown",
   "metadata": {},
   "source": [
    "## Naming Variables\n",
    "\n",
    "In the examples above we have seen two variables, __message__ and __answer__. When creating variables in Python there are a few rules and guidelines that you need to follow. Following these will help you write error free and clean code. Here are some tips to think about when creating variables in Python.\n",
    "\n",
    "<ul>\n",
    "    <li>Variable names can only be made of letters, numbers and underscores, (A-z, 0-9, and _ )</li>\n",
    "    <li>Variable names are case sensitive</li>\n",
    "    <li>They can start with a letter or an underscore, but not with a number</li>\n",
    "    <li>You cannot use spaces in variable names</li>\n",
    "    <li>Try not to use Python keywords when creating variables</li>\n",
    "    <li>Try and make your variable names descriptive and helpful</li>\n",
    "</ul>\n",
    "\n",
    "For some more guidelines when writing Python code, check out the Zen of Python."
   ]
  },
  {
   "cell_type": "code",
   "execution_count": 6,
   "metadata": {},
   "outputs": [],
   "source": [
    "import this"
   ]
  },
  {
   "cell_type": "markdown",
   "metadata": {},
   "source": [
    "## Name errors when using variables\n",
    "\n",
    "One of the most common errors a new Python programmer experiences is the __NameError__. Let's take a look."
   ]
  },
  {
   "cell_type": "code",
   "execution_count": 7,
   "metadata": {
    "scrolled": true
   },
   "outputs": [
    {
     "ename": "NameError",
     "evalue": "name 'mesage' is not defined",
     "output_type": "error",
     "traceback": [
      "\u001b[0;31m---------------------------------------------------------------------------\u001b[0m",
      "\u001b[0;31mNameError\u001b[0m                                 Traceback (most recent call last)",
      "Cell \u001b[0;32mIn [7], line 3\u001b[0m\n\u001b[1;32m      1\u001b[0m \u001b[38;5;66;03m# Print statement with variable\u001b[39;00m\n\u001b[1;32m      2\u001b[0m message \u001b[38;5;241m=\u001b[39m \u001b[38;5;124m\"\u001b[39m\u001b[38;5;124mHello World!\u001b[39m\u001b[38;5;124m\"\u001b[39m\n\u001b[0;32m----> 3\u001b[0m \u001b[38;5;28mprint\u001b[39m(\u001b[43mmesage\u001b[49m)\n",
      "\u001b[0;31mNameError\u001b[0m: name 'mesage' is not defined"
     ]
    }
   ],
   "source": [
    "# Print statement with variable\n",
    "message = \"Hello World!\"\n",
    "print(mesage)"
   ]
  },
  {
   "cell_type": "markdown",
   "metadata": {},
   "source": [
    "This output tells us, the Python programmer, serveral things:\n",
    "\n",
    "<ul>\n",
    "    <li>Where the error has occured</li>\n",
    "    <li>What type of error has occured</li>\n",
    "</ul>\n",
    "\n",
    "When you see a name error it usually means that we either forgot to assign a value to a variable or there is a spelling mistake in the variable name. In this example, at line three, there is a spelling mistake in the variable name."
   ]
  },
  {
   "cell_type": "markdown",
   "metadata": {},
   "source": [
    "## Exercises\n",
    "\n",
    "1. Create a simplea Python Hello World script that prints \"Hello World\".\n",
    "2. Create a new variable and assign a message of your choice to it. Print the variable out.\n",
    "3. With your new variable change its value and print out the new value."
   ]
  },
  {
   "cell_type": "code",
   "execution_count": null,
   "metadata": {},
   "outputs": [],
   "source": []
  }
 ],
 "metadata": {
  "kernelspec": {
   "display_name": "Python 3 (ipykernel)",
   "language": "python",
   "name": "python3"
  },
  "language_info": {
   "codemirror_mode": {
    "name": "ipython",
    "version": 3
   },
   "file_extension": ".py",
   "mimetype": "text/x-python",
   "name": "python",
   "nbconvert_exporter": "python",
   "pygments_lexer": "ipython3",
   "version": "3.8.9"
  },
  "varInspector": {
   "cols": {
    "lenName": 16,
    "lenType": 16,
    "lenVar": 40
   },
   "kernels_config": {
    "python": {
     "delete_cmd_postfix": "",
     "delete_cmd_prefix": "del ",
     "library": "var_list.py",
     "varRefreshCmd": "print(var_dic_list())"
    },
    "r": {
     "delete_cmd_postfix": ") ",
     "delete_cmd_prefix": "rm(",
     "library": "var_list.r",
     "varRefreshCmd": "cat(var_dic_list()) "
    }
   },
   "types_to_exclude": [
    "module",
    "function",
    "builtin_function_or_method",
    "instance",
    "_Feature"
   ],
   "window_display": false
  },
  "vscode": {
   "interpreter": {
    "hash": "31f2aee4e71d21fbe5cf8b01ff0e069b9275f58929596ceb00d14d90e3e16cd6"
   }
  }
 },
 "nbformat": 4,
 "nbformat_minor": 4
}
