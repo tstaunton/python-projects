{
 "cells": [
  {
   "cell_type": "markdown",
   "metadata": {},
   "source": [
    "# Introduction\n",
    "\n",
    "In this video we're going to take a look at Python dictionaries. Dictionaries can store an almost limitless amount of information and are used in Python to connect pieces of related information. We're going to learn how to create dictionaries and then access and modify the information within them. \n",
    "\n",
    "Python dictionaries provide us with the ability to create real-world objects more accurately within our code. We could create a dictionary that represents a car and then store as much information as we need about that car. We could store brand, model, specifications, price, and much more. Dictionaries will allow us to store any two kinds of information that can be matched up such as employees and their salaries, car brands and models and so on.\n",
    "\n",
    "## Our first dictionary\n",
    "\n",
    "Let's get started by creating our first dictionary. Imagine you own a company with a single employee:"
   ]
  },
  {
   "cell_type": "code",
   "execution_count": 1,
   "metadata": {},
   "outputs": [
    {
     "name": "stdout",
     "output_type": "stream",
     "text": [
      "tony staunton\n",
      "20000\n"
     ]
    }
   ],
   "source": [
    "employee_001 = {'name' : 'tony staunton', 'salary' : 20000 }\n",
    "\n",
    "print(employee_001['name'])\n",
    "print(employee_001['salary'])"
   ]
  },
  {
   "cell_type": "markdown",
   "metadata": {},
   "source": [
    "Our first dictionary is created at line 1 using curly brackets {} and assigning it the name __employee_001__. The dictionary stores an employees names and their salary. At lines 3 and 4 we use a __print__ statement to access the value of 'name' and 'salary' and display them on screen. This may all seem a bit abstract at the moment but with practice you will see the value of using dictionaries to model real-world scenarios.\n",
    "\n",
    "## Using dictionaries \n",
    "\n",
    "In Python, a dictionary is made up of what are called __key-value__ pairs, for example _'name':'tony staunton'_. Here, _name_ is the key and _tony staunton_ is the value. Each key is connected to a value and you can use a key to access the value associated with that key. In Python, you can use any object that you can create as a value. A key's value can be a number, a string, a list or another dictionary.\n",
    "\n",
    "As we've just seen in the first example Python dictionaries are contained within curly brackets __{}__. Inside these brackets is a series of key-value pairs.\n",
    "\n",
    "employee_001 = {'name' : 'tony staunton', 'salary' : 20000 }\n",
    "\n",
    "A _key-value pair_ is a set of values associated with each other. When you provide Python with a key, it returns the associated value. Every key is connected to its value by a colon (:), and each key-value pair is separated from one another by a comma (,). You can store as many key-value pairs as you need in a dictionary.\n",
    "\n",
    "### Accessing values in a dictionary"
   ]
  },
  {
   "cell_type": "code",
   "execution_count": 2,
   "metadata": {},
   "outputs": [
    {
     "name": "stdout",
     "output_type": "stream",
     "text": [
      "20000\n"
     ]
    }
   ],
   "source": [
    "employee_001 = {'name' : 'tony staunton', 'salary' : 20000 }\n",
    "\n",
    "print(employee_001['salary'])"
   ]
  },
  {
   "cell_type": "markdown",
   "metadata": {},
   "source": [
    "This simple example returns the value associated with the key 'salary' from the dictionary _employee_001_.\n",
    "\n",
    "Let's take a look at another example:"
   ]
  },
  {
   "cell_type": "code",
   "execution_count": 3,
   "metadata": {},
   "outputs": [
    {
     "name": "stdout",
     "output_type": "stream",
     "text": [
      "Your current salary is $20000.\n"
     ]
    }
   ],
   "source": [
    "employee_001 = {'name' : 'tony staunton', 'salary' : 20000 }\n",
    "\n",
    "current_salary = employee_001['salary']\n",
    "\n",
    "print(f\"Your current salary is ${current_salary}.\")"
   ]
  },
  {
   "cell_type": "markdown",
   "metadata": {},
   "source": [
    "In this example we define a dictionary at line 1. Then at line 3 we create a variable called _current_salary_ and assign to it the value associated with the key 'salary'. The _print_ statement at line 5 informs the user of their current salary by displaying the variable _current_salary_.\n",
    "\n",
    "### Adding new key-value pairs\n",
    "\n",
    "One of the great things about dictionaries is that they are dynamic, which means that you can add new key-value pairs at any time. Let's take a look at how to add additional key-value pairs to our _employee_001_ dictionary:"
   ]
  },
  {
   "cell_type": "code",
   "execution_count": 4,
   "metadata": {},
   "outputs": [
    {
     "name": "stdout",
     "output_type": "stream",
     "text": [
      "{'name': 'tony staunton', 'salary': 20000}\n",
      "{'name': 'tony staunton', 'salary': 20000, 'grade': 'manager', 'time_of_service': 4}\n"
     ]
    }
   ],
   "source": [
    "employee_001 = {'name' : 'tony staunton', 'salary' : 20000 }\n",
    "print(employee_001)\n",
    "\n",
    "employee_001['grade'] = 'manager'\n",
    "employee_001['time_of_service'] = 4\n",
    "\n",
    "print(employee_001)"
   ]
  },
  {
   "cell_type": "markdown",
   "metadata": {},
   "source": [
    "In this code example we start as we have done previously by defining a new dictionary, _employee_001_. We then print out the dictionary at line 2 to confirm the information held within. At lines 4 and 5 we add new key-value pairs to the dictionary. These are:\n",
    "\n",
    "- key 'grade' and value 'manager'\n",
    "- key 'time_of_service' and value 4\n",
    "\n",
    "At line 7 we print out the modified dictionary which now contains 4 key-value pairs.\n",
    "\n",
    "> One of the most common questions from students who are working with dictionaries is related to the order in which they are output from a _print_ statement. In Python 3.6 or earlier when you printed out the contents of a dictionary or looped through its elements you could see the elements in any order. As of Python 3.7, dictionaries retain the order in which they are defined.\n",
    "\n",
    "### Working with an empty dictionary\n",
    "\n",
    "Imaging it is the first day of your new business. As of yet you have no employees. We can create an empty dictionary and then add employees to it as they join our business. To create an empty dictionary, we do so by using empty curly brackets, we can then add key-value pairs. Let's revisit our employee_001 dictionary:"
   ]
  },
  {
   "cell_type": "code",
   "execution_count": 5,
   "metadata": {},
   "outputs": [
    {
     "name": "stdout",
     "output_type": "stream",
     "text": [
      "{'name': 'jane smith', 'salary': 20000}\n"
     ]
    }
   ],
   "source": [
    "employee_001 = {}\n",
    "\n",
    "employee_001['name'] = 'jane smith'\n",
    "employee_001['salary'] = 20000\n",
    "\n",
    "print(employee_001)"
   ]
  },
  {
   "cell_type": "markdown",
   "metadata": {},
   "source": [
    "In this example we define an empty dictionary at line 1 and then add name and salary key-value pairs to it. At line 6 we print out the dictionary.\n",
    "\n",
    "The best time to use an empty dictionary is when you are starting out with information that will be supplied by a user.\n",
    "\n",
    "### Changing values within a dictionary\n",
    "\n",
    "As well as creating dictionaries, populated or empty, and adding key-value pairs to them we can also modify the values within them. To do this give the name of the dictionary with the key in square brackets and then the new value you want associated with that key. Imagine you have just been given a raise, let's take a look at how we can modify the value associated with the key 'salary':"
   ]
  },
  {
   "cell_type": "code",
   "execution_count": 7,
   "metadata": {},
   "outputs": [
    {
     "name": "stdout",
     "output_type": "stream",
     "text": [
      "Your current salary is $20000.\n",
      "Your new salary is $30000.\n"
     ]
    }
   ],
   "source": [
    "employee_001 = {'name' : 'tony staunton', 'salary' : 20000 }\n",
    "print(f\"Your current salary is ${employee_001['salary']}.\")\n",
    "\n",
    "employee_001['salary'] = 30000\n",
    "print(f\"Your new salary is ${employee_001['salary']}.\")"
   ]
  },
  {
   "cell_type": "markdown",
   "metadata": {},
   "source": [
    "In this example we define a dictionary as we have done previously at line 1. The at line 4 we associate a new value '30000' with the key 'salary'. At line 5 we print out the new salary to show that the modification has been successful. Let's look at this example again but this time with a bit more added to it:"
   ]
  },
  {
   "cell_type": "code",
   "execution_count": 9,
   "metadata": {},
   "outputs": [
    {
     "name": "stdout",
     "output_type": "stream",
     "text": [
      "Based on your current years of service, 12, your current salary is $20000.\n",
      "Your new salary is: $35000\n"
     ]
    }
   ],
   "source": [
    "employee_001 = {'name':'tony staunton', 'salary':20000, 'time_of_service':12}\n",
    "print(f\"Based on your current years of service, {employee_001['time_of_service']}, your current salary is ${employee_001['salary']}.\")\n",
    "\n",
    "# Increase salary based in years of service\n",
    "if employee_001['time_of_service'] <= 1:\n",
    "    salary_increment = 5000\n",
    "elif employee_001['time_of_service'] <= 3:\n",
    "    salary_increment = 10000\n",
    "else:\n",
    "    salary_increment = 15000\n",
    "    \n",
    "# The new salary is based on the current salary plus the salary increment.\n",
    "employee_001['salary'] = employee_001['salary'] + salary_increment\n",
    "\n",
    "print(f\"Your new salary is: ${employee_001['salary']}\")\n",
    "    \n"
   ]
  },
  {
   "cell_type": "markdown",
   "metadata": {},
   "source": [
    "This is a great code example as it has a lot going on inside it. Let's walk-through it.\n",
    "\n",
    "- At line 1 we define a new dictionary\n",
    "- At line 2 we print out two sets of key-value pairs\n",
    "- At line 5 we start an _if-elif-else_ chain to determine what salary increment should be applied to the current salary\n",
    "- If an employee's time of service is less than or equal to 1 year than a salary increment of 5000 is applied, if the time of service is less than or equal to 3 then  then a salary increment of 10000 is applied, finally for everything greater than 3 a salary increment of 15000 is applied\n",
    "- At line 13 we are replacing the current value of the key 'salary' with the result of the calculation 'salary' + salary_increment.\n",
    "- At line 15 the new salary is displayed on screen\n",
    "\n",
    "### Removing key-value pairs\n",
    "\n",
    "If you ever need to delete a piece of information that is stored in a dictionary you can use the _del_ statement. This statement will completely remove a key-value pair, you cannot retrieve it later. To use the _del_ statement you need to provide it with the dictionary name and the key to be removed. Let's take a look:"
   ]
  },
  {
   "cell_type": "code",
   "execution_count": 10,
   "metadata": {},
   "outputs": [
    {
     "name": "stdout",
     "output_type": "stream",
     "text": [
      "Based on your current years of service, 1, your current salary is $20000.\n",
      "{'name': 'tony staunton', 'time_of_service': 1}\n"
     ]
    }
   ],
   "source": [
    "employee_001 = {'name':'tony staunton', 'salary':20000, 'time_of_service':1}\n",
    "print(f\"Based on your current years of service, {employee_001['time_of_service']}, your current salary is ${employee_001['salary']}.\")\n",
    "\n",
    "del employee_001['salary']\n",
    "print(employee_001)"
   ]
  },
  {
   "cell_type": "markdown",
   "metadata": {},
   "source": [
    "In this code example we use the _del_ statement at line 4 to tell Python to delete the key 'salary' from the dictionary _employee_001_. This will also remove the value associate with the key as well.\n",
    "\n",
    "### Similar objects within a dictionary\n",
    "\n",
    "So far our dictionaries have been storing different kinds of information about one object, an employee and their details. Dictionaries can also be used to store one kind of information about many objects. Imagine you want to save your friends favorite food, a dictionary can used:"
   ]
  },
  {
   "cell_type": "code",
   "execution_count": 11,
   "metadata": {},
   "outputs": [],
   "source": [
    "favorite_food = {'tony' : 'chicken wings',\n",
    "                'jane' : 'pasta',\n",
    "                'tom' : 'burgers',\n",
    "                'mary' : 'fish',\n",
    "                }"
   ]
  },
  {
   "cell_type": "markdown",
   "metadata": {},
   "source": [
    "In the code above we have several keys, which are the names of friends and each value is their favorite food. As you can see this dictionary is defined over several lines with a line break after the comma. Let's see how we can use this dictionary:"
   ]
  },
  {
   "cell_type": "code",
   "execution_count": 14,
   "metadata": {},
   "outputs": [
    {
     "name": "stdout",
     "output_type": "stream",
     "text": [
      "Mary's favorite food is Fish.\n"
     ]
    }
   ],
   "source": [
    "favorite_food = {'tony' : 'chicken wings',\n",
    "                'jane' : 'pasta',\n",
    "                'tom' : 'burgers',\n",
    "                'mary' : 'fish',\n",
    "                }\n",
    "\n",
    "food = favorite_food['mary'].title()\n",
    "print(f\"Mary's favorite food is {food}.\")"
   ]
  },
  {
   "cell_type": "markdown",
   "metadata": {},
   "source": [
    "This example should be mostly familiar to you by now. At line 7 we create a new variable called _food_ and assigned to it the value which is associated with the key 'tom'. We then print that value out to the user. We can of course use this code to get the value of any key in the dictionary.\n",
    "\n",
    "### Access values with get()\n",
    "\n",
    "What happens when you try to access a key in a dictionary that no longer exists or never existed? You'll get an error! Let's take a look:"
   ]
  },
  {
   "cell_type": "code",
   "execution_count": 15,
   "metadata": {},
   "outputs": [
    {
     "ename": "KeyError",
     "evalue": "'salary'",
     "output_type": "error",
     "traceback": [
      "\u001b[0;31m---------------------------------------------------------------------------\u001b[0m",
      "\u001b[0;31mKeyError\u001b[0m                                  Traceback (most recent call last)",
      "Input \u001b[0;32mIn [15]\u001b[0m, in \u001b[0;36m<cell line: 2>\u001b[0;34m()\u001b[0m\n\u001b[1;32m      1\u001b[0m employee_001 \u001b[38;5;241m=\u001b[39m {\u001b[38;5;124m'\u001b[39m\u001b[38;5;124mname\u001b[39m\u001b[38;5;124m'\u001b[39m : \u001b[38;5;124m'\u001b[39m\u001b[38;5;124mtony staunton\u001b[39m\u001b[38;5;124m'\u001b[39m}\n\u001b[0;32m----> 2\u001b[0m \u001b[38;5;28mprint\u001b[39m(\u001b[43memployee_001\u001b[49m\u001b[43m[\u001b[49m\u001b[38;5;124;43m'\u001b[39;49m\u001b[38;5;124;43msalary\u001b[39;49m\u001b[38;5;124;43m'\u001b[39;49m\u001b[43m]\u001b[49m)\n",
      "\u001b[0;31mKeyError\u001b[0m: 'salary'"
     ]
    }
   ],
   "source": [
    "employee_001 = {'name' : 'tony staunton'}\n",
    "print(employee_001['salary'])"
   ]
  },
  {
   "cell_type": "markdown",
   "metadata": {},
   "source": [
    "What we get here is called a traceback with a _KeyError_. To handle this error we use Python's _get()_ method to set a default value that will be returned if the requested key does not exist.\n",
    "\n",
    "To use the _get()_ method we need to provide it with a key as a first argument. A second optional argument can be passed to the _get_ method which should contain the value to be returned if the requested key does not exist. Let's look at the example above, this time including the _get_ method:"
   ]
  },
  {
   "cell_type": "code",
   "execution_count": 16,
   "metadata": {},
   "outputs": [
    {
     "name": "stdout",
     "output_type": "stream",
     "text": [
      "No salary is assigned.\n"
     ]
    }
   ],
   "source": [
    "employee_001 = {'name' : 'tony staunton'}\n",
    "\n",
    "current_salary = employee_001.get('salary', 'No salary is assigned.')\n",
    "\n",
    "print(current_salary)"
   ]
  },
  {
   "cell_type": "markdown",
   "metadata": {},
   "source": [
    "Consider using the _get()_ method when you think that a key that may be requested might not exist. What happens if we leave out the second optional argument of the _get_ method?"
   ]
  },
  {
   "cell_type": "code",
   "execution_count": 17,
   "metadata": {},
   "outputs": [
    {
     "name": "stdout",
     "output_type": "stream",
     "text": [
      "None\n"
     ]
    }
   ],
   "source": [
    "employee_001 = {'name' : 'tony staunton'}\n",
    "\n",
    "current_salary = employee_001.get('salary')\n",
    "\n",
    "print(current_salary)"
   ]
  },
  {
   "cell_type": "markdown",
   "metadata": {},
   "source": [
    "_None_ is returned which means that no value exists.\n",
    "\n",
    "## Exercises\n",
    "\n",
    "- Use a dictionary to store information about a book. Store the book name, author, publisher and the year it was published. As with variable names make sure that you key names are clear and descriptive. Print out each piece of information that is stored in your dictionary.\n",
    "\n",
    "- Add a new book to your dictionary and print it out.\n",
    "\n",
    "## Looping through a dictionary\n",
    "\n",
    "So far our dictionaries have been small with just one or two sets of key-value pairs. But dictionaries in Python can contain millions of pairs. To handle this amount of information, Python allows you to loop through a dictionary. You can loop through a dictionary's key-value pairs, through its keys or through its values. Let's take a look at each one in turn.\n",
    "\n",
    "### Looping through key-value pairs\n",
    "\n",
    "Let's create a new dictionary that is designed to store information about books that currently have on our bookshelf."
   ]
  },
  {
   "cell_type": "code",
   "execution_count": null,
   "metadata": {},
   "outputs": [],
   "source": [
    "bookshelf = {\n",
    "    'book_name' : 'steve jobs',\n",
    "    'book_author' : 'walter isaacson',\n",
    "    'published_date' : 2015,\n",
    "}"
   ]
  },
  {
   "cell_type": "markdown",
   "metadata": {},
   "source": [
    "Here we have a dictionary that currently stores one book. We can access any piece of information about _bookshelf_ based on what we have already learned about dictionaries. However, if we wanted to see everything stored in this dictionary we could use a loop. Let's take a look:"
   ]
  },
  {
   "cell_type": "code",
   "execution_count": 18,
   "metadata": {},
   "outputs": [
    {
     "name": "stdout",
     "output_type": "stream",
     "text": [
      "\n",
      "Key: book_name\n",
      "Value: steve jobs\n",
      "\n",
      "Key: book_author\n",
      "Value: walter isaacson\n",
      "\n",
      "Key: published_date\n",
      "Value: 2015\n"
     ]
    }
   ],
   "source": [
    "bookshelf = {\n",
    "    'book_name' : 'steve jobs',\n",
    "    'book_author' : 'walter isaacson',\n",
    "    'published_date' : 2015,\n",
    "}\n",
    "\n",
    "for key, value in bookshelf.items():\n",
    "    print(f\"\\nKey: {key}\")\n",
    "    print(f\"Value: {value}\")"
   ]
  },
  {
   "cell_type": "markdown",
   "metadata": {},
   "source": [
    "As before our dictionary is created between lines 1 and 5. At line 7 we write a _for_ loop. Here we create names for two variables that will hold the key and value in each key-value pair. We can choose any names for these two variables. For example:"
   ]
  },
  {
   "cell_type": "code",
   "execution_count": 19,
   "metadata": {},
   "outputs": [
    {
     "name": "stdout",
     "output_type": "stream",
     "text": [
      "\n",
      "Key: published_date\n",
      "Value: 2015\n",
      "\n",
      "Key: published_date\n",
      "Value: 2015\n",
      "\n",
      "Key: published_date\n",
      "Value: 2015\n"
     ]
    }
   ],
   "source": [
    "bookshelf = {\n",
    "    'book_name' : 'steve jobs',\n",
    "    'book_author' : 'walter isaacson',\n",
    "    'published_date' : 2015,\n",
    "}\n",
    "\n",
    "for fred, barney in bookshelf.items():\n",
    "    print(f\"\\nKey: {key}\")\n",
    "    print(f\"Value: {value}\")"
   ]
  },
  {
   "cell_type": "markdown",
   "metadata": {},
   "source": [
    "Not the two best variable names in the world. It is better to use descriptive, meaningful variable names.\n",
    "\n",
    "After the variables names in line 1 we have the name of the dictionary followed by the method _items()_, which returns a list of key-value pairs. The _for_ loop then assigns each of these pairs to the two variables provided.\n",
    "\n",
    "At lines 8 and 9 we have two print statements. These print out each key and associated value. Note at line 8 in the _print_ statement we use the newline characters to print out a blank line before each key-value pair which gives us a nice clean output.\n",
    "\n",
    "With what we now know about loops in a dictionary let's revisit our _favorite_food_ dictionary:"
   ]
  },
  {
   "cell_type": "code",
   "execution_count": 20,
   "metadata": {},
   "outputs": [
    {
     "name": "stdout",
     "output_type": "stream",
     "text": [
      "Tony's favorite food is chicken wings.\n",
      "Jane's favorite food is pasta.\n",
      "Tom's favorite food is burgers.\n",
      "Mary's favorite food is fish.\n"
     ]
    }
   ],
   "source": [
    "favorite_food = {'tony' : 'chicken wings',\n",
    "                'jane' : 'pasta',\n",
    "                'tom' : 'burgers',\n",
    "                'mary' : 'fish',\n",
    "                }\n",
    "\n",
    "for name, food in favorite_food.items():\n",
    "    print(f\"{name.title()}'s favorite food is {food}.\")"
   ]
  },
  {
   "cell_type": "markdown",
   "metadata": {},
   "source": [
    "In this example, because the keys always refer to a person's name and the value is always a food, we use the variable names _name_ and _food_ in the loop instead of _key_ and _value_.\n",
    "\n",
    "At line 7 we instruct Python to loop through each key-value pair in the dictionary. As it does this, the key from each pair is assigned to the variable called _name_, and the value is assigned to the variable called _food_.\n",
    "\n",
    "### Looping through the keys in a dictionary\n",
    "\n",
    "We've just learned how to loop through the key-value pairs of a dictionary but there will be times when you only need to work with the keys of a dictionary. To do this Python gives us the _keys()_ method. Let's take a look:"
   ]
  },
  {
   "cell_type": "code",
   "execution_count": 21,
   "metadata": {},
   "outputs": [
    {
     "name": "stdout",
     "output_type": "stream",
     "text": [
      "Tony\n",
      "Jane\n",
      "Tom\n",
      "Mary\n"
     ]
    }
   ],
   "source": [
    "favorite_food = {'tony' : 'chicken wings',\n",
    "                'jane' : 'pasta',\n",
    "                'tom' : 'burgers',\n",
    "                'mary' : 'fish',\n",
    "                }\n",
    "\n",
    "for name in favorite_food.keys():\n",
    "    print(name.title())"
   ]
  },
  {
   "cell_type": "markdown",
   "metadata": {},
   "source": [
    "In this example at line 7 we tell Python to take all of the keys form the dictionary, _favorite_food_ and assign them one at a time to the variable _name_.\n",
    "\n",
    "What happens if we heave out the _keys()_ method?"
   ]
  },
  {
   "cell_type": "code",
   "execution_count": 22,
   "metadata": {},
   "outputs": [
    {
     "name": "stdout",
     "output_type": "stream",
     "text": [
      "Tony\n",
      "Jane\n",
      "Tom\n",
      "Mary\n"
     ]
    }
   ],
   "source": [
    "favorite_food = {'tony' : 'chicken wings',\n",
    "                'jane' : 'pasta',\n",
    "                'tom' : 'burgers',\n",
    "                'mary' : 'fish',\n",
    "                }\n",
    "\n",
    "for name in favorite_food:\n",
    "    print(name.title())"
   ]
  },
  {
   "cell_type": "markdown",
   "metadata": {},
   "source": [
    "We get the same output but why? Looping through the keys the default behavior when looping through a dictionary. You can choose to include or omit the _keys()_ method. I use it because I think that it helps to make my more code more readable as well as the intention of my code clearer."
   ]
  },
  {
   "cell_type": "code",
   "execution_count": 24,
   "metadata": {},
   "outputs": [
    {
     "name": "stdout",
     "output_type": "stream",
     "text": [
      "Hi Tony.\n",
      "Hi Jane.\n",
      "Jane, your favorite food is Pasta.\n",
      "Hi Tom.\n",
      "Tom, your favorite food is Burgers.\n",
      "Hi Mary.\n"
     ]
    }
   ],
   "source": [
    "favorite_food = {'tony' : 'chicken wings',\n",
    "                'jane' : 'pasta',\n",
    "                'tom' : 'burgers',\n",
    "                'mary' : 'fish',\n",
    "                }\n",
    "\n",
    "friends = ['jane', 'tom']\n",
    "for name in favorite_food.keys():\n",
    "    print(f\"Hi {name.title()}.\")\n",
    "    \n",
    "    if name in friends:\n",
    "        food = favorite_food[name].title()\n",
    "        print(f\"{name.title()}, your favorite food is {food}.\")"
   ]
  },
  {
   "cell_type": "markdown",
   "metadata": {},
   "source": [
    "In this code example we have accessed the value associated with a key inside a loop by using the current key.\n",
    "\n",
    "As before we create a dictionary of favorite foods from lines 1 to 5. Then at line 7 we create a list of friends who we would like to display a message to. Inside the loop we print each person's name. At line 11 we check if the current name is in the list _friends_. If it is, _True_, we determine that person's favorite food using the name of the dictionary and the current value of _name_ as the key. Finally, we print a out a message to the identified friends.\n",
    "\n",
    "What about when a key is not in a dictionary?"
   ]
  },
  {
   "cell_type": "code",
   "execution_count": 25,
   "metadata": {},
   "outputs": [
    {
     "name": "stdout",
     "output_type": "stream",
     "text": [
      "John, what is your favorite food?\n"
     ]
    }
   ],
   "source": [
    "favorite_food = {'tony' : 'chicken wings',\n",
    "                'jane' : 'pasta',\n",
    "                'tom' : 'burgers',\n",
    "                'mary' : 'fish',\n",
    "                }\n",
    "\n",
    "if 'john' not in favorite_food.keys():\n",
    "    print(\"John, what is your favorite food?\")"
   ]
  },
  {
   "cell_type": "markdown",
   "metadata": {},
   "source": [
    "As well as looping through a dictionary, the _keys()_ method also returns a list of all the keys, and at line 7 it checks if 'john' is in this list. \n",
    "\n",
    "### Looping through keys in a particular order\n",
    "\n",
    "As of Python 3.7 looping through a dictionary returns the items in the same order that they were inserted. There will be times when you want to loop through the items in a dictionary in a different order. Let's take a look at how we can do this. "
   ]
  },
  {
   "cell_type": "code",
   "execution_count": 26,
   "metadata": {},
   "outputs": [
    {
     "name": "stdout",
     "output_type": "stream",
     "text": [
      "Adrian Goldsworthy, wrote a history book.\n",
      "Niall Ferguson, wrote a history book.\n",
      "Simon Baker, wrote a history book.\n"
     ]
    }
   ],
   "source": [
    "bookshelf = {\n",
    "    'adrian goldsworthy' : 'in the name of rome',\n",
    "    'simon baker' : 'ancient rome',\n",
    "    'niall ferguson' : 'civilization',\n",
    "}\n",
    "\n",
    "for book_author in sorted(bookshelf.keys()):\n",
    "    print(f\"{book_author.title()}, wrote a history book.\")"
   ]
  },
  {
   "cell_type": "markdown",
   "metadata": {},
   "source": [
    "In this example we have used Python's _sorted()_ function to display the keys of the dictionary _bookshelf_ in alphabetical order.\n",
    "\n",
    "At line 7 we've wrapped the _sorted()_ function around _bookshelf.keys()_ method. This tells Python to list all the keys in the dictionary and sort that list before looping through it.\n",
    "\n",
    "### Looping through all the values in a dictionary\n",
    "\n",
    "In the previous examples we learned how to output the keys of a dictionary but what if we want to output the values? To achieve this we can use Python's _values()_ method which will return a list of values in a dictionary without any keys. Let's see how it works:"
   ]
  },
  {
   "cell_type": "code",
   "execution_count": 27,
   "metadata": {},
   "outputs": [
    {
     "name": "stdout",
     "output_type": "stream",
     "text": [
      "You have the following books on your bookshelf:\n",
      "In The Name Of Rome\n",
      "Ancient Rome\n",
      "Civilization\n"
     ]
    }
   ],
   "source": [
    "bookshelf = {\n",
    "    'adrian goldsworthy' : 'in the name of rome',\n",
    "    'simon baker' : 'ancient rome',\n",
    "    'niall ferguson' : 'civilization',\n",
    "}\n",
    "\n",
    "print(\"You have the following books on your bookshelf:\")\n",
    "for book in bookshelf.values():\n",
    "    print(book.title())"
   ]
  },
  {
   "cell_type": "markdown",
   "metadata": {},
   "source": [
    "In this example, the _for_ statement at line 8 pulls each value from the dictionary and assigns it to the variable _book_. \n",
    "\n",
    "This code will pull all the values from a dictionary without checking for repeats. Let's examine an example:"
   ]
  },
  {
   "cell_type": "code",
   "execution_count": 28,
   "metadata": {},
   "outputs": [
    {
     "name": "stdout",
     "output_type": "stream",
     "text": [
      "You have the following authors on your bookshelf:\n",
      "Adrian Goldsworthy\n",
      "Simon Baker\n",
      "Niall Ferguson\n",
      "Adrian Goldsworthy\n",
      "Adrian Goldsworthy\n"
     ]
    }
   ],
   "source": [
    "bookshelf = {\n",
    "    'in the name of rome' : 'adrian goldsworthy',\n",
    "    'ancient rome' : 'simon baker',\n",
    "    'civilization' : 'niall ferguson',\n",
    "    'caesar' : 'adrian goldsworthy',\n",
    "    'the fall of carthage' : 'adrian goldsworthy',\n",
    "}\n",
    "\n",
    "print(\"You have the following authors on your bookshelf:\")\n",
    "for author in bookshelf.values():\n",
    "    print(author.title())"
   ]
  },
  {
   "cell_type": "markdown",
   "metadata": {},
   "source": [
    "As you can see from the output we have the author Adrian Goldsworthy repeated several times. We don't need to know that we have three books by this author only the author name so show would we remove the repeats? Let's see:"
   ]
  },
  {
   "cell_type": "code",
   "execution_count": 29,
   "metadata": {},
   "outputs": [
    {
     "name": "stdout",
     "output_type": "stream",
     "text": [
      "You have the following authors on your bookshelf:\n",
      "Simon Baker\n",
      "Adrian Goldsworthy\n",
      "Niall Ferguson\n"
     ]
    }
   ],
   "source": [
    "bookshelf = {\n",
    "    'in the name of rome' : 'adrian goldsworthy',\n",
    "    'ancient rome' : 'simon baker',\n",
    "    'civilization' : 'niall ferguson',\n",
    "    'caesar' : 'adrian goldsworthy',\n",
    "    'the fall of carthage' : 'adrian goldsworthy',\n",
    "}\n",
    "\n",
    "print(\"You have the following authors on your bookshelf:\")\n",
    "for author in set(bookshelf.values()):\n",
    "    print(author.title())"
   ]
  },
  {
   "cell_type": "markdown",
   "metadata": {},
   "source": [
    "At line 10 we have wrapped _set()_ around _bookshelf.values()_. Using _set()_, Python identifies the unique items in the list and creates a set from them. A set is a collection of items where each item must be unique.\n",
    "\n",
    "> Sets can be created directly using curly braces and separating each element within with commas"
   ]
  },
  {
   "cell_type": "code",
   "execution_count": 30,
   "metadata": {},
   "outputs": [
    {
     "data": {
      "text/plain": [
       "{'caesar', 'in the name of rome', 'the fall of carthage'}"
      ]
     },
     "execution_count": 30,
     "metadata": {},
     "output_type": "execute_result"
    }
   ],
   "source": [
    "books = {'caesar', 'in the name of rome', 'the fall of carthage'}\n",
    "books"
   ]
  },
  {
   "cell_type": "markdown",
   "metadata": {},
   "source": [
    "> How do you know when you're working with a set and not a dictionary? When you are dealing with sets there will be no key-value pairs"
   ]
  },
  {
   "cell_type": "markdown",
   "metadata": {},
   "source": [
    "## Exercises\n",
    "\n",
    "-Rewrite the code below to loop through the dictionary that displays its, keys and values.\n",
    "\n",
    "    - employee_001 = {'name' : 'tony staunton', 'salary' : 20000 }\n",
    "\n",
    "    - print(employee_001['name'])\n",
    "    - print(employee_001['salary'])\n",
    "\n",
    "- Create a dictionary of books that you have read. Use a loop to print out a sentence about each book\n",
    "- Use a loop to print only the name of the books in your dictionary\n",
    "- Use a loop to print out the books authors\n",
    "\n",
    "## Nesting\n",
    "\n",
    "It is possible and sometimes necessary to store several dictionaries in a list, or a list of items as a value within a dictionary. In Python this is called nesting. You can nest dictionaries inside a list, a list of items inside a dictionary, or nest a dictionary within another dictionary.\n",
    "\n",
    "### A list of dictionaries\n",
    "\n",
    "When we started learning about dictionaries we wrote a dictionary called _employee_001_. What happens if we have more than one employee? Can how we manage the details of 100 employees. One way is make a list of employees that holds each employee as a dictionary of information about that employee. Let's take a look:"
   ]
  },
  {
   "cell_type": "code",
   "execution_count": 31,
   "metadata": {},
   "outputs": [
    {
     "name": "stdout",
     "output_type": "stream",
     "text": [
      "{'name': 'tony staunton', 'salary': 20000}\n",
      "{'name': 'jane smith', 'salary': 30000}\n",
      "{'name': 'mary jones', 'salary': 40000}\n"
     ]
    }
   ],
   "source": [
    "employee_001 = {'name' : 'tony staunton', 'salary' : 20000}\n",
    "employee_002 = {'name' : 'jane smith', 'salary' : 30000}\n",
    "employee_003 = {'name' : 'mary jones', 'salary' : 40000}\n",
    "\n",
    "employees = [employee_001, employee_002, employee_003]\n",
    "\n",
    "for employee in employees:\n",
    "    print(employee)"
   ]
  },
  {
   "cell_type": "markdown",
   "metadata": {},
   "source": [
    "In this example we have first created three dictionaries at lines 1, 2, and 3. At line 5 we store each of these dictionaries in a list called _employees_. We then loop through the list and print out each employee."
   ]
  },
  {
   "cell_type": "code",
   "execution_count": 33,
   "metadata": {},
   "outputs": [
    {
     "name": "stdout",
     "output_type": "stream",
     "text": [
      "{'color': 'black', 'transmission': 'automatic', 'engine type': 'electric'}\n",
      "{'color': 'black', 'transmission': 'automatic', 'engine type': 'electric'}\n",
      "{'color': 'black', 'transmission': 'automatic', 'engine type': 'electric'}\n",
      "{'color': 'black', 'transmission': 'automatic', 'engine type': 'electric'}\n",
      "{'color': 'black', 'transmission': 'automatic', 'engine type': 'electric'}\n",
      "{'color': 'black', 'transmission': 'automatic', 'engine type': 'electric'}\n",
      "{'color': 'black', 'transmission': 'automatic', 'engine type': 'electric'}\n",
      "{'color': 'black', 'transmission': 'automatic', 'engine type': 'electric'}\n",
      "{'color': 'black', 'transmission': 'automatic', 'engine type': 'electric'}\n",
      "{'color': 'black', 'transmission': 'automatic', 'engine type': 'electric'}\n",
      "{'color': 'black', 'transmission': 'automatic', 'engine type': 'electric'}\n",
      "{'color': 'black', 'transmission': 'automatic', 'engine type': 'electric'}\n",
      "{'color': 'black', 'transmission': 'automatic', 'engine type': 'electric'}\n",
      "{'color': 'black', 'transmission': 'automatic', 'engine type': 'electric'}\n",
      "{'color': 'black', 'transmission': 'automatic', 'engine type': 'electric'}\n",
      "{'color': 'black', 'transmission': 'automatic', 'engine type': 'electric'}\n",
      "{'color': 'black', 'transmission': 'automatic', 'engine type': 'electric'}\n",
      "{'color': 'black', 'transmission': 'automatic', 'engine type': 'electric'}\n",
      "{'color': 'black', 'transmission': 'automatic', 'engine type': 'electric'}\n",
      "{'color': 'black', 'transmission': 'automatic', 'engine type': 'electric'}\n",
      "...\n",
      "Total number of cars: 50\n"
     ]
    }
   ],
   "source": [
    "# Create an empty list of cars\n",
    "cars_for_sale = []\n",
    "\n",
    "# Create 50 cars\n",
    "for car_number in range(50):\n",
    "    new_car = {'color' : 'black', 'transmission' : 'automatic', 'engine type' : 'electric'}\n",
    "    cars_for_sale.append(new_car)\n",
    "    \n",
    "# Display the first 10 cars\n",
    "for car in cars_for_sale[:20]:\n",
    "    print(car)\n",
    "print(\"...\")\n",
    "\n",
    "# Show total number of cars that have been created\n",
    "print(f\"Total number of cars: {len(cars_for_sale)}\")\n",
    "    "
   ]
  },
  {
   "cell_type": "markdown",
   "metadata": {},
   "source": [
    "In this code example we create an empty list at line 2. This list will hold all of the cars that we are about to create. At line 5 we use _range()_ which generates a series of numbers that tells Python how many times to repeat the loop. Each time the loop runs, a new car is created at line 6, which is then appended to the list _cars_for_sale_ at line 7. At line 10, we use a slice to print the first 10 cars. At line 15 we print the length of the list to show that 50 cars have actually been printed.\n",
    "\n",
    "Each car that is created has the same characteristics but Python treats them as individual and separate objects. This allows us to modify each car individually if necessary.\n",
    "\n",
    "Imagine you have a computer game that needs 50, 100 or 1000 cars? This could be one method that you use to easily and quickly create them. \n",
    "\n",
    "How might we work with this group of cars to change some of cars color from black to navy? Or change the engine type from electric to petrol. Let's take a look:"
   ]
  },
  {
   "cell_type": "code",
   "execution_count": 34,
   "metadata": {},
   "outputs": [
    {
     "name": "stdout",
     "output_type": "stream",
     "text": [
      "{'color': 'navy', 'transmission': 'automatic', 'engine type': 'petrol'}\n",
      "{'color': 'navy', 'transmission': 'automatic', 'engine type': 'petrol'}\n",
      "{'color': 'navy', 'transmission': 'automatic', 'engine type': 'petrol'}\n",
      "{'color': 'navy', 'transmission': 'automatic', 'engine type': 'petrol'}\n",
      "{'color': 'navy', 'transmission': 'automatic', 'engine type': 'petrol'}\n",
      "{'color': 'black', 'transmission': 'automatic', 'engine type': 'electric'}\n",
      "{'color': 'black', 'transmission': 'automatic', 'engine type': 'electric'}\n",
      "{'color': 'black', 'transmission': 'automatic', 'engine type': 'electric'}\n",
      "{'color': 'black', 'transmission': 'automatic', 'engine type': 'electric'}\n",
      "{'color': 'black', 'transmission': 'automatic', 'engine type': 'electric'}\n",
      "...\n"
     ]
    }
   ],
   "source": [
    "# Create an empty list of cars to manufacture\n",
    "cars = []\n",
    "\n",
    "# Create 50 cars\n",
    "for car_number in range(50):\n",
    "    new_car = {'color' : 'black', 'transmission' : 'automatic', 'engine type' : 'electric'}\n",
    "    cars.append(new_car)\n",
    "    \n",
    "for car in cars[:5]:\n",
    "    if car['color'] == 'black':\n",
    "        car['color'] = 'navy'\n",
    "        car['engine type'] = 'petrol'\n",
    "        \n",
    "# Display the first 10 cars\n",
    "for car in cars[:10]:\n",
    "    print(car)\n",
    "print(\"...\")"
   ]
  },
  {
   "cell_type": "markdown",
   "metadata": {},
   "source": [
    "We only want to modify the first 5 cars, so at line 9 we loop through a slice that includes only the first 5. We then write an _if_ statement to make sure that we are modifying only black cars. If a car is black, we change it to navy and its engine type to 'petrol'. We then display the first 10 cars to show that only the first 5 have been modified.\n",
    "\n",
    "In Python it is common to store a number of dictionaries in a list with each dictionary containing lots of different information. For example, books by category, products, or customers.\n",
    "\n",
    "### A list in a dictionary\n",
    "\n",
    "It can sometimes be useful to put a list inside a dictionary rather than putting a dictionary insides a list which is what our previous examples have been doing. If we were to continue with this method all we can really store in our dictionaries are lists about employee's or books or car. But with a dictionary a list of employees can be just one aspect of our employee management system. Imagine you have an employee directory which lists all your employees. You click on one name to view more details. Let's take a look:"
   ]
  },
  {
   "cell_type": "code",
   "execution_count": 35,
   "metadata": {},
   "outputs": [
    {
     "name": "stdout",
     "output_type": "stream",
     "text": [
      "Employee Tony Staunton's company profile is as follows:\n",
      "\n",
      "- manager\n",
      "\n",
      "- 4 years of experience\n",
      "\n",
      "- developer\n"
     ]
    }
   ],
   "source": [
    "# Store information about employees\n",
    "employees = {\n",
    "    'name' : 'tony staunton',\n",
    "    'profile' : ['manager', '4 years of experience', 'developer'],\n",
    "}\n",
    "\n",
    "# Output employee information\n",
    "print(f\"Employee {employees['name'].title()}'s company profile is as follows:\")\n",
    "\n",
    "for detail in employees['profile']:\n",
    "    print(f\"\\n- {detail}\")"
   ]
  },
  {
   "cell_type": "markdown",
   "metadata": {},
   "source": [
    "At line 2 we create a dictionary called _employees_ that holds information about a particular employee. One key of this dictionary is _'name'_, and its associated value is _'tony staunton'_. The next key is _'profile'_, which has a list that stores all of the relevant details about this employee.\n",
    "\n",
    "At line 8 we have a _print_ statement that displays the employee name before showing us his profile.\n",
    "\n",
    "At line 10 we print out the profile of the employee. To access the list of the profile, we use the key _'profile'_, and Python takes the list from the dictionary.\n",
    "\n",
    "The best time to nest a list inside a dictionary is when you want more than one value to be associated with a single key in a dictionary. Let's take a look at another example:"
   ]
  },
  {
   "cell_type": "code",
   "execution_count": 36,
   "metadata": {},
   "outputs": [
    {
     "name": "stdout",
     "output_type": "stream",
     "text": [
      "\n",
      "Tony Staunton's company profile:\n",
      "\t- manager\n",
      "\t- developer\n",
      "\t- 4 years exerience\n",
      "\n",
      "Jane Smith's company profile:\n",
      "\t- senior manager\n",
      "\t- tester\n",
      "\t- 8 years expereince\n",
      "\n",
      "Frank Jones's company profile:\n",
      "\t- graduate\n",
      "\t- business analyst\n",
      "\t- 1 years expereince\n"
     ]
    }
   ],
   "source": [
    "employees = {\n",
    "    'tony staunton' : ['manager', 'developer', '4 years exerience'],\n",
    "    'jane smith' : ['senior manager', 'tester', '8 years expereince'],\n",
    "    'frank jones' : ['graduate', 'business analyst', '1 years expereince']\n",
    "}\n",
    "\n",
    "for name, details in employees.items():\n",
    "    print(f\"\\n{name.title()}'s company profile:\")\n",
    "    for detail in details:\n",
    "        print(f\"\\t- {detail}\")"
   ]
  },
  {
   "cell_type": "markdown",
   "metadata": {},
   "source": [
    "At line 1 we create a new dictionary called _employees_. In this dictionary the names of employees are keys and their details are stored in lists which are the values to each key. At line 7 we begin to loop through the dictionary. We have two variable names, _name_ and _details_. We use the variable _details_ to hold each value from the dictionary, because we know that each value will be a list. \n",
    "\n",
    "We have another _for_ loop at line 9, which sits inside the main dictionary loop. This loop runs through the details of each employee. We could expand the list of details for each employee to hold as much information as we needed. \n",
    "\n",
    "### A dictionary in a dictionary\n",
    "\n",
    "We can also nest a dictionary within another dictionary. For example we could have a bookshelf with 500 books, each book has a unique title, we could use the title as the keys in the dictionary. We could then store information about each book by using a dictionary as the value associated with the title. Let's take a look:"
   ]
  },
  {
   "cell_type": "code",
   "execution_count": 37,
   "metadata": {},
   "outputs": [
    {
     "name": "stdout",
     "output_type": "stream",
     "text": [
      "\n",
      "Title: Geting Things Done\n",
      "\tAuthor: David Allen\n",
      "\tGenre: Productivity\n",
      "\tRead: Yes\n",
      "\n",
      "Title: Steve Jobs\n",
      "\tAuthor: Walter Isaacson\n",
      "\tGenre: Biography\n",
      "\tRead: Yes\n"
     ]
    }
   ],
   "source": [
    "bookshelf = {\n",
    "    'geting things done' : {\n",
    "        'author' : 'david allen',\n",
    "        'genre' : 'productivity',\n",
    "        'read' : 'yes',\n",
    "    },\n",
    "    \n",
    "    'steve jobs' : {\n",
    "        'author' : 'walter isaacson',\n",
    "        'genre' : 'biography',\n",
    "        'read' : 'yes'\n",
    "    },\n",
    "}\n",
    "\n",
    "for title, book_info in bookshelf.items():\n",
    "    print(f\"\\nTitle: {title.title()}\")\n",
    "    author = book_info['author']\n",
    "    genre = book_info['genre']\n",
    "    read = book_info['read']\n",
    "    \n",
    "    print(f\"\\tAuthor: {author.title()}\")\n",
    "    print(f\"\\tGenre: {genre.title()}\")\n",
    "    print(f\"\\tRead: {read.title()}\")"
   ]
  },
  {
   "cell_type": "markdown",
   "metadata": {},
   "source": [
    "In this code example we have store three pieces of information about a book within individual dictionaries, which are themselves inside a dictionary. We access this information by looping through the book titles and the dictionary of information associated with each title.\n",
    "\n",
    "At line 1 we define a dictionary called _bookshelf_. This dictionary has two keys, _'getting things done'_ and _'steve jobs_'. The value associated with each key is a dictionary that includes the book's author, genre, and if it has been read or not.\n",
    "\n",
    "At line 15 we loop through the _bookshelf_ dictionary. Python assigns each key to the variable _title_, and the dictionary associated with each title is assigned to the variable _book_info_. At line 16 we print the book title.\n",
    "\n",
    "At line 17 we start accessing the inner dictionary. The variable _book_info_ which contains book information has three keys: _'author'_, _'genre'_, and _'read'_. We use each key to generate formatted information about each book, which we then print out to the screen.\n",
    "\n",
    "The structure of each dictionary is identical which is not required by Python but makes them easier to work with.\n",
    "\n",
    "## Exercises\n",
    "\n",
    "- Create several dictionaries, each one representing an animal. In each dictionary include the kind of animal and if it land or water based and if it is capable of flying. Store these dictionaries in list called animals. Loop through your list and print out the details of each animal.\n",
    "\n",
    "- Create dictionary of your favorite places. Think of three place names to use as keys in the dictionary, and then store information about your favorite place as the values. Loop through the dictionary and print the keys and values to the screen in a sentence like 'My favorite place is Dublin. It is my favorite place because....'\n",
    "\n",
    "- Go back through dictionary code examples and pick one for you to copy, modify and run. Perhaps instead of a _bookshelf_ dictionary you have stamps, or cars, or Lego. "
   ]
  }
 ],
 "metadata": {
  "kernelspec": {
   "display_name": "Python 3 (ipykernel)",
   "language": "python",
   "name": "python3"
  },
  "language_info": {
   "codemirror_mode": {
    "name": "ipython",
    "version": 3
   },
   "file_extension": ".py",
   "mimetype": "text/x-python",
   "name": "python",
   "nbconvert_exporter": "python",
   "pygments_lexer": "ipython3",
   "version": "3.9.12"
  },
  "varInspector": {
   "cols": {
    "lenName": 16,
    "lenType": 16,
    "lenVar": 40
   },
   "kernels_config": {
    "python": {
     "delete_cmd_postfix": "",
     "delete_cmd_prefix": "del ",
     "library": "var_list.py",
     "varRefreshCmd": "print(var_dic_list())"
    },
    "r": {
     "delete_cmd_postfix": ") ",
     "delete_cmd_prefix": "rm(",
     "library": "var_list.r",
     "varRefreshCmd": "cat(var_dic_list()) "
    }
   },
   "types_to_exclude": [
    "module",
    "function",
    "builtin_function_or_method",
    "instance",
    "_Feature"
   ],
   "window_display": false
  }
 },
 "nbformat": 4,
 "nbformat_minor": 4
}
