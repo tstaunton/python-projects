{
 "cells": [
  {
   "cell_type": "markdown",
   "metadata": {},
   "source": [
    "# Introduction\n",
    "\n",
    "How do you write programs that can make decisions? As a Python programmer a lot of your time coding will be spent writing programs that receive, and examine information and then determine what action to take based on that information. Python's __if__ statement allows you to write programs that respond in a predetermined way based on current information of condition within your programs. \n",
    "\n",
    "In this and the next several lessons we are going to be writing conditional tests, which will allow you to check any condition within your programs."
   ]
  },
  {
   "cell_type": "code",
   "execution_count": 1,
   "metadata": {},
   "outputs": [
    {
     "name": "stdout",
     "output_type": "stream",
     "text": [
      "Paper\n",
      "Pen\n",
      "Notepad\n",
      "Marker * Item currently out of stock *\n",
      "Highlighter\n"
     ]
    }
   ],
   "source": [
    "order_013678 = ['paper', 'pen', 'notepad', 'marker', 'highlighter']\n",
    "\n",
    "for order in order_013678:\n",
    "    if order == 'marker':\n",
    "        print(order.title(), \"* Item currently out of stock *\")\n",
    "    else:\n",
    "        print(order.title())"
   ]
  },
  {
   "cell_type": "markdown",
   "metadata": {},
   "source": [
    "In this brief example our program has responded to the condition that a customer order has one item that is out of stock. Imagine you have an online stationary business and a customer has just placed an order with you for, paper, pen, notepad, marker and highlighter. They reach the checkout of your website and they are asked to review and confirm their order. They see the message that one item is out of stock and so they select a different item instead.\n",
    "\n",
    " - At line one we have created a new variable which is a random customer order number. We then assign a list of items to that variable.\n",
    " - At line three we define a __for__ loop\n",
    " - At line four our loop checks if the current value of __order__ is 'marker'. If it is then the out of stock message is printed alongside it. If the value is anything other thank 'marker' it is printed out.\n",
    " \n",
    " Let's continue this lesson by looking at __conditional tests__.\n",
    " \n",
    " ## Conditional tests\n",
    " \n",
    " Every __if__ statement needs an expression to be evaluated to __True__ or __False__. This is called a __conditional test__. In Python, when an __if__ statement evaluates to __True__ or __False__  it uses these values to decide whether the code of an __if__ statement should be executed. If a conditional test is True, Python executes the code following the __if__ statement. If the test evaluates to __False__, Python will ignore the code following the __if__ statement.\n",
    " \n",
    "### Checking for equality\n",
    "\n",
    "Checking for equality is the act of comparing the current value of a variable to a specific value of interest. For example the login email address of a website customer:"
   ]
  },
  {
   "cell_type": "code",
   "execution_count": 14,
   "metadata": {},
   "outputs": [
    {
     "data": {
      "text/plain": [
       "True"
      ]
     },
     "execution_count": 14,
     "metadata": {},
     "output_type": "execute_result"
    }
   ],
   "source": [
    "email_address = 'tony@example.com'\n",
    "email_address == 'tony@example.com'"
   ]
  },
  {
   "cell_type": "markdown",
   "metadata": {},
   "source": [
    "In the example above we have first assigned the email address 'tony@example.com' to the variable __email_address__. This is done using the equals symbol (=). At line two we check if the value of __email_address__ is 'tony@example.com'. We do this using a double equals symbol (==). This symbol is called the __equality_operator__ and it returns __True__ if the value on its left matches the value on its right. If they don't match then it returns __False__."
   ]
  },
  {
   "cell_type": "code",
   "execution_count": 16,
   "metadata": {},
   "outputs": [
    {
     "data": {
      "text/plain": [
       "False"
      ]
     },
     "execution_count": 16,
     "metadata": {},
     "output_type": "execute_result"
    }
   ],
   "source": [
    "email_address = 'tony@example.com'\n",
    "email_address == 'frank@example.com'"
   ]
  },
  {
   "cell_type": "markdown",
   "metadata": {},
   "source": [
    "### Ignoring case when checking for equality\n",
    "\n",
    "When testing for equality in Python remember that it is case sensitive. For example:"
   ]
  },
  {
   "cell_type": "code",
   "execution_count": 17,
   "metadata": {},
   "outputs": [
    {
     "data": {
      "text/plain": [
       "False"
      ]
     },
     "execution_count": 17,
     "metadata": {},
     "output_type": "execute_result"
    }
   ],
   "source": [
    "name = 'tony'\n",
    "name == 'Tony'"
   ]
  },
  {
   "cell_type": "code",
   "execution_count": 18,
   "metadata": {},
   "outputs": [
    {
     "data": {
      "text/plain": [
       "True"
      ]
     },
     "execution_count": 18,
     "metadata": {},
     "output_type": "execute_result"
    }
   ],
   "source": [
    "name = 'Tony'\n",
    "name == 'Tony'"
   ]
  },
  {
   "cell_type": "markdown",
   "metadata": {},
   "source": [
    "We've all used our email address to login to a website or application. Sometimes, the first initial is automatically capitalized so that 't' of tony@example.com becomes Tony@example.com. Yet the website or application still allows us to login. How is this? As we have seen in the two examples above 't' is not the same as 'T'. When creating the login features of a website or application case should not matter. Let's take a look:"
   ]
  },
  {
   "cell_type": "code",
   "execution_count": 19,
   "metadata": {},
   "outputs": [
    {
     "data": {
      "text/plain": [
       "True"
      ]
     },
     "execution_count": 19,
     "metadata": {},
     "output_type": "execute_result"
    }
   ],
   "source": [
    "email_address = 'Tony@example.com'\n",
    "email_address.lower() == 'tony@example.com'"
   ]
  },
  {
   "cell_type": "markdown",
   "metadata": {},
   "source": [
    "In this example we assign the capitalized email address 'Tony@example.com' to the variable __email_address__. At line two we use Python's __lower()__ function to lower any capitalized letter in __email_address__. We then compare the lowercase email address to 'tony@example.com. The two email addresses match so Python returns __True__.\n",
    "\n",
    "The __lower__ function doesn't change the value that was originally in __email_address__, which means that this comparison does not affect the original variable.\n",
    "\n",
    "There are multiple examples where this type of comparison takes place, such as login forms of websites and applications\n",
    "\n",
    "### Checking for inequality\n",
    "\n",
    "Now that we know how to check if two values are equal to one another, how do we check when they are not equal? To do this we combine an exclamation mark (!) with an equals symbol (=). In Python as in many programming languages the exclamation mark represents __not__. Let's look at an example:"
   ]
  },
  {
   "cell_type": "code",
   "execution_count": 20,
   "metadata": {},
   "outputs": [
    {
     "name": "stdout",
     "output_type": "stream",
     "text": [
      "Your birthday is not this month!\n"
     ]
    }
   ],
   "source": [
    "my_birthday = 'november'\n",
    "\n",
    "if my_birthday != 'march':\n",
    "    print('Your birthday is not this month!')"
   ]
  },
  {
   "cell_type": "markdown",
   "metadata": {},
   "source": [
    "In this example the code at line 3 compares the value of __my_birthday__ to the value of 'march'. If these two values do not match, Python returns __True__ and executes the code after the __if__ statement. If the two values were to match, Python would return __False__ and would not run the code following the __if__ statement.\n",
    "\n",
    "In our example the value of __my_birthday__ is not (!=) 'march' and so the print function is executed.\n",
    "\n",
    "### Numerical comparisons\n",
    "\n",
    "Let's now learn how to test numbers:"
   ]
  },
  {
   "cell_type": "code",
   "execution_count": 21,
   "metadata": {},
   "outputs": [
    {
     "data": {
      "text/plain": [
       "True"
      ]
     },
     "execution_count": 21,
     "metadata": {},
     "output_type": "execute_result"
    }
   ],
   "source": [
    "age = 21\n",
    "age == 21"
   ]
  },
  {
   "cell_type": "markdown",
   "metadata": {},
   "source": [
    "We can test to see if two numbers are not equal to each other. "
   ]
  },
  {
   "cell_type": "code",
   "execution_count": 23,
   "metadata": {},
   "outputs": [
    {
     "name": "stdout",
     "output_type": "stream",
     "text": [
      "Incorrect code. Two attempts remaining.\n"
     ]
    }
   ],
   "source": [
    "unlock_code = 21\n",
    "\n",
    "if unlock_code != 40:\n",
    "    print(\"Incorrect code. Two attempts remaining.\")"
   ]
  },
  {
   "cell_type": "markdown",
   "metadata": {},
   "source": [
    "Image you have a phone that requires a two digit PIN code to unlock it. In the example above a user has entered the unlock code 21 into the phone. At line 3 the conditional test passes because the value of __unlock_code__ is not equal (!=) to 40. Because the test passes the print statement is executed informing the user that the PIN code entered is incorrect. \n",
    "\n",
    "We can also use mathematical operators in our conditional statements. These operators include, less than (<), less than or equal to <=), greater than (>), and greater than or equal to (>=). Let's take a look:"
   ]
  },
  {
   "cell_type": "code",
   "execution_count": 24,
   "metadata": {},
   "outputs": [
    {
     "data": {
      "text/plain": [
       "True"
      ]
     },
     "execution_count": 24,
     "metadata": {},
     "output_type": "execute_result"
    }
   ],
   "source": [
    "age = 18\n",
    "age < 21"
   ]
  },
  {
   "cell_type": "code",
   "execution_count": 25,
   "metadata": {},
   "outputs": [
    {
     "data": {
      "text/plain": [
       "True"
      ]
     },
     "execution_count": 25,
     "metadata": {},
     "output_type": "execute_result"
    }
   ],
   "source": [
    "age = 18\n",
    "age <= 21"
   ]
  },
  {
   "cell_type": "code",
   "execution_count": 26,
   "metadata": {},
   "outputs": [
    {
     "data": {
      "text/plain": [
       "False"
      ]
     },
     "execution_count": 26,
     "metadata": {},
     "output_type": "execute_result"
    }
   ],
   "source": [
    "age = 18\n",
    "age > 21"
   ]
  },
  {
   "cell_type": "code",
   "execution_count": 27,
   "metadata": {},
   "outputs": [
    {
     "data": {
      "text/plain": [
       "False"
      ]
     },
     "execution_count": 27,
     "metadata": {},
     "output_type": "execute_result"
    }
   ],
   "source": [
    "age = 18\n",
    "age >= 21"
   ]
  },
  {
   "cell_type": "markdown",
   "metadata": {},
   "source": [
    "## Checking multiple conditions\n",
    "\n",
    "There will be times when you need to check several conditions at the same time. For example, you may be writing a program that requires two conditions to be __True__, username and password, in order to perform an action. There may be times when you have two conditions and only one needs to be __True__ to perform an action. \n",
    "\n",
    "### Using and to check multiple conditions\n",
    "\n",
    "To check if two conditions are both __True__ at the same time we use the __and__ keyword. This keyword allow us to combine two conditional tests. If each test passes, then the overall expression will return true. If either test fails or if both tests fail then the expression will return false. Let's take a look:"
   ]
  },
  {
   "cell_type": "code",
   "execution_count": 1,
   "metadata": {},
   "outputs": [
    {
     "data": {
      "text/plain": [
       "False"
      ]
     },
     "execution_count": 1,
     "metadata": {},
     "output_type": "execute_result"
    }
   ],
   "source": [
    "age_1 = 16\n",
    "age_2 = 18\n",
    "\n",
    "age_1 >= 18 and age_2 >= 18"
   ]
  },
  {
   "cell_type": "markdown",
   "metadata": {},
   "source": [
    "In the code example above we defined two age variables, __age_1__ and __age_2__. At line 4 we check if both ages are 18 or older. As __age_1__ is not greater than or equal to 18 the overall expression returns false. Let's take a look at another example:"
   ]
  },
  {
   "cell_type": "code",
   "execution_count": 3,
   "metadata": {},
   "outputs": [
    {
     "data": {
      "text/plain": [
       "True"
      ]
     },
     "execution_count": 3,
     "metadata": {},
     "output_type": "execute_result"
    }
   ],
   "source": [
    "age_1 = 19\n",
    "age_2 = 20\n",
    "\n",
    "age_1 >= 18 and age_2 >= 18"
   ]
  },
  {
   "cell_type": "markdown",
   "metadata": {},
   "source": [
    "In this example we have another two age variables, __age_1__ and __age_2__. This time both variables are over 18. The expression on line 4 checks if __age_1__ and __age_2__ are greater than or equal to 18. As both variables are the expression returns __True__.\n",
    "\n",
    "### Using or to check multiple conditions\n",
    "\n",
    "We can also check multiple conditions using the __or__ keyword. This keyword will allow an expression to return __True__ when either one or both tests pass. An __or__ expression will fail only when both individual tests fail. Let's take a look at an example:"
   ]
  },
  {
   "cell_type": "code",
   "execution_count": 4,
   "metadata": {},
   "outputs": [
    {
     "data": {
      "text/plain": [
       "True"
      ]
     },
     "execution_count": 4,
     "metadata": {},
     "output_type": "execute_result"
    }
   ],
   "source": [
    "age_1 = 20\n",
    "age_2 = 17\n",
    "\n",
    "age_1 >= 18 or age_2 >= 18"
   ]
  },
  {
   "cell_type": "markdown",
   "metadata": {},
   "source": [
    "Again we have two age variables. Our test at line 4 checks to see if __age_1__ or __age_2__ is greater than or equal to 18. As only one test passes our expression returns __True__. Let's look at two failing tests:"
   ]
  },
  {
   "cell_type": "code",
   "execution_count": 5,
   "metadata": {},
   "outputs": [
    {
     "data": {
      "text/plain": [
       "False"
      ]
     },
     "execution_count": 5,
     "metadata": {},
     "output_type": "execute_result"
    }
   ],
   "source": [
    "age_1 = 17\n",
    "age_2 = 16\n",
    "\n",
    "age_1 >= 18 or age_2 >= 18"
   ]
  },
  {
   "cell_type": "markdown",
   "metadata": {},
   "source": [
    "### Is a value in a list\n",
    "\n",
    "We've looked at lists quite a bit during previous lessons. Let's revisit them again and this time learn how to check if a value is in a list. Why would this be necessary? You could have a website that allows customers to sign up with a username. All current usernames are stored on a list and to prevent duplication you want to check if a new username already exists.\n",
    "\n",
    "To perform this check we use the keyword __in__. Let's take a look:"
   ]
  },
  {
   "cell_type": "code",
   "execution_count": 1,
   "metadata": {},
   "outputs": [
    {
     "data": {
      "text/plain": [
       "True"
      ]
     },
     "execution_count": 1,
     "metadata": {},
     "output_type": "execute_result"
    }
   ],
   "source": [
    "customers = ['tstaunton', 'jsmith', 'fmurphy']\n",
    "'tstaunton' in customers"
   ]
  },
  {
   "cell_type": "code",
   "execution_count": 2,
   "metadata": {},
   "outputs": [
    {
     "data": {
      "text/plain": [
       "False"
      ]
     },
     "execution_count": 2,
     "metadata": {},
     "output_type": "execute_result"
    }
   ],
   "source": [
    "customers = ['tstaunton', 'jsmith', 'fmurphy']\n",
    "'frank001' in customers"
   ]
  },
  {
   "cell_type": "markdown",
   "metadata": {},
   "source": [
    "In the two examples above we use the __in__ keyword to tell Python to scan the lists, __customers__, and check if 'tstaunton' or 'frank001' is in them. As you can see in example one our code returns __True__ and in example two our code returns __False__.\n",
    "\n",
    "### Checking if a value is not in a list\n",
    "\n",
    "As well as checking if a value is in a list, it is also helpful to know how to check if a value is not in a list. Let's take a look:"
   ]
  },
  {
   "cell_type": "code",
   "execution_count": 4,
   "metadata": {},
   "outputs": [
    {
     "name": "stdout",
     "output_type": "stream",
     "text": [
      "gray car, this car is in stock.\n"
     ]
    }
   ],
   "source": [
    "not_for_sale = ['red car', 'blue car', 'green car']\n",
    "for_sale = 'gray car'\n",
    "\n",
    "if for_sale not in not_for_sale:\n",
    "    print(f\"{for_sale}, this car is in stock.\")"
   ]
  },
  {
   "cell_type": "markdown",
   "metadata": {},
   "source": [
    "In this example, if the value of __for_sale__ is not in the list __not_for_sale__, Python returns __True__ and executes the print statement.\n",
    "\n",
    "### Booleans\n",
    "\n",
    "So far we've been using conditional tests to make our programs return __True__ or __False__ depending on the state of the program. Another term for conditional tests is __Boolean expressions__. A __boolean value__ can be __True__ or __False__. Boolean values are an efficient way to track the state of a program or a particular condition that is of importance to your program.\n",
    "\n",
    "## Exercises\n",
    "\n",
    "- Write two conditional test that creates a number guessing game for your user. Have each test return __True__ and __False__. \n",
    "- Did you use a string or an integer to represent your number? Change your code to use the opposite\n",
    "- Edit your code to test using the __lower()__ method\n",
    "- Write another guessing game this time using greater than, less than, greater than or equal to, and less than or equal to"
   ]
  },
  {
   "cell_type": "code",
   "execution_count": 7,
   "metadata": {},
   "outputs": [
    {
     "name": "stdout",
     "output_type": "stream",
     "text": [
      "Is your number seven?\n",
      "True\n"
     ]
    }
   ],
   "source": [
    "my_number = 'seven'\n",
    "print(\"Is your number seven?\")\n",
    "print(my_number == 'seven')"
   ]
  },
  {
   "cell_type": "markdown",
   "metadata": {},
   "source": [
    "## If statements\n",
    "\n",
    "We've already seen and used __if__ statements but there are several different kind of __if__ statement. Which one you choose to use depends on the number of conditions that you need to test. Let's take a look:\n",
    "\n",
    "### If statements"
   ]
  },
  {
   "cell_type": "code",
   "execution_count": 8,
   "metadata": {},
   "outputs": [
    {
     "name": "stdout",
     "output_type": "stream",
     "text": [
      "You are old enough to vote!\n"
     ]
    }
   ],
   "source": [
    "age = 18\n",
    "if age >= 18:\n",
    "    print(\"You are old enough to vote!\")"
   ]
  },
  {
   "cell_type": "markdown",
   "metadata": {},
   "source": [
    "We've seen this __if__ statement before. At line 2 Python checks to see whether the value of __age__ is greater than or equal to 18. If the condition is True, execute the __print__ statement, which it does! If the test failed this program would do nothing.\n",
    "\n",
    "Just as it did with __for__ loops, indentation plays an important part of __if__ statements. \n",
    "\n",
    "if conditional_test:<br/>\n",
    "</t>execute code\n",
    "\n",
    "All indented lines after an __if__ statement will be executed if the test passes. If the test fails all indented lines will be ignored. You can have as many lines of code as you like in the block following an __if__ statement."
   ]
  },
  {
   "cell_type": "code",
   "execution_count": 9,
   "metadata": {},
   "outputs": [
    {
     "name": "stdout",
     "output_type": "stream",
     "text": [
      "You are old enough to drive.\n",
      "Do you have a license?\n"
     ]
    }
   ],
   "source": [
    "age = 16\n",
    "\n",
    "if age >= 16:\n",
    "    print(\"You are old enough to drive.\")\n",
    "    print(\"Do you have a license?\")"
   ]
  },
  {
   "cell_type": "markdown",
   "metadata": {},
   "source": [
    "In this code example the conditional test passes and so the code block that follows it is executed. If the test failed nothing would be output and the program would stop.\n",
    "\n",
    "### if-else statements"
   ]
  },
  {
   "cell_type": "code",
   "execution_count": 1,
   "metadata": {},
   "outputs": [
    {
     "name": "stdout",
     "output_type": "stream",
     "text": [
      "Sorry you are not old enogh to drive.\n"
     ]
    }
   ],
   "source": [
    "age = 15\n",
    "\n",
    "if age >= 16:\n",
    "    print(\"You are old enough to drive.\")\n",
    "else:\n",
    "    print(\"Sorry you are not old enogh to drive.\")"
   ]
  },
  {
   "cell_type": "markdown",
   "metadata": {},
   "source": [
    "In this code example, we have defined a variable, __age__, at line 1. We then check if this variable is greater than or equal to 16, if it is then our program executes a __print__ statement. What's different about this code is that we have added an __else__ block at line 5. If the test __age >= 16__ were to fail the __else__ block would execute. In this example the test does fail and so the __else__ block does execute.\n",
    "\n",
    "Combing an __if__ statement with an __else__ statement allows our programs to perform one action when a test passes and a different action when it doesn't. In Python this syntax is called an __if-else__ block. It's very similar to an __if__ statement but the addition of the __else__ statement allows us to define an action or a set of actions that are executed when the condition fails.\n",
    "\n",
    "The __if-else__ block works very well when you want to execute one of two possible actions.\n",
    "\n",
    "- If __True__ then do X\n",
    "- If __False__ then do Y\n",
    "\n",
    "### if-elif-else chain\n",
    "\n",
    "As we discussed the __if-else__ block works very well in situations that require your programs to execute one of two possible actions. But you are going to need to test more than two possible actions and when you do you can use Python's __if-elif-else__ syntax. In an __if-elif-else__ chain Python runs each conditional test in order until one passes. Let's take a look:"
   ]
  },
  {
   "cell_type": "code",
   "execution_count": 1,
   "metadata": {},
   "outputs": [
    {
     "name": "stdout",
     "output_type": "stream",
     "text": [
      "Please contact your manager\n"
     ]
    }
   ],
   "source": [
    "years_of_service = 2\n",
    "\n",
    "if years_of_service <= 1:\n",
    "    print(\"Your bonus is $50.\")\n",
    "elif years_of_service <= 5:\n",
    "    print(\"Your bonus is $100\")\n",
    "else:\n",
    "    print(\"Please contact your manager\")"
   ]
  },
  {
   "cell_type": "markdown",
   "metadata": {},
   "source": [
    "The __if__ test at line 3 tests if an employee has been with the company for 1 year or less. If the test passes, the $50 bonus message is printed out and Python will skip the rest of the program. At line 5 we have the __elif__ keyword, this is another __if__ test which will run if the first test fails. When Python reaches line 5 it knows that the employee has worked with the company for more than 1 year. If the second test succeeds, which means that the employee is with the company less than 5 years but more than one, the $100 bonus message is printed out and the __else__ block is ignored. If the tests at lines 3 and 5 fail then Python will the code at line 7, the __else__ block.\n",
    "\n",
    "In this example, the test at line 3 fails, so Python moves to line 5 and this test succeeds and runs the __print__ statement at line 6.\n",
    "\n",
    "Go ahead and edit the number at line 1 so that the print statement on line 8 is executed.\n",
    "\n",
    "There is a way to make this example more efficient:"
   ]
  },
  {
   "cell_type": "code",
   "execution_count": 1,
   "metadata": {},
   "outputs": [
    {
     "name": "stdout",
     "output_type": "stream",
     "text": [
      "You bonus is $50.\n"
     ]
    }
   ],
   "source": [
    "years_of_service = 1\n",
    "\n",
    "if years_of_service <= 1:\n",
    "    bonus = 50\n",
    "elif years_of_service <= 5:\n",
    "    bonus = 100\n",
    "else:\n",
    "    bonus = \"yet to be confirmed. Please contact your manager.\"\n",
    "    \n",
    "print(f\"You bonus is ${bonus}.\")"
   ]
  },
  {
   "cell_type": "markdown",
   "metadata": {},
   "source": [
    "In this example we set the value of an employees bonus at lines 4, 6 and 8. With the bonus now set within the __if-elif-else__ chain, we have an unindented __print()__ statement at line 10. This print statement will receive the correct bonus value and print it to the screen. This is code is simpler and easier to maintain.\n",
    "\n",
    "### Multiple elif blocks\n",
    "\n",
    "The bonus example above is very limited. But Python allows us to us as many __elif__ blocks as required. Let's update the bonus example: "
   ]
  },
  {
   "cell_type": "code",
   "execution_count": 5,
   "metadata": {},
   "outputs": [
    {
     "name": "stdout",
     "output_type": "stream",
     "text": [
      "For 20 years of service, your bonus is $200.\n"
     ]
    }
   ],
   "source": [
    "years_of_service = 20\n",
    "\n",
    "if years_of_service <= 1:\n",
    "    bonus = 50\n",
    "elif years_of_service <= 3:\n",
    "    bonus = 100\n",
    "elif years_of_service <= 5:\n",
    "    bonus = 150\n",
    "else:\n",
    "    bonus = 200\n",
    "    \n",
    "print(f\"For {years_of_service} years of service, your bonus is ${bonus}.\")"
   ]
  },
  {
   "cell_type": "markdown",
   "metadata": {},
   "source": [
    "This is a nice little piece of code. Let's walk-through it:\n",
    "\n",
    "- At line 1 we define a variable called 'years_of_service' and give this variable the value of 4\n",
    "- Our first test is at line 3, and tests to see of the 'years_of_service' variable is less than or equal to 1, if so the bonus of 50 is applied\n",
    "- The second test at line 5, checks if the 'years_of_service' variable is less then or equal to 3, and if so apply a bonus of 100\n",
    "- The third test at line 7, checks if the 'years_of_service' variable is less then or equal to 5, and if so apply a bonus of 150\n",
    "- The __else__ block at line 9 is a catch-all. If the three tests above fail then Python knows that your years of service is greater than 5 and so applies a bonus of 200.\n",
    "- Finally at line 12 we have a __print__ statement which will output output the value of the variable 'years_of_service' with the correct bonus amount. \n",
    "\n",
    "Python does not require an __else__ block at the end of an __if_elif__ chain. Sometimes using an __else__ block is useful and sometimes it is not. It may be easier and make for more readable code to use an additional __elif__ statement that will catch the necessary condition. Let's take a look at what I mean:"
   ]
  },
  {
   "cell_type": "code",
   "execution_count": 6,
   "metadata": {},
   "outputs": [
    {
     "name": "stdout",
     "output_type": "stream",
     "text": [
      "For 20 years of service, your bonus is $200.\n"
     ]
    }
   ],
   "source": [
    "years_of_service = 20\n",
    "\n",
    "if years_of_service <= 1:\n",
    "    bonus = 50\n",
    "elif years_of_service <= 3:\n",
    "    bonus = 100\n",
    "elif years_of_service <= 5:\n",
    "    bonus = 150\n",
    "elif years_of_service > 5:\n",
    "    bonus = 200\n",
    "    \n",
    "print(f\"For {years_of_service} years of service, your bonus is ${bonus}.\")"
   ]
  },
  {
   "cell_type": "markdown",
   "metadata": {},
   "source": [
    "Now at line 9 any employee with 'years_of_service' greater than 5 will be awarded a bonus of 200.\n",
    "\n",
    "When possible it is better to use an __elif__ block in your code rather than the __else__ block. Why? The __elif__ block will match a specific condition in your code, in this case greater then 5. Whereas the __else__ block is a catch-all and can lead to unexpected results.\n",
    "\n",
    "### Testing multiple conditions\n",
    "\n",
    "The examples we have just seen are very helpful, and powerful and will be appropriate for many situations when you need just one test to pass. \n",
    "\n",
    "But what happens when you need your program to check __all__ conditions? When you require this, you should use a series of __if__ statements with no __elif__ or __else__ blocks. This technique is used when more then one condition could be __True__ and you need to act on every condition that is __True__. Let's take a look:"
   ]
  },
  {
   "cell_type": "code",
   "execution_count": 7,
   "metadata": {},
   "outputs": [
    {
     "name": "stdout",
     "output_type": "stream",
     "text": [
      "Adding heated seats to car order.\n",
      "Adding parking sensor to car order.\n",
      "Adding leather seats to car order.\n",
      "\n",
      "Car order is ready for review by customer.\n"
     ]
    }
   ],
   "source": [
    "car_extras = ['heated seats', 'parking sensor', 'leather seats']\n",
    "\n",
    "if 'heated seats' in car_extras:\n",
    "    print(\"Adding heated seats to car order.\")\n",
    "if 'parking sensor' in car_extras:\n",
    "    print(\"Adding parking sensor to car order.\")\n",
    "if 'leather seats' in car_extras:\n",
    "    print(\"Adding leather seats to car order.\")\n",
    "    \n",
    "print(\"\\nCar order is ready for review by customer.\")"
   ]
  },
  {
   "cell_type": "markdown",
   "metadata": {},
   "source": [
    "In this code example we have a list at line 1, which contains additional extras requested by a customer who is purchasing a car. The __if__ statement at line 3 checks to see whether the customer added heated seats to their car order. If they did a confirmation message is printed out. The test for parking sensor at line 5 is an __if__ statement, obviously not an __elif__ or __else__ statement. This test will run whether the previous test passed or not. The test at line 7 checks whether leather seats were requested by the customer, this check is performed no matter the outcome of the previous two tests. So, we have three independent tests which are executed every time the program is run.  \n",
    "\n",
    "This code would not work correctly or produce the expected results if we used __elif__ or __else__ statements in our code.\n",
    "\n",
    "If you want only one block of code to run, use an __if-elif-else__ chain. If more than one block of code needs to be run, use a series of independent __if__ statements.\n",
    "\n",
    "## Exercises\n",
    "\n",
    "- Write an __if__ statement to check if it is going to rain. If it is then print the message 'Don't forget your umbrella'.\n",
    "- What happens when this program fails? can you modify it so that even if the test for rain fails a message is printed?\n",
    "- Write a program that provides a variable with the assigned value of the current day of the week. For example, when you are doing this exercise if it is Saturday then assign the value of 'saturday' to the variable 'day_of_week'\n",
    "    - If the day of the week is Monday, Tuesday, Wednesday, Thursday, Friday, output a message to say it's a weekday\n",
    "    - If the day of the week is Saturday or Sunday, output a message to say it's the weekend\n",
    "    - Use an __if_elif_else__ chain to complete this exercise\n",
    "    - Can you improve on this program?\n",
    "- "
   ]
  },
  {
   "cell_type": "code",
   "execution_count": 9,
   "metadata": {},
   "outputs": [
    {
     "name": "stdout",
     "output_type": "stream",
     "text": [
      "It's the weekend.\n"
     ]
    }
   ],
   "source": [
    "day_of_week = 'saturday'\n",
    "\n",
    "if day_of_week == 'saturday':\n",
    "    print('It\\'s the weekend.')\n",
    "elif day_of_week == 'sunday':\n",
    "    print('It\\'s the weekend.')\n",
    "else:\n",
    "    print('It\\'s a weekday.')"
   ]
  },
  {
   "cell_type": "markdown",
   "metadata": {},
   "source": [
    "## Using if statements with lists\n",
    "\n",
    "When we start to combine __if__ statements with __lists__ we give our programs more options and power. We can monitor for specific values, we can manage changing conditions and much more.\n",
    "\n",
    "### Checking for special items\n",
    "\n",
    "For the next example let's imagine a calendar application that manages our days of the week and our schedule. Whenever an item is added to your calendar by a colleague a message appears. Let's take a look:"
   ]
  },
  {
   "cell_type": "code",
   "execution_count": 12,
   "metadata": {},
   "outputs": [
    {
     "name": "stdout",
     "output_type": "stream",
     "text": [
      "A new meeting has been added for Monday.\n",
      "A new meeting has been added for Tuesday.\n",
      "A new meeting has been added for Wednesday.\n",
      "A new meeting has been added for Thursday.\n",
      "A new meeting has been added for Friday.\n",
      "A new meeting has been added for Saturday.\n",
      "A new meeting has been added for Sunday.\n",
      "Here is your schedule\n"
     ]
    }
   ],
   "source": [
    "days_of_week = ['monday', 'tuesday', 'wednesday', 'thursday', 'friday', 'saturday', 'sunday']\n",
    "\n",
    "for day in days_of_week:\n",
    "    print(f\"A new meeting has been added for {day.title()}.\")\n",
    "    \n",
    "print(\"Here is your schedule\")"
   ]
  },
  {
   "cell_type": "markdown",
   "metadata": {},
   "source": [
    "Simple enough, but we don't want to be working on the weekends. How Might we change this example to make sure don't work on either Saturday or Sunday? We could simply remove Saturday and Sunday from the list but then this would not make for a very good calendar application if we could only schedule items for weekdays. Let's take a look:"
   ]
  },
  {
   "cell_type": "code",
   "execution_count": 35,
   "metadata": {},
   "outputs": [
    {
     "name": "stdout",
     "output_type": "stream",
     "text": [
      "A new meeting has been added for Monday.\n",
      "A new meeting has been added for Tuesday.\n",
      "A new meeting has been added for Wednesday.\n",
      "A new meeting has been added for Thursday.\n",
      "A new meeting has been added for Friday.\n",
      "Sorry Weekends are not avaiable for appointments.\n",
      "Sorry Weekends are not avaiable for appointments.\n"
     ]
    }
   ],
   "source": [
    "days_of_week = ['monday', 'tuesday', 'wednesday', 'thursday', 'friday', 'saturday', 'sunday']\n",
    "\n",
    "for day in days_of_week:\n",
    "    if day == 'saturday' or day == 'sunday':\n",
    "        print(\"Sorry Weekends are not avaiable for appointments.\")\n",
    "    else:\n",
    "        print(f\"A new meeting has been added for {day.title()}.\")\n",
    "    \n"
   ]
  },
  {
   "cell_type": "markdown",
   "metadata": {},
   "source": [
    "This is a nice, powerful piece of code so let's step through it:\n",
    "\n",
    "- As before, at line 1 we have a list containing the days of the week\n",
    "- At line 3 we have a __for__ loop which iterates over the list __days_of__week__ and assigns each item of the list to the variable __day__\n",
    "- At line 4 we check to see if the variable __day__ is equal to Saturday of Sunday and if it is print out a message.\n",
    "- At line 6 the __else__ block continues adding meeting to our schedule\n",
    "\n",
    "There is a lot more that can be added and improved in this program. Why don't you experiment with it a little?\n",
    "\n",
    "### Checking that a list is not empty\n",
    "\n",
    "So far every list that we have worked with has contained items in it. But what happens when a list is empty and why would we have an empty list? Imagine on your website you have the option allow users to sign-up to your newsletter. In the beginning the list of subscribers would be empty but would become populated at visitors to your website subscribed. Let's take a look:"
   ]
  },
  {
   "cell_type": "code",
   "execution_count": 39,
   "metadata": {},
   "outputs": [
    {
     "name": "stdout",
     "output_type": "stream",
     "text": [
      "No subscribers yet.\n"
     ]
    }
   ],
   "source": [
    "email_subscribers = []\n",
    "\n",
    "if email_subscribers:\n",
    "    for subscriber in email_subscribers:\n",
    "        print(f\"{subscriber}, thank you for subscribing to my newsletter.\")\n",
    "else:\n",
    "    print(\"No subscribers yet.\")"
   ]
  },
  {
   "cell_type": "markdown",
   "metadata": {},
   "source": [
    "In this example, we start out with an empty list at line 1. At line 3 we have an __if__ statement. In Python, when the name of a list is used in an __if__ statement, it returns __True__ if the list contains at least one item and returns __False__ if the list is empty.\n",
    "\n",
    "If __email_subscribers__ passes the conditional test the __for__ loop at line 5 is executed. If the conditional test fails a message is printed telling us that we have no subscribers.\n",
    "\n",
    "The list is empty which means the conditional test at line 3 fails, the __for__ loop at line 4 is not executed and the __print__ statement at line 7 is run.\n",
    "\n",
    "If the list were not empty, subscribers to our email list would be printed to the screen. If you want go ahead and add some email addresses to the list 'email_subscribers'.\n",
    "\n",
    "### Using multiple lists\n",
    "\n",
    "In our previous calendar example the code was a bit clunky. Let's see how we can improve that example by using multiple lists."
   ]
  },
  {
   "cell_type": "code",
   "execution_count": 48,
   "metadata": {},
   "outputs": [
    {
     "name": "stdout",
     "output_type": "stream",
     "text": [
      "Saturday is open for appointments.\n",
      "Sorry, Sunday is not available for appointments.\n",
      "Sorry, Wednesday is not available for appointments.\n",
      "Monday is open for appointments.\n",
      "\n",
      "Thank you\n"
     ]
    }
   ],
   "source": [
    "available_days = ['monday', 'tuesday', 'thursday', 'saturday']\n",
    "requested_days = ['saturday', 'sunday', 'wednesday', 'monday']\n",
    "\n",
    "for day in requested_days:\n",
    "    if day in available_days:\n",
    "        print(f\"{day.title()} is open for appointments.\")\n",
    "    else:\n",
    "        print(f\"Sorry, {day.title()} is not available for appointments.\")\n",
    "print(\"\\nThank you\")"
   ]
  },
  {
   "cell_type": "markdown",
   "metadata": {},
   "source": [
    "In this example we define a list of days that available to make appointments at line 1. It's worth pointing out that if list of days never changed then you could define this as a tuple rather than a list.\n",
    "\n",
    "Next, we define a list of days that someone has requested to make an appointment on.\n",
    "\n",
    "At line 4 we loop through the list of requested days. Inside the loop, we first check to see if each requested day is in the list of available days, this is done at line 5. If it is, we make this day available for an appointment to the user. If the requested day is not in the list of available days, the __else__ block at line 7 is executed. This block prints a message informing the user that the requested day is unavailable for appointments. Phew!\n",
    "\n",
    "## Exercises\n",
    "\n",
    "- Make a list of the days of the week. Write a piece of code that will print a greeting that includes the day of the week. Loop through the list and print another greeting that says 'tomorrow is...'\n",
    "- If the day of the week is a Saturday or Sunday, print a message that tells the users it's the weekend\n",
    "- Otherwise print a greeting that says it's a weekday\n",
    "- To the program you have just created, add an __if__ test to make sure the list of days of the week is not empty\n",
    "- If the list is empty print a message\n",
    "- Remove all the elements from the list and make sure that the correct message is printed out\n",
    "- Make a list of days of the week that you have been requested for appointments, meetings or lectures\n",
    "- Make another list of days during the week that you are unavailable for appointments, be sure that days of the week from this list are also in your list of requested days\n",
    "- Loop through the unavailable list to see if any element is included in the requested list. If it has, print a message informing the user that you are unavailable for appointments on that day. If a day of the week is available print a message to the user letting them know.\n",
    "- Make sure your lists are case sensitive. 'Monday' and 'monday' should be the same day of the week. A customer should not be able to book an appointment on 'Monday' and 'monday'."
   ]
  }
 ],
 "metadata": {
  "kernelspec": {
   "display_name": "Python 3",
   "language": "python",
   "name": "python3"
  },
  "language_info": {
   "codemirror_mode": {
    "name": "ipython",
    "version": 3
   },
   "file_extension": ".py",
   "mimetype": "text/x-python",
   "name": "python",
   "nbconvert_exporter": "python",
   "pygments_lexer": "ipython3",
   "version": "3.8.3"
  },
  "varInspector": {
   "cols": {
    "lenName": 16,
    "lenType": 16,
    "lenVar": 40
   },
   "kernels_config": {
    "python": {
     "delete_cmd_postfix": "",
     "delete_cmd_prefix": "del ",
     "library": "var_list.py",
     "varRefreshCmd": "print(var_dic_list())"
    },
    "r": {
     "delete_cmd_postfix": ") ",
     "delete_cmd_prefix": "rm(",
     "library": "var_list.r",
     "varRefreshCmd": "cat(var_dic_list()) "
    }
   },
   "types_to_exclude": [
    "module",
    "function",
    "builtin_function_or_method",
    "instance",
    "_Feature"
   ],
   "window_display": false
  }
 },
 "nbformat": 4,
 "nbformat_minor": 4
}
